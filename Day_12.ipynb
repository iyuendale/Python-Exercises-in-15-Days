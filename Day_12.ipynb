{
 "cells": [
  {
   "cell_type": "markdown",
   "id": "95ac3b10",
   "metadata": {},
   "source": [
    "# Day 12: Pandas"
   ]
  },
  {
   "cell_type": "markdown",
   "id": "393d33c9",
   "metadata": {},
   "source": [
    "- https://pandas.pydata.org/\n",
    "- https://pandas.pydata.org/docs/getting_started/index.html"
   ]
  },
  {
   "cell_type": "code",
   "execution_count": 2,
   "id": "7d3efb80",
   "metadata": {},
   "outputs": [],
   "source": [
    "import pandas as pd\n",
    "import numpy as np"
   ]
  },
  {
   "cell_type": "markdown",
   "id": "710db488",
   "metadata": {},
   "source": [
    "### Example Questions"
   ]
  },
  {
   "cell_type": "markdown",
   "id": "0aff5cd6",
   "metadata": {},
   "source": [
    "Q1. Create a Pandas Series from a Python list and perform basic operations like filtering, sorting, etc."
   ]
  },
  {
   "cell_type": "code",
   "execution_count": 8,
   "id": "9cc8c0e8",
   "metadata": {},
   "outputs": [
    {
     "name": "stdout",
     "output_type": "stream",
     "text": [
      "Series: \n",
      "0    4\n",
      "1    8\n",
      "2    9\n",
      "3    2\n",
      "4    5\n",
      "5    7\n",
      "dtype: int64\n",
      "Filter by index:\n",
      "0    4\n",
      "2    9\n",
      "4    5\n",
      "dtype: int64\n",
      "Sort by values:\n",
      "3    2\n",
      "0    4\n",
      "4    5\n",
      "5    7\n",
      "1    8\n",
      "2    9\n",
      "dtype: int64\n",
      "Power of 2:\n",
      "0    16\n",
      "1    64\n",
      "2    81\n",
      "3     4\n",
      "4    25\n",
      "5    49\n",
      "dtype: int64\n"
     ]
    }
   ],
   "source": [
    "nums = [4, 8, 9, 2, 5, 7]\n",
    "ser_nums = pd.Series(nums)\n",
    "print(f\"Series: \\n{ser_nums}\")\n",
    "print(f\"Filter by index:\\n{ser_nums.filter(items= [0, 2, 4, 6])}\")\n",
    "print(f\"Sort by values:\\n{ser_nums.sort_values()}\")\n",
    "print(f\"Power of 2:\\n{ser_nums.pow(2)}\")"
   ]
  },
  {
   "cell_type": "markdown",
   "id": "cfcf4285",
   "metadata": {},
   "source": [
    "Q2. Read a CSV file into a Pandas DataFrame and perform basic data manipulation operations."
   ]
  },
  {
   "cell_type": "code",
   "execution_count": 9,
   "id": "0e003c69",
   "metadata": {},
   "outputs": [
    {
     "name": "stdout",
     "output_type": "stream",
     "text": [
      "<class 'pandas.core.frame.DataFrame'>\n",
      "RangeIndex: 20 entries, 0 to 19\n",
      "Data columns (total 5 columns):\n",
      " #   Column      Non-Null Count  Dtype \n",
      "---  ------      --------------  ----- \n",
      " 0   Name        20 non-null     object\n",
      " 1   Age         20 non-null     int64 \n",
      " 2   Department  20 non-null     object\n",
      " 3   Position    20 non-null     object\n",
      " 4   Salary      20 non-null     int64 \n",
      "dtypes: int64(2), object(3)\n",
      "memory usage: 932.0+ bytes\n"
     ]
    },
    {
     "data": {
      "application/vnd.microsoft.datawrangler.viewer.v0+json": {
       "columns": [
        {
         "name": "index",
         "rawType": "int64",
         "type": "integer"
        },
        {
         "name": "Name",
         "rawType": "object",
         "type": "string"
        },
        {
         "name": "Age",
         "rawType": "int64",
         "type": "integer"
        },
        {
         "name": "Department",
         "rawType": "object",
         "type": "string"
        },
        {
         "name": "Position",
         "rawType": "object",
         "type": "string"
        },
        {
         "name": "Salary",
         "rawType": "int64",
         "type": "integer"
        }
       ],
       "conversionMethod": "pd.DataFrame",
       "ref": "202623ca-ad8a-4a1c-a9c8-8664268d04cf",
       "rows": [
        [
         "0",
         "John Doe",
         "29",
         "Engineering",
         "Software Engineer",
         "75000"
        ],
        [
         "1",
         "Jane Smith",
         "34",
         "Marketing",
         "Marketing Manager",
         "68000"
        ],
        [
         "2",
         "Alice Johnson",
         "28",
         "HR",
         "HR Specialist",
         "52000"
        ],
        [
         "3",
         "Bob Brown",
         "45",
         "Finance",
         "Accountant",
         "60000"
        ],
        [
         "4",
         "Charlie Davis",
         "31",
         "Engineering",
         "DevOps Engineer",
         "80000"
        ]
       ],
       "shape": {
        "columns": 5,
        "rows": 5
       }
      },
      "text/html": [
       "<div>\n",
       "<style scoped>\n",
       "    .dataframe tbody tr th:only-of-type {\n",
       "        vertical-align: middle;\n",
       "    }\n",
       "\n",
       "    .dataframe tbody tr th {\n",
       "        vertical-align: top;\n",
       "    }\n",
       "\n",
       "    .dataframe thead th {\n",
       "        text-align: right;\n",
       "    }\n",
       "</style>\n",
       "<table border=\"1\" class=\"dataframe\">\n",
       "  <thead>\n",
       "    <tr style=\"text-align: right;\">\n",
       "      <th></th>\n",
       "      <th>Name</th>\n",
       "      <th>Age</th>\n",
       "      <th>Department</th>\n",
       "      <th>Position</th>\n",
       "      <th>Salary</th>\n",
       "    </tr>\n",
       "  </thead>\n",
       "  <tbody>\n",
       "    <tr>\n",
       "      <th>0</th>\n",
       "      <td>John Doe</td>\n",
       "      <td>29</td>\n",
       "      <td>Engineering</td>\n",
       "      <td>Software Engineer</td>\n",
       "      <td>75000</td>\n",
       "    </tr>\n",
       "    <tr>\n",
       "      <th>1</th>\n",
       "      <td>Jane Smith</td>\n",
       "      <td>34</td>\n",
       "      <td>Marketing</td>\n",
       "      <td>Marketing Manager</td>\n",
       "      <td>68000</td>\n",
       "    </tr>\n",
       "    <tr>\n",
       "      <th>2</th>\n",
       "      <td>Alice Johnson</td>\n",
       "      <td>28</td>\n",
       "      <td>HR</td>\n",
       "      <td>HR Specialist</td>\n",
       "      <td>52000</td>\n",
       "    </tr>\n",
       "    <tr>\n",
       "      <th>3</th>\n",
       "      <td>Bob Brown</td>\n",
       "      <td>45</td>\n",
       "      <td>Finance</td>\n",
       "      <td>Accountant</td>\n",
       "      <td>60000</td>\n",
       "    </tr>\n",
       "    <tr>\n",
       "      <th>4</th>\n",
       "      <td>Charlie Davis</td>\n",
       "      <td>31</td>\n",
       "      <td>Engineering</td>\n",
       "      <td>DevOps Engineer</td>\n",
       "      <td>80000</td>\n",
       "    </tr>\n",
       "  </tbody>\n",
       "</table>\n",
       "</div>"
      ],
      "text/plain": [
       "            Name  Age   Department           Position  Salary\n",
       "0       John Doe   29  Engineering  Software Engineer   75000\n",
       "1     Jane Smith   34    Marketing  Marketing Manager   68000\n",
       "2  Alice Johnson   28           HR      HR Specialist   52000\n",
       "3      Bob Brown   45      Finance         Accountant   60000\n",
       "4  Charlie Davis   31  Engineering    DevOps Engineer   80000"
      ]
     },
     "execution_count": 9,
     "metadata": {},
     "output_type": "execute_result"
    }
   ],
   "source": [
    "df = pd.read_csv(\"data/day_12/employees.csv\")\n",
    "df.info()\n",
    "df.head()"
   ]
  },
  {
   "cell_type": "code",
   "execution_count": null,
   "id": "f79c45a9",
   "metadata": {},
   "outputs": [
    {
     "data": {
      "text/plain": [
       "Department\n",
       "Engineering    6\n",
       "Finance        4\n",
       "HR             3\n",
       "Marketing      4\n",
       "Sales          3\n",
       "Name: Name, dtype: int64"
      ]
     },
     "execution_count": 13,
     "metadata": {},
     "output_type": "execute_result"
    }
   ],
   "source": [
    "df[\"Name\"].groupby(df[\"Department\"]).count()"
   ]
  },
  {
   "cell_type": "code",
   "execution_count": 15,
   "id": "f90810a9",
   "metadata": {},
   "outputs": [
    {
     "data": {
      "text/plain": [
       "Name          0\n",
       "Age           0\n",
       "Department    0\n",
       "Position      0\n",
       "Salary        0\n",
       "dtype: int64"
      ]
     },
     "execution_count": 15,
     "metadata": {},
     "output_type": "execute_result"
    }
   ],
   "source": [
    "df.isnull().sum()"
   ]
  },
  {
   "cell_type": "markdown",
   "id": "710d134b",
   "metadata": {},
   "source": [
    "Q3. Create a Pandas DataFrame from a dictionary and perform filtering and grouping operations."
   ]
  },
  {
   "cell_type": "code",
   "execution_count": 18,
   "id": "fe2d1e59",
   "metadata": {},
   "outputs": [
    {
     "data": {
      "application/vnd.microsoft.datawrangler.viewer.v0+json": {
       "columns": [
        {
         "name": "index",
         "rawType": "int64",
         "type": "integer"
        },
        {
         "name": "Name",
         "rawType": "object",
         "type": "string"
        },
        {
         "name": "Age",
         "rawType": "int64",
         "type": "integer"
        },
        {
         "name": "Department",
         "rawType": "object",
         "type": "string"
        },
        {
         "name": "Position",
         "rawType": "object",
         "type": "string"
        },
        {
         "name": "Salary",
         "rawType": "int64",
         "type": "integer"
        }
       ],
       "conversionMethod": "pd.DataFrame",
       "ref": "21edad7f-9787-4d56-9d27-57a39d18f9c1",
       "rows": [
        [
         "0",
         "John Doe",
         "29",
         "Engineering",
         "Software Engineer",
         "75000"
        ],
        [
         "1",
         "Jane Smith",
         "34",
         "Marketing",
         "Marketing Manager",
         "68000"
        ],
        [
         "2",
         "Alice Johnson",
         "28",
         "HR",
         "HR Specialist",
         "52000"
        ],
        [
         "3",
         "Bob Brown",
         "45",
         "Finance",
         "Accountant",
         "60000"
        ],
        [
         "4",
         "Charlie Davis",
         "31",
         "Engineering",
         "DevOps Engineer",
         "80000"
        ],
        [
         "5",
         "Emily White",
         "26",
         "Sales",
         "Sales Representative",
         "45000"
        ],
        [
         "6",
         "Frank Harris",
         "39",
         "Engineering",
         "Team Lead",
         "90000"
        ],
        [
         "7",
         "Grace Lee",
         "30",
         "Marketing",
         "Content Writer",
         "50000"
        ]
       ],
       "shape": {
        "columns": 5,
        "rows": 8
       }
      },
      "text/html": [
       "<div>\n",
       "<style scoped>\n",
       "    .dataframe tbody tr th:only-of-type {\n",
       "        vertical-align: middle;\n",
       "    }\n",
       "\n",
       "    .dataframe tbody tr th {\n",
       "        vertical-align: top;\n",
       "    }\n",
       "\n",
       "    .dataframe thead th {\n",
       "        text-align: right;\n",
       "    }\n",
       "</style>\n",
       "<table border=\"1\" class=\"dataframe\">\n",
       "  <thead>\n",
       "    <tr style=\"text-align: right;\">\n",
       "      <th></th>\n",
       "      <th>Name</th>\n",
       "      <th>Age</th>\n",
       "      <th>Department</th>\n",
       "      <th>Position</th>\n",
       "      <th>Salary</th>\n",
       "    </tr>\n",
       "  </thead>\n",
       "  <tbody>\n",
       "    <tr>\n",
       "      <th>0</th>\n",
       "      <td>John Doe</td>\n",
       "      <td>29</td>\n",
       "      <td>Engineering</td>\n",
       "      <td>Software Engineer</td>\n",
       "      <td>75000</td>\n",
       "    </tr>\n",
       "    <tr>\n",
       "      <th>1</th>\n",
       "      <td>Jane Smith</td>\n",
       "      <td>34</td>\n",
       "      <td>Marketing</td>\n",
       "      <td>Marketing Manager</td>\n",
       "      <td>68000</td>\n",
       "    </tr>\n",
       "    <tr>\n",
       "      <th>2</th>\n",
       "      <td>Alice Johnson</td>\n",
       "      <td>28</td>\n",
       "      <td>HR</td>\n",
       "      <td>HR Specialist</td>\n",
       "      <td>52000</td>\n",
       "    </tr>\n",
       "    <tr>\n",
       "      <th>3</th>\n",
       "      <td>Bob Brown</td>\n",
       "      <td>45</td>\n",
       "      <td>Finance</td>\n",
       "      <td>Accountant</td>\n",
       "      <td>60000</td>\n",
       "    </tr>\n",
       "    <tr>\n",
       "      <th>4</th>\n",
       "      <td>Charlie Davis</td>\n",
       "      <td>31</td>\n",
       "      <td>Engineering</td>\n",
       "      <td>DevOps Engineer</td>\n",
       "      <td>80000</td>\n",
       "    </tr>\n",
       "    <tr>\n",
       "      <th>5</th>\n",
       "      <td>Emily White</td>\n",
       "      <td>26</td>\n",
       "      <td>Sales</td>\n",
       "      <td>Sales Representative</td>\n",
       "      <td>45000</td>\n",
       "    </tr>\n",
       "    <tr>\n",
       "      <th>6</th>\n",
       "      <td>Frank Harris</td>\n",
       "      <td>39</td>\n",
       "      <td>Engineering</td>\n",
       "      <td>Team Lead</td>\n",
       "      <td>90000</td>\n",
       "    </tr>\n",
       "    <tr>\n",
       "      <th>7</th>\n",
       "      <td>Grace Lee</td>\n",
       "      <td>30</td>\n",
       "      <td>Marketing</td>\n",
       "      <td>Content Writer</td>\n",
       "      <td>50000</td>\n",
       "    </tr>\n",
       "  </tbody>\n",
       "</table>\n",
       "</div>"
      ],
      "text/plain": [
       "            Name  Age   Department              Position  Salary\n",
       "0       John Doe   29  Engineering     Software Engineer   75000\n",
       "1     Jane Smith   34    Marketing     Marketing Manager   68000\n",
       "2  Alice Johnson   28           HR         HR Specialist   52000\n",
       "3      Bob Brown   45      Finance            Accountant   60000\n",
       "4  Charlie Davis   31  Engineering       DevOps Engineer   80000\n",
       "5    Emily White   26        Sales  Sales Representative   45000\n",
       "6   Frank Harris   39  Engineering             Team Lead   90000\n",
       "7      Grace Lee   30    Marketing        Content Writer   50000"
      ]
     },
     "execution_count": 18,
     "metadata": {},
     "output_type": "execute_result"
    }
   ],
   "source": [
    "employee_details = [\n",
    "    {\"Name\": \"John Doe\", \"Age\": 29, \"Department\": \"Engineering\", \"Position\": \"Software Engineer\", \"Salary\": 75000},\n",
    "    {\"Name\": \"Jane Smith\", \"Age\": 34, \"Department\": \"Marketing\", \"Position\": \"Marketing Manager\", \"Salary\": 68000},\n",
    "    {\"Name\": \"Alice Johnson\", \"Age\": 28, \"Department\": \"HR\", \"Position\": \"HR Specialist\", \"Salary\": 52000},\n",
    "    {\"Name\": \"Bob Brown\", \"Age\": 45, \"Department\": \"Finance\", \"Position\": \"Accountant\", \"Salary\": 60000},\n",
    "    {\"Name\": \"Charlie Davis\", \"Age\": 31, \"Department\": \"Engineering\", \"Position\": \"DevOps Engineer\", \"Salary\": 80000},\n",
    "    {\"Name\": \"Emily White\", \"Age\": 26, \"Department\": \"Sales\", \"Position\": \"Sales Representative\", \"Salary\": 45000},\n",
    "    {\"Name\": \"Frank Harris\", \"Age\": 39, \"Department\": \"Engineering\", \"Position\": \"Team Lead\", \"Salary\": 90000},\n",
    "    {\"Name\": \"Grace Lee\", \"Age\": 30, \"Department\": \"Marketing\", \"Position\": \"Content Writer\", \"Salary\": 50000},\n",
    "]\n",
    "\n",
    "emp_df = pd.DataFrame.from_dict(employee_details)\n",
    "emp_df"
   ]
  },
  {
   "cell_type": "code",
   "execution_count": null,
   "id": "457250ad",
   "metadata": {},
   "outputs": [
    {
     "name": "stdout",
     "output_type": "stream",
     "text": [
      "\u001b[1;31mSignature:\u001b[0m\n",
      "\u001b[0mdf\u001b[0m\u001b[1;33m.\u001b[0m\u001b[0mfilter\u001b[0m\u001b[1;33m(\u001b[0m\u001b[1;33m\n",
      "\u001b[0m    \u001b[0mitems\u001b[0m\u001b[1;33m=\u001b[0m\u001b[1;32mNone\u001b[0m\u001b[1;33m,\u001b[0m\u001b[1;33m\n",
      "\u001b[0m    \u001b[0mlike\u001b[0m\u001b[1;33m:\u001b[0m \u001b[1;34m'str | None'\u001b[0m \u001b[1;33m=\u001b[0m \u001b[1;32mNone\u001b[0m\u001b[1;33m,\u001b[0m\u001b[1;33m\n",
      "\u001b[0m    \u001b[0mregex\u001b[0m\u001b[1;33m:\u001b[0m \u001b[1;34m'str | None'\u001b[0m \u001b[1;33m=\u001b[0m \u001b[1;32mNone\u001b[0m\u001b[1;33m,\u001b[0m\u001b[1;33m\n",
      "\u001b[0m    \u001b[0maxis\u001b[0m\u001b[1;33m:\u001b[0m \u001b[1;34m'Axis | None'\u001b[0m \u001b[1;33m=\u001b[0m \u001b[1;32mNone\u001b[0m\u001b[1;33m,\u001b[0m\u001b[1;33m\n",
      "\u001b[0m\u001b[1;33m)\u001b[0m \u001b[1;33m->\u001b[0m \u001b[1;34m'Self'\u001b[0m\u001b[1;33m\u001b[0m\u001b[1;33m\u001b[0m\u001b[0m\n",
      "\u001b[1;31mDocstring:\u001b[0m\n",
      "Subset the dataframe rows or columns according to the specified index labels.\n",
      "\n",
      "Note that this routine does not filter a dataframe on its\n",
      "contents. The filter is applied to the labels of the index.\n",
      "\n",
      "Parameters\n",
      "----------\n",
      "items : list-like\n",
      "    Keep labels from axis which are in items.\n",
      "like : str\n",
      "    Keep labels from axis for which \"like in label == True\".\n",
      "regex : str (regular expression)\n",
      "    Keep labels from axis for which re.search(regex, label) == True.\n",
      "axis : {0 or 'index', 1 or 'columns', None}, default None\n",
      "    The axis to filter on, expressed either as an index (int)\n",
      "    or axis name (str). By default this is the info axis, 'columns' for\n",
      "    DataFrame. For `Series` this parameter is unused and defaults to `None`.\n",
      "\n",
      "Returns\n",
      "-------\n",
      "same type as input object\n",
      "\n",
      "See Also\n",
      "--------\n",
      "DataFrame.loc : Access a group of rows and columns\n",
      "    by label(s) or a boolean array.\n",
      "\n",
      "Notes\n",
      "-----\n",
      "The ``items``, ``like``, and ``regex`` parameters are\n",
      "enforced to be mutually exclusive.\n",
      "\n",
      "``axis`` defaults to the info axis that is used when indexing\n",
      "with ``[]``.\n",
      "\n",
      "Examples\n",
      "--------\n",
      ">>> df = pd.DataFrame(np.array(([1, 2, 3], [4, 5, 6])),\n",
      "...                   index=['mouse', 'rabbit'],\n",
      "...                   columns=['one', 'two', 'three'])\n",
      ">>> df\n",
      "        one  two  three\n",
      "mouse     1    2      3\n",
      "rabbit    4    5      6\n",
      "\n",
      ">>> # select columns by name\n",
      ">>> df.filter(items=['one', 'three'])\n",
      "         one  three\n",
      "mouse     1      3\n",
      "rabbit    4      6\n",
      "\n",
      ">>> # select columns by regular expression\n",
      ">>> df.filter(regex='e$', axis=1)\n",
      "         one  three\n",
      "mouse     1      3\n",
      "rabbit    4      6\n",
      "\n",
      ">>> # select rows containing 'bbi'\n",
      ">>> df.filter(like='bbi', axis=0)\n",
      "         one  two  three\n",
      "rabbit    4    5      6\n",
      "\u001b[1;31mFile:\u001b[0m      c:\\users\\iyuel\\anaconda3\\envs\\ds_env\\lib\\site-packages\\pandas\\core\\generic.py\n",
      "\u001b[1;31mType:\u001b[0m      method"
     ]
    }
   ],
   "source": [
    "df.filter"
   ]
  }
 ],
 "metadata": {
  "kernelspec": {
   "display_name": "ds_env",
   "language": "python",
   "name": "python3"
  },
  "language_info": {
   "codemirror_mode": {
    "name": "ipython",
    "version": 3
   },
   "file_extension": ".py",
   "mimetype": "text/x-python",
   "name": "python",
   "nbconvert_exporter": "python",
   "pygments_lexer": "ipython3",
   "version": "3.12.3"
  }
 },
 "nbformat": 4,
 "nbformat_minor": 5
}
