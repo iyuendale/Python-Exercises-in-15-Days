{
 "cells": [
  {
   "cell_type": "markdown",
   "id": "95ac3b10",
   "metadata": {},
   "source": [
    "# Day 12: Pandas"
   ]
  },
  {
   "cell_type": "markdown",
   "id": "393d33c9",
   "metadata": {},
   "source": [
    "- https://pandas.pydata.org/\n",
    "- https://pandas.pydata.org/docs/getting_started/index.html"
   ]
  },
  {
   "cell_type": "code",
   "execution_count": 1,
   "id": "7d3efb80",
   "metadata": {},
   "outputs": [],
   "source": [
    "import pandas as pd\n",
    "import numpy as np"
   ]
  },
  {
   "cell_type": "markdown",
   "id": "710db488",
   "metadata": {},
   "source": [
    "### Example Questions"
   ]
  },
  {
   "cell_type": "markdown",
   "id": "0aff5cd6",
   "metadata": {},
   "source": [
    "Q1. Create a Pandas Series from a Python list and perform basic operations like filtering, sorting, etc."
   ]
  },
  {
   "cell_type": "code",
   "execution_count": 2,
   "id": "9cc8c0e8",
   "metadata": {},
   "outputs": [
    {
     "name": "stdout",
     "output_type": "stream",
     "text": [
      "Series: \n",
      "0    4\n",
      "1    8\n",
      "2    9\n",
      "3    2\n",
      "4    5\n",
      "5    7\n",
      "dtype: int64\n",
      "Filter by index:\n",
      "0    4\n",
      "2    9\n",
      "4    5\n",
      "dtype: int64\n",
      "Sort by values:\n",
      "3    2\n",
      "0    4\n",
      "4    5\n",
      "5    7\n",
      "1    8\n",
      "2    9\n",
      "dtype: int64\n",
      "Power of 2:\n",
      "0    16\n",
      "1    64\n",
      "2    81\n",
      "3     4\n",
      "4    25\n",
      "5    49\n",
      "dtype: int64\n"
     ]
    }
   ],
   "source": [
    "nums = [4, 8, 9, 2, 5, 7]\n",
    "ser_nums = pd.Series(nums)\n",
    "print(f\"Series: \\n{ser_nums}\")\n",
    "print(f\"Filter by index:\\n{ser_nums.filter(items= [0, 2, 4, 6])}\")\n",
    "print(f\"Sort by values:\\n{ser_nums.sort_values()}\")\n",
    "print(f\"Power of 2:\\n{ser_nums.pow(2)}\")"
   ]
  },
  {
   "cell_type": "markdown",
   "id": "cfcf4285",
   "metadata": {},
   "source": [
    "Q2. Read a CSV file into a Pandas DataFrame and perform basic data manipulation operations."
   ]
  },
  {
   "cell_type": "code",
   "execution_count": 3,
   "id": "0e003c69",
   "metadata": {},
   "outputs": [
    {
     "name": "stdout",
     "output_type": "stream",
     "text": [
      "<class 'pandas.core.frame.DataFrame'>\n",
      "RangeIndex: 20 entries, 0 to 19\n",
      "Data columns (total 5 columns):\n",
      " #   Column      Non-Null Count  Dtype \n",
      "---  ------      --------------  ----- \n",
      " 0   Name        20 non-null     object\n",
      " 1   Age         20 non-null     int64 \n",
      " 2   Department  20 non-null     object\n",
      " 3   Position    20 non-null     object\n",
      " 4   Salary      20 non-null     int64 \n",
      "dtypes: int64(2), object(3)\n",
      "memory usage: 932.0+ bytes\n"
     ]
    },
    {
     "data": {
      "application/vnd.microsoft.datawrangler.viewer.v0+json": {
       "columns": [
        {
         "name": "index",
         "rawType": "int64",
         "type": "integer"
        },
        {
         "name": "Name",
         "rawType": "object",
         "type": "string"
        },
        {
         "name": "Age",
         "rawType": "int64",
         "type": "integer"
        },
        {
         "name": "Department",
         "rawType": "object",
         "type": "string"
        },
        {
         "name": "Position",
         "rawType": "object",
         "type": "string"
        },
        {
         "name": "Salary",
         "rawType": "int64",
         "type": "integer"
        }
       ],
       "conversionMethod": "pd.DataFrame",
       "ref": "9ab3c4d3-99a5-4ac3-aebb-85df4ad31216",
       "rows": [
        [
         "0",
         "John Doe",
         "29",
         "Engineering",
         "Software Engineer",
         "75000"
        ],
        [
         "1",
         "Jane Smith",
         "34",
         "Marketing",
         "Marketing Manager",
         "68000"
        ],
        [
         "2",
         "Alice Johnson",
         "28",
         "HR",
         "HR Specialist",
         "52000"
        ],
        [
         "3",
         "Bob Brown",
         "45",
         "Finance",
         "Accountant",
         "60000"
        ],
        [
         "4",
         "Charlie Davis",
         "31",
         "Engineering",
         "DevOps Engineer",
         "80000"
        ]
       ],
       "shape": {
        "columns": 5,
        "rows": 5
       }
      },
      "text/html": [
       "<div>\n",
       "<style scoped>\n",
       "    .dataframe tbody tr th:only-of-type {\n",
       "        vertical-align: middle;\n",
       "    }\n",
       "\n",
       "    .dataframe tbody tr th {\n",
       "        vertical-align: top;\n",
       "    }\n",
       "\n",
       "    .dataframe thead th {\n",
       "        text-align: right;\n",
       "    }\n",
       "</style>\n",
       "<table border=\"1\" class=\"dataframe\">\n",
       "  <thead>\n",
       "    <tr style=\"text-align: right;\">\n",
       "      <th></th>\n",
       "      <th>Name</th>\n",
       "      <th>Age</th>\n",
       "      <th>Department</th>\n",
       "      <th>Position</th>\n",
       "      <th>Salary</th>\n",
       "    </tr>\n",
       "  </thead>\n",
       "  <tbody>\n",
       "    <tr>\n",
       "      <th>0</th>\n",
       "      <td>John Doe</td>\n",
       "      <td>29</td>\n",
       "      <td>Engineering</td>\n",
       "      <td>Software Engineer</td>\n",
       "      <td>75000</td>\n",
       "    </tr>\n",
       "    <tr>\n",
       "      <th>1</th>\n",
       "      <td>Jane Smith</td>\n",
       "      <td>34</td>\n",
       "      <td>Marketing</td>\n",
       "      <td>Marketing Manager</td>\n",
       "      <td>68000</td>\n",
       "    </tr>\n",
       "    <tr>\n",
       "      <th>2</th>\n",
       "      <td>Alice Johnson</td>\n",
       "      <td>28</td>\n",
       "      <td>HR</td>\n",
       "      <td>HR Specialist</td>\n",
       "      <td>52000</td>\n",
       "    </tr>\n",
       "    <tr>\n",
       "      <th>3</th>\n",
       "      <td>Bob Brown</td>\n",
       "      <td>45</td>\n",
       "      <td>Finance</td>\n",
       "      <td>Accountant</td>\n",
       "      <td>60000</td>\n",
       "    </tr>\n",
       "    <tr>\n",
       "      <th>4</th>\n",
       "      <td>Charlie Davis</td>\n",
       "      <td>31</td>\n",
       "      <td>Engineering</td>\n",
       "      <td>DevOps Engineer</td>\n",
       "      <td>80000</td>\n",
       "    </tr>\n",
       "  </tbody>\n",
       "</table>\n",
       "</div>"
      ],
      "text/plain": [
       "            Name  Age   Department           Position  Salary\n",
       "0       John Doe   29  Engineering  Software Engineer   75000\n",
       "1     Jane Smith   34    Marketing  Marketing Manager   68000\n",
       "2  Alice Johnson   28           HR      HR Specialist   52000\n",
       "3      Bob Brown   45      Finance         Accountant   60000\n",
       "4  Charlie Davis   31  Engineering    DevOps Engineer   80000"
      ]
     },
     "execution_count": 3,
     "metadata": {},
     "output_type": "execute_result"
    }
   ],
   "source": [
    "df = pd.read_csv(\"data/day_12/employees.csv\")\n",
    "df.info()\n",
    "df.head()"
   ]
  },
  {
   "cell_type": "code",
   "execution_count": 4,
   "id": "f79c45a9",
   "metadata": {},
   "outputs": [
    {
     "data": {
      "text/plain": [
       "Department\n",
       "Engineering    6\n",
       "Finance        4\n",
       "HR             3\n",
       "Marketing      4\n",
       "Sales          3\n",
       "Name: Name, dtype: int64"
      ]
     },
     "execution_count": 4,
     "metadata": {},
     "output_type": "execute_result"
    }
   ],
   "source": [
    "df[\"Name\"].groupby(df[\"Department\"]).count()"
   ]
  },
  {
   "cell_type": "code",
   "execution_count": 5,
   "id": "f90810a9",
   "metadata": {},
   "outputs": [
    {
     "data": {
      "text/plain": [
       "Name          0\n",
       "Age           0\n",
       "Department    0\n",
       "Position      0\n",
       "Salary        0\n",
       "dtype: int64"
      ]
     },
     "execution_count": 5,
     "metadata": {},
     "output_type": "execute_result"
    }
   ],
   "source": [
    "df.isnull().sum()"
   ]
  },
  {
   "cell_type": "markdown",
   "id": "710d134b",
   "metadata": {},
   "source": [
    "Q3. Create a Pandas DataFrame from a dictionary and perform filtering and grouping operations."
   ]
  },
  {
   "cell_type": "code",
   "execution_count": 6,
   "id": "fe2d1e59",
   "metadata": {},
   "outputs": [
    {
     "data": {
      "application/vnd.microsoft.datawrangler.viewer.v0+json": {
       "columns": [
        {
         "name": "index",
         "rawType": "int64",
         "type": "integer"
        },
        {
         "name": "Name",
         "rawType": "object",
         "type": "string"
        },
        {
         "name": "Age",
         "rawType": "int64",
         "type": "integer"
        },
        {
         "name": "Department",
         "rawType": "object",
         "type": "string"
        },
        {
         "name": "Position",
         "rawType": "object",
         "type": "string"
        },
        {
         "name": "Salary",
         "rawType": "int64",
         "type": "integer"
        }
       ],
       "conversionMethod": "pd.DataFrame",
       "ref": "baa1856f-89f0-41af-8e6c-00d54f9e18b2",
       "rows": [
        [
         "0",
         "John Doe",
         "29",
         "Engineering",
         "Software Engineer",
         "75000"
        ],
        [
         "1",
         "Jane Smith",
         "34",
         "Marketing",
         "Marketing Manager",
         "68000"
        ],
        [
         "2",
         "Alice Johnson",
         "28",
         "HR",
         "HR Specialist",
         "52000"
        ],
        [
         "3",
         "Bob Brown",
         "45",
         "Finance",
         "Accountant",
         "60000"
        ],
        [
         "4",
         "Charlie Davis",
         "31",
         "Engineering",
         "DevOps Engineer",
         "80000"
        ],
        [
         "5",
         "Emily White",
         "26",
         "Sales",
         "Sales Representative",
         "45000"
        ],
        [
         "6",
         "Frank Harris",
         "39",
         "Engineering",
         "Team Lead",
         "90000"
        ],
        [
         "7",
         "Grace Lee",
         "30",
         "Marketing",
         "Content Writer",
         "50000"
        ]
       ],
       "shape": {
        "columns": 5,
        "rows": 8
       }
      },
      "text/html": [
       "<div>\n",
       "<style scoped>\n",
       "    .dataframe tbody tr th:only-of-type {\n",
       "        vertical-align: middle;\n",
       "    }\n",
       "\n",
       "    .dataframe tbody tr th {\n",
       "        vertical-align: top;\n",
       "    }\n",
       "\n",
       "    .dataframe thead th {\n",
       "        text-align: right;\n",
       "    }\n",
       "</style>\n",
       "<table border=\"1\" class=\"dataframe\">\n",
       "  <thead>\n",
       "    <tr style=\"text-align: right;\">\n",
       "      <th></th>\n",
       "      <th>Name</th>\n",
       "      <th>Age</th>\n",
       "      <th>Department</th>\n",
       "      <th>Position</th>\n",
       "      <th>Salary</th>\n",
       "    </tr>\n",
       "  </thead>\n",
       "  <tbody>\n",
       "    <tr>\n",
       "      <th>0</th>\n",
       "      <td>John Doe</td>\n",
       "      <td>29</td>\n",
       "      <td>Engineering</td>\n",
       "      <td>Software Engineer</td>\n",
       "      <td>75000</td>\n",
       "    </tr>\n",
       "    <tr>\n",
       "      <th>1</th>\n",
       "      <td>Jane Smith</td>\n",
       "      <td>34</td>\n",
       "      <td>Marketing</td>\n",
       "      <td>Marketing Manager</td>\n",
       "      <td>68000</td>\n",
       "    </tr>\n",
       "    <tr>\n",
       "      <th>2</th>\n",
       "      <td>Alice Johnson</td>\n",
       "      <td>28</td>\n",
       "      <td>HR</td>\n",
       "      <td>HR Specialist</td>\n",
       "      <td>52000</td>\n",
       "    </tr>\n",
       "    <tr>\n",
       "      <th>3</th>\n",
       "      <td>Bob Brown</td>\n",
       "      <td>45</td>\n",
       "      <td>Finance</td>\n",
       "      <td>Accountant</td>\n",
       "      <td>60000</td>\n",
       "    </tr>\n",
       "    <tr>\n",
       "      <th>4</th>\n",
       "      <td>Charlie Davis</td>\n",
       "      <td>31</td>\n",
       "      <td>Engineering</td>\n",
       "      <td>DevOps Engineer</td>\n",
       "      <td>80000</td>\n",
       "    </tr>\n",
       "    <tr>\n",
       "      <th>5</th>\n",
       "      <td>Emily White</td>\n",
       "      <td>26</td>\n",
       "      <td>Sales</td>\n",
       "      <td>Sales Representative</td>\n",
       "      <td>45000</td>\n",
       "    </tr>\n",
       "    <tr>\n",
       "      <th>6</th>\n",
       "      <td>Frank Harris</td>\n",
       "      <td>39</td>\n",
       "      <td>Engineering</td>\n",
       "      <td>Team Lead</td>\n",
       "      <td>90000</td>\n",
       "    </tr>\n",
       "    <tr>\n",
       "      <th>7</th>\n",
       "      <td>Grace Lee</td>\n",
       "      <td>30</td>\n",
       "      <td>Marketing</td>\n",
       "      <td>Content Writer</td>\n",
       "      <td>50000</td>\n",
       "    </tr>\n",
       "  </tbody>\n",
       "</table>\n",
       "</div>"
      ],
      "text/plain": [
       "            Name  Age   Department              Position  Salary\n",
       "0       John Doe   29  Engineering     Software Engineer   75000\n",
       "1     Jane Smith   34    Marketing     Marketing Manager   68000\n",
       "2  Alice Johnson   28           HR         HR Specialist   52000\n",
       "3      Bob Brown   45      Finance            Accountant   60000\n",
       "4  Charlie Davis   31  Engineering       DevOps Engineer   80000\n",
       "5    Emily White   26        Sales  Sales Representative   45000\n",
       "6   Frank Harris   39  Engineering             Team Lead   90000\n",
       "7      Grace Lee   30    Marketing        Content Writer   50000"
      ]
     },
     "execution_count": 6,
     "metadata": {},
     "output_type": "execute_result"
    }
   ],
   "source": [
    "employee_details = [\n",
    "    {\"Name\": \"John Doe\", \"Age\": 29, \"Department\": \"Engineering\", \"Position\": \"Software Engineer\", \"Salary\": 75000},\n",
    "    {\"Name\": \"Jane Smith\", \"Age\": 34, \"Department\": \"Marketing\", \"Position\": \"Marketing Manager\", \"Salary\": 68000},\n",
    "    {\"Name\": \"Alice Johnson\", \"Age\": 28, \"Department\": \"HR\", \"Position\": \"HR Specialist\", \"Salary\": 52000},\n",
    "    {\"Name\": \"Bob Brown\", \"Age\": 45, \"Department\": \"Finance\", \"Position\": \"Accountant\", \"Salary\": 60000},\n",
    "    {\"Name\": \"Charlie Davis\", \"Age\": 31, \"Department\": \"Engineering\", \"Position\": \"DevOps Engineer\", \"Salary\": 80000},\n",
    "    {\"Name\": \"Emily White\", \"Age\": 26, \"Department\": \"Sales\", \"Position\": \"Sales Representative\", \"Salary\": 45000},\n",
    "    {\"Name\": \"Frank Harris\", \"Age\": 39, \"Department\": \"Engineering\", \"Position\": \"Team Lead\", \"Salary\": 90000},\n",
    "    {\"Name\": \"Grace Lee\", \"Age\": 30, \"Department\": \"Marketing\", \"Position\": \"Content Writer\", \"Salary\": 50000},\n",
    "]\n",
    "\n",
    "emp_df = pd.DataFrame.from_dict(employee_details)\n",
    "emp_df"
   ]
  },
  {
   "cell_type": "code",
   "execution_count": 7,
   "id": "6647d081",
   "metadata": {},
   "outputs": [
    {
     "data": {
      "application/vnd.microsoft.datawrangler.viewer.v0+json": {
       "columns": [
        {
         "name": "('Department', 'Position')",
         "rawType": "object",
         "type": "unknown"
        },
        {
         "name": "Salary",
         "rawType": "float64",
         "type": "float"
        }
       ],
       "conversionMethod": "pd.DataFrame",
       "ref": "b11ba3b3-56f5-4672-9d4c-fc86c0ce2986",
       "rows": [
        [
         "('Engineering', 'DevOps Engineer')",
         "80000.0"
        ],
        [
         "('Engineering', 'Software Engineer')",
         "75000.0"
        ],
        [
         "('Engineering', 'Team Lead')",
         "90000.0"
        ],
        [
         "('Finance', 'Accountant')",
         "60000.0"
        ],
        [
         "('HR', 'HR Specialist')",
         "52000.0"
        ],
        [
         "('Marketing', 'Content Writer')",
         "50000.0"
        ],
        [
         "('Marketing', 'Marketing Manager')",
         "68000.0"
        ],
        [
         "('Sales', 'Sales Representative')",
         "45000.0"
        ]
       ],
       "shape": {
        "columns": 1,
        "rows": 8
       }
      },
      "text/html": [
       "<div>\n",
       "<style scoped>\n",
       "    .dataframe tbody tr th:only-of-type {\n",
       "        vertical-align: middle;\n",
       "    }\n",
       "\n",
       "    .dataframe tbody tr th {\n",
       "        vertical-align: top;\n",
       "    }\n",
       "\n",
       "    .dataframe thead th {\n",
       "        text-align: right;\n",
       "    }\n",
       "</style>\n",
       "<table border=\"1\" class=\"dataframe\">\n",
       "  <thead>\n",
       "    <tr style=\"text-align: right;\">\n",
       "      <th></th>\n",
       "      <th></th>\n",
       "      <th>Salary</th>\n",
       "    </tr>\n",
       "    <tr>\n",
       "      <th>Department</th>\n",
       "      <th>Position</th>\n",
       "      <th></th>\n",
       "    </tr>\n",
       "  </thead>\n",
       "  <tbody>\n",
       "    <tr>\n",
       "      <th rowspan=\"3\" valign=\"top\">Engineering</th>\n",
       "      <th>DevOps Engineer</th>\n",
       "      <td>80000.0</td>\n",
       "    </tr>\n",
       "    <tr>\n",
       "      <th>Software Engineer</th>\n",
       "      <td>75000.0</td>\n",
       "    </tr>\n",
       "    <tr>\n",
       "      <th>Team Lead</th>\n",
       "      <td>90000.0</td>\n",
       "    </tr>\n",
       "    <tr>\n",
       "      <th>Finance</th>\n",
       "      <th>Accountant</th>\n",
       "      <td>60000.0</td>\n",
       "    </tr>\n",
       "    <tr>\n",
       "      <th>HR</th>\n",
       "      <th>HR Specialist</th>\n",
       "      <td>52000.0</td>\n",
       "    </tr>\n",
       "    <tr>\n",
       "      <th rowspan=\"2\" valign=\"top\">Marketing</th>\n",
       "      <th>Content Writer</th>\n",
       "      <td>50000.0</td>\n",
       "    </tr>\n",
       "    <tr>\n",
       "      <th>Marketing Manager</th>\n",
       "      <td>68000.0</td>\n",
       "    </tr>\n",
       "    <tr>\n",
       "      <th>Sales</th>\n",
       "      <th>Sales Representative</th>\n",
       "      <td>45000.0</td>\n",
       "    </tr>\n",
       "  </tbody>\n",
       "</table>\n",
       "</div>"
      ],
      "text/plain": [
       "                                   Salary\n",
       "Department  Position                     \n",
       "Engineering DevOps Engineer       80000.0\n",
       "            Software Engineer     75000.0\n",
       "            Team Lead             90000.0\n",
       "Finance     Accountant            60000.0\n",
       "HR          HR Specialist         52000.0\n",
       "Marketing   Content Writer        50000.0\n",
       "            Marketing Manager     68000.0\n",
       "Sales       Sales Representative  45000.0"
      ]
     },
     "execution_count": 7,
     "metadata": {},
     "output_type": "execute_result"
    }
   ],
   "source": [
    "emp_df.groupby([\"Department\", \"Position\"])[\"Salary\"].mean().to_frame()"
   ]
  },
  {
   "cell_type": "code",
   "execution_count": 8,
   "id": "fba3c084",
   "metadata": {},
   "outputs": [
    {
     "data": {
      "application/vnd.microsoft.datawrangler.viewer.v0+json": {
       "columns": [
        {
         "name": "index",
         "rawType": "int64",
         "type": "integer"
        },
        {
         "name": "Name",
         "rawType": "object",
         "type": "string"
        },
        {
         "name": "Age",
         "rawType": "int64",
         "type": "integer"
        },
        {
         "name": "Department",
         "rawType": "object",
         "type": "string"
        },
        {
         "name": "Position",
         "rawType": "object",
         "type": "string"
        },
        {
         "name": "Salary",
         "rawType": "int64",
         "type": "integer"
        }
       ],
       "conversionMethod": "pd.DataFrame",
       "ref": "0c4375e2-252f-4de1-bf42-19ae45ffefc0",
       "rows": [
        [
         "1",
         "Jane Smith",
         "34",
         "Marketing",
         "Marketing Manager",
         "68000"
        ],
        [
         "3",
         "Bob Brown",
         "45",
         "Finance",
         "Accountant",
         "60000"
        ],
        [
         "4",
         "Charlie Davis",
         "31",
         "Engineering",
         "DevOps Engineer",
         "80000"
        ],
        [
         "6",
         "Frank Harris",
         "39",
         "Engineering",
         "Team Lead",
         "90000"
        ]
       ],
       "shape": {
        "columns": 5,
        "rows": 4
       }
      },
      "text/html": [
       "<div>\n",
       "<style scoped>\n",
       "    .dataframe tbody tr th:only-of-type {\n",
       "        vertical-align: middle;\n",
       "    }\n",
       "\n",
       "    .dataframe tbody tr th {\n",
       "        vertical-align: top;\n",
       "    }\n",
       "\n",
       "    .dataframe thead th {\n",
       "        text-align: right;\n",
       "    }\n",
       "</style>\n",
       "<table border=\"1\" class=\"dataframe\">\n",
       "  <thead>\n",
       "    <tr style=\"text-align: right;\">\n",
       "      <th></th>\n",
       "      <th>Name</th>\n",
       "      <th>Age</th>\n",
       "      <th>Department</th>\n",
       "      <th>Position</th>\n",
       "      <th>Salary</th>\n",
       "    </tr>\n",
       "  </thead>\n",
       "  <tbody>\n",
       "    <tr>\n",
       "      <th>1</th>\n",
       "      <td>Jane Smith</td>\n",
       "      <td>34</td>\n",
       "      <td>Marketing</td>\n",
       "      <td>Marketing Manager</td>\n",
       "      <td>68000</td>\n",
       "    </tr>\n",
       "    <tr>\n",
       "      <th>3</th>\n",
       "      <td>Bob Brown</td>\n",
       "      <td>45</td>\n",
       "      <td>Finance</td>\n",
       "      <td>Accountant</td>\n",
       "      <td>60000</td>\n",
       "    </tr>\n",
       "    <tr>\n",
       "      <th>4</th>\n",
       "      <td>Charlie Davis</td>\n",
       "      <td>31</td>\n",
       "      <td>Engineering</td>\n",
       "      <td>DevOps Engineer</td>\n",
       "      <td>80000</td>\n",
       "    </tr>\n",
       "    <tr>\n",
       "      <th>6</th>\n",
       "      <td>Frank Harris</td>\n",
       "      <td>39</td>\n",
       "      <td>Engineering</td>\n",
       "      <td>Team Lead</td>\n",
       "      <td>90000</td>\n",
       "    </tr>\n",
       "  </tbody>\n",
       "</table>\n",
       "</div>"
      ],
      "text/plain": [
       "            Name  Age   Department           Position  Salary\n",
       "1     Jane Smith   34    Marketing  Marketing Manager   68000\n",
       "3      Bob Brown   45      Finance         Accountant   60000\n",
       "4  Charlie Davis   31  Engineering    DevOps Engineer   80000\n",
       "6   Frank Harris   39  Engineering          Team Lead   90000"
      ]
     },
     "execution_count": 8,
     "metadata": {},
     "output_type": "execute_result"
    }
   ],
   "source": [
    "filtered_by_age = emp_df[emp_df[\"Age\"] > 30]\n",
    "filtered_by_age"
   ]
  },
  {
   "cell_type": "markdown",
   "id": "37ba0130",
   "metadata": {},
   "source": [
    "### Practice Questions"
   ]
  },
  {
   "cell_type": "markdown",
   "id": "bf5b136c",
   "metadata": {},
   "source": [
    "1. Given a CSV file with student details, read it into a Pandas DataFrame and find the average age of students."
   ]
  },
  {
   "cell_type": "code",
   "execution_count": 9,
   "id": "b4f6b0bf",
   "metadata": {},
   "outputs": [
    {
     "data": {
      "application/vnd.microsoft.datawrangler.viewer.v0+json": {
       "columns": [
        {
         "name": "index",
         "rawType": "int64",
         "type": "integer"
        },
        {
         "name": "Name",
         "rawType": "object",
         "type": "string"
        },
        {
         "name": "Age",
         "rawType": "int64",
         "type": "integer"
        },
        {
         "name": "Grade",
         "rawType": "int64",
         "type": "integer"
        },
        {
         "name": "Section",
         "rawType": "object",
         "type": "string"
        }
       ],
       "conversionMethod": "pd.DataFrame",
       "ref": "35bb1a0f-cbc9-4049-982a-7f487d7fb8c6",
       "rows": [
        [
         "0",
         "Alice Johnson",
         "14",
         "9",
         "A"
        ],
        [
         "1",
         "Bob Smith",
         "15",
         "10",
         "B"
        ],
        [
         "2",
         "Charlie Brown",
         "13",
         "8",
         "C"
        ],
        [
         "3",
         "Diana Prince",
         "14",
         "9",
         "A"
        ],
        [
         "4",
         "Ethan Hunt",
         "15",
         "10",
         "B"
        ]
       ],
       "shape": {
        "columns": 4,
        "rows": 5
       }
      },
      "text/html": [
       "<div>\n",
       "<style scoped>\n",
       "    .dataframe tbody tr th:only-of-type {\n",
       "        vertical-align: middle;\n",
       "    }\n",
       "\n",
       "    .dataframe tbody tr th {\n",
       "        vertical-align: top;\n",
       "    }\n",
       "\n",
       "    .dataframe thead th {\n",
       "        text-align: right;\n",
       "    }\n",
       "</style>\n",
       "<table border=\"1\" class=\"dataframe\">\n",
       "  <thead>\n",
       "    <tr style=\"text-align: right;\">\n",
       "      <th></th>\n",
       "      <th>Name</th>\n",
       "      <th>Age</th>\n",
       "      <th>Grade</th>\n",
       "      <th>Section</th>\n",
       "    </tr>\n",
       "  </thead>\n",
       "  <tbody>\n",
       "    <tr>\n",
       "      <th>0</th>\n",
       "      <td>Alice Johnson</td>\n",
       "      <td>14</td>\n",
       "      <td>9</td>\n",
       "      <td>A</td>\n",
       "    </tr>\n",
       "    <tr>\n",
       "      <th>1</th>\n",
       "      <td>Bob Smith</td>\n",
       "      <td>15</td>\n",
       "      <td>10</td>\n",
       "      <td>B</td>\n",
       "    </tr>\n",
       "    <tr>\n",
       "      <th>2</th>\n",
       "      <td>Charlie Brown</td>\n",
       "      <td>13</td>\n",
       "      <td>8</td>\n",
       "      <td>C</td>\n",
       "    </tr>\n",
       "    <tr>\n",
       "      <th>3</th>\n",
       "      <td>Diana Prince</td>\n",
       "      <td>14</td>\n",
       "      <td>9</td>\n",
       "      <td>A</td>\n",
       "    </tr>\n",
       "    <tr>\n",
       "      <th>4</th>\n",
       "      <td>Ethan Hunt</td>\n",
       "      <td>15</td>\n",
       "      <td>10</td>\n",
       "      <td>B</td>\n",
       "    </tr>\n",
       "  </tbody>\n",
       "</table>\n",
       "</div>"
      ],
      "text/plain": [
       "            Name  Age  Grade Section\n",
       "0  Alice Johnson   14      9       A\n",
       "1      Bob Smith   15     10       B\n",
       "2  Charlie Brown   13      8       C\n",
       "3   Diana Prince   14      9       A\n",
       "4     Ethan Hunt   15     10       B"
      ]
     },
     "execution_count": 9,
     "metadata": {},
     "output_type": "execute_result"
    }
   ],
   "source": [
    "stud_df = pd.read_csv(\"data/day_12/students.csv\")\n",
    "stud_df.head()"
   ]
  },
  {
   "cell_type": "code",
   "execution_count": 10,
   "id": "b57a5bb8",
   "metadata": {},
   "outputs": [
    {
     "data": {
      "text/plain": [
       "14.0"
      ]
     },
     "execution_count": 10,
     "metadata": {},
     "output_type": "execute_result"
    }
   ],
   "source": [
    "stud_df[\"Age\"].mean()"
   ]
  },
  {
   "cell_type": "markdown",
   "id": "61232837",
   "metadata": {},
   "source": [
    "2. Implement a program that generates a Pandas Series with dates and filter it to get dates in specific range."
   ]
  },
  {
   "cell_type": "code",
   "execution_count": 11,
   "id": "d7b6a6a0",
   "metadata": {},
   "outputs": [
    {
     "data": {
      "text/plain": [
       "2025-01-01    13\n",
       "2025-01-02    45\n",
       "2025-01-03     8\n",
       "2025-01-04     2\n",
       "2025-01-05     9\n",
       "2025-01-06    17\n",
       "Freq: D, dtype: int64"
      ]
     },
     "execution_count": 11,
     "metadata": {},
     "output_type": "execute_result"
    }
   ],
   "source": [
    "sales = [13, 45, 8, 2, 9, 17]\n",
    "dates = pd.date_range(start= \"2025-01-01\", periods= len(sales), freq= \"D\")\n",
    "ser_dates = pd.Series(data= sales, index= dates)\n",
    "ser_dates"
   ]
  },
  {
   "cell_type": "markdown",
   "id": "15d18a6f",
   "metadata": {},
   "source": [
    "3. Write a Python program that uses Pandas to read a CSV file and find the maximum and minimum values in each column."
   ]
  },
  {
   "cell_type": "code",
   "execution_count": 12,
   "id": "cb534034",
   "metadata": {},
   "outputs": [
    {
     "name": "stdout",
     "output_type": "stream",
     "text": [
      "<class 'pandas.core.frame.DataFrame'>\n",
      "Index: 10 entries, 2023-01-01 to 2023-01-10\n",
      "Data columns (total 6 columns):\n",
      " #   Column       Non-Null Count  Dtype  \n",
      "---  ------       --------------  -----  \n",
      " 0   Product      10 non-null     object \n",
      " 1   Region       10 non-null     object \n",
      " 2   Salesperson  10 non-null     object \n",
      " 3   Units Sold   10 non-null     int64  \n",
      " 4   Unit Price   10 non-null     float64\n",
      " 5   Total Sales  10 non-null     float64\n",
      "dtypes: float64(2), int64(1), object(3)\n",
      "memory usage: 560.0+ bytes\n"
     ]
    },
    {
     "data": {
      "application/vnd.microsoft.datawrangler.viewer.v0+json": {
       "columns": [
        {
         "name": "Date",
         "rawType": "object",
         "type": "string"
        },
        {
         "name": "Product",
         "rawType": "object",
         "type": "string"
        },
        {
         "name": "Region",
         "rawType": "object",
         "type": "string"
        },
        {
         "name": "Salesperson",
         "rawType": "object",
         "type": "string"
        },
        {
         "name": "Units Sold",
         "rawType": "int64",
         "type": "integer"
        },
        {
         "name": "Unit Price",
         "rawType": "float64",
         "type": "float"
        },
        {
         "name": "Total Sales",
         "rawType": "float64",
         "type": "float"
        }
       ],
       "conversionMethod": "pd.DataFrame",
       "ref": "86b1137f-5b7c-452c-a59d-5d37c0613312",
       "rows": [
        [
         "2023-01-01",
         "Widget A",
         "North",
         "John Doe",
         "10",
         "25.0",
         "250.0"
        ],
        [
         "2023-01-02",
         "Widget B",
         "South",
         "Jane Smith",
         "15",
         "30.0",
         "450.0"
        ],
        [
         "2023-01-03",
         "Widget C",
         "East",
         "Emily Davis",
         "8",
         "20.0",
         "160.0"
        ],
        [
         "2023-01-04",
         "Widget A",
         "West",
         "Michael Brown",
         "12",
         "25.0",
         "300.0"
        ],
        [
         "2023-01-05",
         "Widget B",
         "North",
         "Chris Wilson",
         "20",
         "30.0",
         "600.0"
        ]
       ],
       "shape": {
        "columns": 6,
        "rows": 5
       }
      },
      "text/html": [
       "<div>\n",
       "<style scoped>\n",
       "    .dataframe tbody tr th:only-of-type {\n",
       "        vertical-align: middle;\n",
       "    }\n",
       "\n",
       "    .dataframe tbody tr th {\n",
       "        vertical-align: top;\n",
       "    }\n",
       "\n",
       "    .dataframe thead th {\n",
       "        text-align: right;\n",
       "    }\n",
       "</style>\n",
       "<table border=\"1\" class=\"dataframe\">\n",
       "  <thead>\n",
       "    <tr style=\"text-align: right;\">\n",
       "      <th></th>\n",
       "      <th>Product</th>\n",
       "      <th>Region</th>\n",
       "      <th>Salesperson</th>\n",
       "      <th>Units Sold</th>\n",
       "      <th>Unit Price</th>\n",
       "      <th>Total Sales</th>\n",
       "    </tr>\n",
       "    <tr>\n",
       "      <th>Date</th>\n",
       "      <th></th>\n",
       "      <th></th>\n",
       "      <th></th>\n",
       "      <th></th>\n",
       "      <th></th>\n",
       "      <th></th>\n",
       "    </tr>\n",
       "  </thead>\n",
       "  <tbody>\n",
       "    <tr>\n",
       "      <th>2023-01-01</th>\n",
       "      <td>Widget A</td>\n",
       "      <td>North</td>\n",
       "      <td>John Doe</td>\n",
       "      <td>10</td>\n",
       "      <td>25.0</td>\n",
       "      <td>250.0</td>\n",
       "    </tr>\n",
       "    <tr>\n",
       "      <th>2023-01-02</th>\n",
       "      <td>Widget B</td>\n",
       "      <td>South</td>\n",
       "      <td>Jane Smith</td>\n",
       "      <td>15</td>\n",
       "      <td>30.0</td>\n",
       "      <td>450.0</td>\n",
       "    </tr>\n",
       "    <tr>\n",
       "      <th>2023-01-03</th>\n",
       "      <td>Widget C</td>\n",
       "      <td>East</td>\n",
       "      <td>Emily Davis</td>\n",
       "      <td>8</td>\n",
       "      <td>20.0</td>\n",
       "      <td>160.0</td>\n",
       "    </tr>\n",
       "    <tr>\n",
       "      <th>2023-01-04</th>\n",
       "      <td>Widget A</td>\n",
       "      <td>West</td>\n",
       "      <td>Michael Brown</td>\n",
       "      <td>12</td>\n",
       "      <td>25.0</td>\n",
       "      <td>300.0</td>\n",
       "    </tr>\n",
       "    <tr>\n",
       "      <th>2023-01-05</th>\n",
       "      <td>Widget B</td>\n",
       "      <td>North</td>\n",
       "      <td>Chris Wilson</td>\n",
       "      <td>20</td>\n",
       "      <td>30.0</td>\n",
       "      <td>600.0</td>\n",
       "    </tr>\n",
       "  </tbody>\n",
       "</table>\n",
       "</div>"
      ],
      "text/plain": [
       "             Product Region    Salesperson  Units Sold  Unit Price  \\\n",
       "Date                                                                 \n",
       "2023-01-01  Widget A  North       John Doe          10        25.0   \n",
       "2023-01-02  Widget B  South     Jane Smith          15        30.0   \n",
       "2023-01-03  Widget C   East    Emily Davis           8        20.0   \n",
       "2023-01-04  Widget A   West  Michael Brown          12        25.0   \n",
       "2023-01-05  Widget B  North   Chris Wilson          20        30.0   \n",
       "\n",
       "            Total Sales  \n",
       "Date                     \n",
       "2023-01-01        250.0  \n",
       "2023-01-02        450.0  \n",
       "2023-01-03        160.0  \n",
       "2023-01-04        300.0  \n",
       "2023-01-05        600.0  "
      ]
     },
     "execution_count": 12,
     "metadata": {},
     "output_type": "execute_result"
    }
   ],
   "source": [
    "sales_df = pd.read_csv(\"data/day_12/sales.csv\", index_col= \"Date\")\n",
    "sales_df.info()\n",
    "sales_df.head()"
   ]
  },
  {
   "cell_type": "code",
   "execution_count": 13,
   "id": "5a0be37c",
   "metadata": {},
   "outputs": [
    {
     "data": {
      "text/plain": [
       "Product         Widget C\n",
       "Region              West\n",
       "Salesperson    Susan Lee\n",
       "Units Sold            20\n",
       "Unit Price          30.0\n",
       "Total Sales        600.0\n",
       "dtype: object"
      ]
     },
     "execution_count": 13,
     "metadata": {},
     "output_type": "execute_result"
    }
   ],
   "source": [
    "sales_df.max()"
   ]
  },
  {
   "cell_type": "code",
   "execution_count": 14,
   "id": "dac0e222",
   "metadata": {},
   "outputs": [
    {
     "data": {
      "text/plain": [
       "Product            Widget A\n",
       "Region                 East\n",
       "Salesperson    Chris Wilson\n",
       "Units Sold                5\n",
       "Unit Price             20.0\n",
       "Total Sales           100.0\n",
       "dtype: object"
      ]
     },
     "execution_count": 14,
     "metadata": {},
     "output_type": "execute_result"
    }
   ],
   "source": [
    "sales_df.min()"
   ]
  },
  {
   "cell_type": "markdown",
   "id": "a7b57279",
   "metadata": {},
   "source": [
    "4. Create a function that takes a Pandas DataFrame and returns a new DataFrame with rows sorted in ascending order."
   ]
  },
  {
   "cell_type": "code",
   "execution_count": 15,
   "id": "41d3a90e",
   "metadata": {},
   "outputs": [
    {
     "data": {
      "application/vnd.microsoft.datawrangler.viewer.v0+json": {
       "columns": [
        {
         "name": "Date",
         "rawType": "object",
         "type": "string"
        },
        {
         "name": "Product",
         "rawType": "object",
         "type": "string"
        },
        {
         "name": "Region",
         "rawType": "object",
         "type": "string"
        },
        {
         "name": "Salesperson",
         "rawType": "object",
         "type": "string"
        },
        {
         "name": "Units Sold",
         "rawType": "int64",
         "type": "integer"
        },
        {
         "name": "Unit Price",
         "rawType": "float64",
         "type": "float"
        },
        {
         "name": "Total Sales",
         "rawType": "float64",
         "type": "float"
        }
       ],
       "conversionMethod": "pd.DataFrame",
       "ref": "9fcef646-2f44-450b-ab4d-ac66c9e880ae",
       "rows": [
        [
         "2023-01-05",
         "Widget B",
         "North",
         "Chris Wilson",
         "20",
         "30.0",
         "600.0"
        ],
        [
         "2023-01-03",
         "Widget C",
         "East",
         "Emily Davis",
         "8",
         "20.0",
         "160.0"
        ],
        [
         "2023-01-09",
         "Widget C",
         "North",
         "James Anderson",
         "7",
         "20.0",
         "140.0"
        ],
        [
         "2023-01-02",
         "Widget B",
         "South",
         "Jane Smith",
         "15",
         "30.0",
         "450.0"
        ],
        [
         "2023-01-01",
         "Widget A",
         "North",
         "John Doe",
         "10",
         "25.0",
         "250.0"
        ],
        [
         "2023-01-08",
         "Widget B",
         "West",
         "Linda Martinez",
         "10",
         "30.0",
         "300.0"
        ],
        [
         "2023-01-04",
         "Widget A",
         "West",
         "Michael Brown",
         "12",
         "25.0",
         "300.0"
        ],
        [
         "2023-01-06",
         "Widget C",
         "South",
         "Patricia Johnson",
         "5",
         "20.0",
         "100.0"
        ],
        [
         "2023-01-07",
         "Widget A",
         "East",
         "Robert Garcia",
         "18",
         "25.0",
         "450.0"
        ],
        [
         "2023-01-10",
         "Widget A",
         "South",
         "Susan Lee",
         "14",
         "25.0",
         "350.0"
        ]
       ],
       "shape": {
        "columns": 6,
        "rows": 10
       }
      },
      "text/html": [
       "<div>\n",
       "<style scoped>\n",
       "    .dataframe tbody tr th:only-of-type {\n",
       "        vertical-align: middle;\n",
       "    }\n",
       "\n",
       "    .dataframe tbody tr th {\n",
       "        vertical-align: top;\n",
       "    }\n",
       "\n",
       "    .dataframe thead th {\n",
       "        text-align: right;\n",
       "    }\n",
       "</style>\n",
       "<table border=\"1\" class=\"dataframe\">\n",
       "  <thead>\n",
       "    <tr style=\"text-align: right;\">\n",
       "      <th></th>\n",
       "      <th>Product</th>\n",
       "      <th>Region</th>\n",
       "      <th>Salesperson</th>\n",
       "      <th>Units Sold</th>\n",
       "      <th>Unit Price</th>\n",
       "      <th>Total Sales</th>\n",
       "    </tr>\n",
       "    <tr>\n",
       "      <th>Date</th>\n",
       "      <th></th>\n",
       "      <th></th>\n",
       "      <th></th>\n",
       "      <th></th>\n",
       "      <th></th>\n",
       "      <th></th>\n",
       "    </tr>\n",
       "  </thead>\n",
       "  <tbody>\n",
       "    <tr>\n",
       "      <th>2023-01-05</th>\n",
       "      <td>Widget B</td>\n",
       "      <td>North</td>\n",
       "      <td>Chris Wilson</td>\n",
       "      <td>20</td>\n",
       "      <td>30.0</td>\n",
       "      <td>600.0</td>\n",
       "    </tr>\n",
       "    <tr>\n",
       "      <th>2023-01-03</th>\n",
       "      <td>Widget C</td>\n",
       "      <td>East</td>\n",
       "      <td>Emily Davis</td>\n",
       "      <td>8</td>\n",
       "      <td>20.0</td>\n",
       "      <td>160.0</td>\n",
       "    </tr>\n",
       "    <tr>\n",
       "      <th>2023-01-09</th>\n",
       "      <td>Widget C</td>\n",
       "      <td>North</td>\n",
       "      <td>James Anderson</td>\n",
       "      <td>7</td>\n",
       "      <td>20.0</td>\n",
       "      <td>140.0</td>\n",
       "    </tr>\n",
       "    <tr>\n",
       "      <th>2023-01-02</th>\n",
       "      <td>Widget B</td>\n",
       "      <td>South</td>\n",
       "      <td>Jane Smith</td>\n",
       "      <td>15</td>\n",
       "      <td>30.0</td>\n",
       "      <td>450.0</td>\n",
       "    </tr>\n",
       "    <tr>\n",
       "      <th>2023-01-01</th>\n",
       "      <td>Widget A</td>\n",
       "      <td>North</td>\n",
       "      <td>John Doe</td>\n",
       "      <td>10</td>\n",
       "      <td>25.0</td>\n",
       "      <td>250.0</td>\n",
       "    </tr>\n",
       "    <tr>\n",
       "      <th>2023-01-08</th>\n",
       "      <td>Widget B</td>\n",
       "      <td>West</td>\n",
       "      <td>Linda Martinez</td>\n",
       "      <td>10</td>\n",
       "      <td>30.0</td>\n",
       "      <td>300.0</td>\n",
       "    </tr>\n",
       "    <tr>\n",
       "      <th>2023-01-04</th>\n",
       "      <td>Widget A</td>\n",
       "      <td>West</td>\n",
       "      <td>Michael Brown</td>\n",
       "      <td>12</td>\n",
       "      <td>25.0</td>\n",
       "      <td>300.0</td>\n",
       "    </tr>\n",
       "    <tr>\n",
       "      <th>2023-01-06</th>\n",
       "      <td>Widget C</td>\n",
       "      <td>South</td>\n",
       "      <td>Patricia Johnson</td>\n",
       "      <td>5</td>\n",
       "      <td>20.0</td>\n",
       "      <td>100.0</td>\n",
       "    </tr>\n",
       "    <tr>\n",
       "      <th>2023-01-07</th>\n",
       "      <td>Widget A</td>\n",
       "      <td>East</td>\n",
       "      <td>Robert Garcia</td>\n",
       "      <td>18</td>\n",
       "      <td>25.0</td>\n",
       "      <td>450.0</td>\n",
       "    </tr>\n",
       "    <tr>\n",
       "      <th>2023-01-10</th>\n",
       "      <td>Widget A</td>\n",
       "      <td>South</td>\n",
       "      <td>Susan Lee</td>\n",
       "      <td>14</td>\n",
       "      <td>25.0</td>\n",
       "      <td>350.0</td>\n",
       "    </tr>\n",
       "  </tbody>\n",
       "</table>\n",
       "</div>"
      ],
      "text/plain": [
       "             Product Region       Salesperson  Units Sold  Unit Price  \\\n",
       "Date                                                                    \n",
       "2023-01-05  Widget B  North      Chris Wilson          20        30.0   \n",
       "2023-01-03  Widget C   East       Emily Davis           8        20.0   \n",
       "2023-01-09  Widget C  North    James Anderson           7        20.0   \n",
       "2023-01-02  Widget B  South        Jane Smith          15        30.0   \n",
       "2023-01-01  Widget A  North          John Doe          10        25.0   \n",
       "2023-01-08  Widget B   West    Linda Martinez          10        30.0   \n",
       "2023-01-04  Widget A   West     Michael Brown          12        25.0   \n",
       "2023-01-06  Widget C  South  Patricia Johnson           5        20.0   \n",
       "2023-01-07  Widget A   East     Robert Garcia          18        25.0   \n",
       "2023-01-10  Widget A  South         Susan Lee          14        25.0   \n",
       "\n",
       "            Total Sales  \n",
       "Date                     \n",
       "2023-01-05        600.0  \n",
       "2023-01-03        160.0  \n",
       "2023-01-09        140.0  \n",
       "2023-01-02        450.0  \n",
       "2023-01-01        250.0  \n",
       "2023-01-08        300.0  \n",
       "2023-01-04        300.0  \n",
       "2023-01-06        100.0  \n",
       "2023-01-07        450.0  \n",
       "2023-01-10        350.0  "
      ]
     },
     "execution_count": 15,
     "metadata": {},
     "output_type": "execute_result"
    }
   ],
   "source": [
    "sales_df.sort_values(\"Salesperson\")"
   ]
  },
  {
   "cell_type": "code",
   "execution_count": 16,
   "id": "df145e03",
   "metadata": {},
   "outputs": [
    {
     "data": {
      "application/vnd.microsoft.datawrangler.viewer.v0+json": {
       "columns": [
        {
         "name": "Date",
         "rawType": "object",
         "type": "string"
        },
        {
         "name": "Product",
         "rawType": "object",
         "type": "string"
        },
        {
         "name": "Region",
         "rawType": "object",
         "type": "string"
        },
        {
         "name": "Salesperson",
         "rawType": "object",
         "type": "string"
        },
        {
         "name": "Units Sold",
         "rawType": "int64",
         "type": "integer"
        },
        {
         "name": "Unit Price",
         "rawType": "float64",
         "type": "float"
        },
        {
         "name": "Total Sales",
         "rawType": "float64",
         "type": "float"
        }
       ],
       "conversionMethod": "pd.DataFrame",
       "ref": "da793160-7e85-4253-bf6e-66ddfa1dd9d7",
       "rows": [
        [
         "2023-01-06",
         "Widget C",
         "South",
         "Patricia Johnson",
         "5",
         "20.0",
         "100.0"
        ],
        [
         "2023-01-09",
         "Widget C",
         "North",
         "James Anderson",
         "7",
         "20.0",
         "140.0"
        ],
        [
         "2023-01-03",
         "Widget C",
         "East",
         "Emily Davis",
         "8",
         "20.0",
         "160.0"
        ],
        [
         "2023-01-01",
         "Widget A",
         "North",
         "John Doe",
         "10",
         "25.0",
         "250.0"
        ],
        [
         "2023-01-08",
         "Widget B",
         "West",
         "Linda Martinez",
         "10",
         "30.0",
         "300.0"
        ],
        [
         "2023-01-04",
         "Widget A",
         "West",
         "Michael Brown",
         "12",
         "25.0",
         "300.0"
        ],
        [
         "2023-01-10",
         "Widget A",
         "South",
         "Susan Lee",
         "14",
         "25.0",
         "350.0"
        ],
        [
         "2023-01-02",
         "Widget B",
         "South",
         "Jane Smith",
         "15",
         "30.0",
         "450.0"
        ],
        [
         "2023-01-07",
         "Widget A",
         "East",
         "Robert Garcia",
         "18",
         "25.0",
         "450.0"
        ],
        [
         "2023-01-05",
         "Widget B",
         "North",
         "Chris Wilson",
         "20",
         "30.0",
         "600.0"
        ]
       ],
       "shape": {
        "columns": 6,
        "rows": 10
       }
      },
      "text/html": [
       "<div>\n",
       "<style scoped>\n",
       "    .dataframe tbody tr th:only-of-type {\n",
       "        vertical-align: middle;\n",
       "    }\n",
       "\n",
       "    .dataframe tbody tr th {\n",
       "        vertical-align: top;\n",
       "    }\n",
       "\n",
       "    .dataframe thead th {\n",
       "        text-align: right;\n",
       "    }\n",
       "</style>\n",
       "<table border=\"1\" class=\"dataframe\">\n",
       "  <thead>\n",
       "    <tr style=\"text-align: right;\">\n",
       "      <th></th>\n",
       "      <th>Product</th>\n",
       "      <th>Region</th>\n",
       "      <th>Salesperson</th>\n",
       "      <th>Units Sold</th>\n",
       "      <th>Unit Price</th>\n",
       "      <th>Total Sales</th>\n",
       "    </tr>\n",
       "    <tr>\n",
       "      <th>Date</th>\n",
       "      <th></th>\n",
       "      <th></th>\n",
       "      <th></th>\n",
       "      <th></th>\n",
       "      <th></th>\n",
       "      <th></th>\n",
       "    </tr>\n",
       "  </thead>\n",
       "  <tbody>\n",
       "    <tr>\n",
       "      <th>2023-01-06</th>\n",
       "      <td>Widget C</td>\n",
       "      <td>South</td>\n",
       "      <td>Patricia Johnson</td>\n",
       "      <td>5</td>\n",
       "      <td>20.0</td>\n",
       "      <td>100.0</td>\n",
       "    </tr>\n",
       "    <tr>\n",
       "      <th>2023-01-09</th>\n",
       "      <td>Widget C</td>\n",
       "      <td>North</td>\n",
       "      <td>James Anderson</td>\n",
       "      <td>7</td>\n",
       "      <td>20.0</td>\n",
       "      <td>140.0</td>\n",
       "    </tr>\n",
       "    <tr>\n",
       "      <th>2023-01-03</th>\n",
       "      <td>Widget C</td>\n",
       "      <td>East</td>\n",
       "      <td>Emily Davis</td>\n",
       "      <td>8</td>\n",
       "      <td>20.0</td>\n",
       "      <td>160.0</td>\n",
       "    </tr>\n",
       "    <tr>\n",
       "      <th>2023-01-01</th>\n",
       "      <td>Widget A</td>\n",
       "      <td>North</td>\n",
       "      <td>John Doe</td>\n",
       "      <td>10</td>\n",
       "      <td>25.0</td>\n",
       "      <td>250.0</td>\n",
       "    </tr>\n",
       "    <tr>\n",
       "      <th>2023-01-08</th>\n",
       "      <td>Widget B</td>\n",
       "      <td>West</td>\n",
       "      <td>Linda Martinez</td>\n",
       "      <td>10</td>\n",
       "      <td>30.0</td>\n",
       "      <td>300.0</td>\n",
       "    </tr>\n",
       "    <tr>\n",
       "      <th>2023-01-04</th>\n",
       "      <td>Widget A</td>\n",
       "      <td>West</td>\n",
       "      <td>Michael Brown</td>\n",
       "      <td>12</td>\n",
       "      <td>25.0</td>\n",
       "      <td>300.0</td>\n",
       "    </tr>\n",
       "    <tr>\n",
       "      <th>2023-01-10</th>\n",
       "      <td>Widget A</td>\n",
       "      <td>South</td>\n",
       "      <td>Susan Lee</td>\n",
       "      <td>14</td>\n",
       "      <td>25.0</td>\n",
       "      <td>350.0</td>\n",
       "    </tr>\n",
       "    <tr>\n",
       "      <th>2023-01-02</th>\n",
       "      <td>Widget B</td>\n",
       "      <td>South</td>\n",
       "      <td>Jane Smith</td>\n",
       "      <td>15</td>\n",
       "      <td>30.0</td>\n",
       "      <td>450.0</td>\n",
       "    </tr>\n",
       "    <tr>\n",
       "      <th>2023-01-07</th>\n",
       "      <td>Widget A</td>\n",
       "      <td>East</td>\n",
       "      <td>Robert Garcia</td>\n",
       "      <td>18</td>\n",
       "      <td>25.0</td>\n",
       "      <td>450.0</td>\n",
       "    </tr>\n",
       "    <tr>\n",
       "      <th>2023-01-05</th>\n",
       "      <td>Widget B</td>\n",
       "      <td>North</td>\n",
       "      <td>Chris Wilson</td>\n",
       "      <td>20</td>\n",
       "      <td>30.0</td>\n",
       "      <td>600.0</td>\n",
       "    </tr>\n",
       "  </tbody>\n",
       "</table>\n",
       "</div>"
      ],
      "text/plain": [
       "             Product Region       Salesperson  Units Sold  Unit Price  \\\n",
       "Date                                                                    \n",
       "2023-01-06  Widget C  South  Patricia Johnson           5        20.0   \n",
       "2023-01-09  Widget C  North    James Anderson           7        20.0   \n",
       "2023-01-03  Widget C   East       Emily Davis           8        20.0   \n",
       "2023-01-01  Widget A  North          John Doe          10        25.0   \n",
       "2023-01-08  Widget B   West    Linda Martinez          10        30.0   \n",
       "2023-01-04  Widget A   West     Michael Brown          12        25.0   \n",
       "2023-01-10  Widget A  South         Susan Lee          14        25.0   \n",
       "2023-01-02  Widget B  South        Jane Smith          15        30.0   \n",
       "2023-01-07  Widget A   East     Robert Garcia          18        25.0   \n",
       "2023-01-05  Widget B  North      Chris Wilson          20        30.0   \n",
       "\n",
       "            Total Sales  \n",
       "Date                     \n",
       "2023-01-06        100.0  \n",
       "2023-01-09        140.0  \n",
       "2023-01-03        160.0  \n",
       "2023-01-01        250.0  \n",
       "2023-01-08        300.0  \n",
       "2023-01-04        300.0  \n",
       "2023-01-10        350.0  \n",
       "2023-01-02        450.0  \n",
       "2023-01-07        450.0  \n",
       "2023-01-05        600.0  "
      ]
     },
     "execution_count": 16,
     "metadata": {},
     "output_type": "execute_result"
    }
   ],
   "source": [
    "sales_df.sort_values(by= \"Units Sold\", ascending= True, axis= 0)"
   ]
  },
  {
   "cell_type": "code",
   "execution_count": 17,
   "id": "9ca4321b",
   "metadata": {},
   "outputs": [
    {
     "data": {
      "application/vnd.microsoft.datawrangler.viewer.v0+json": {
       "columns": [
        {
         "name": "Date",
         "rawType": "object",
         "type": "string"
        },
        {
         "name": "Product",
         "rawType": "object",
         "type": "string"
        },
        {
         "name": "Region",
         "rawType": "object",
         "type": "string"
        },
        {
         "name": "Salesperson",
         "rawType": "object",
         "type": "string"
        },
        {
         "name": "Units Sold",
         "rawType": "int64",
         "type": "integer"
        },
        {
         "name": "Unit Price",
         "rawType": "float64",
         "type": "float"
        },
        {
         "name": "Total Sales",
         "rawType": "float64",
         "type": "float"
        }
       ],
       "conversionMethod": "pd.DataFrame",
       "ref": "f070ac65-d605-4e1c-be7e-274ee4ac412e",
       "rows": [
        [
         "2023-01-03",
         "Widget C",
         "East",
         "Emily Davis",
         "8",
         "20.0",
         "160.0"
        ],
        [
         "2023-01-07",
         "Widget A",
         "East",
         "Robert Garcia",
         "18",
         "25.0",
         "450.0"
        ],
        [
         "2023-01-01",
         "Widget A",
         "North",
         "John Doe",
         "10",
         "25.0",
         "250.0"
        ],
        [
         "2023-01-05",
         "Widget B",
         "North",
         "Chris Wilson",
         "20",
         "30.0",
         "600.0"
        ],
        [
         "2023-01-09",
         "Widget C",
         "North",
         "James Anderson",
         "7",
         "20.0",
         "140.0"
        ],
        [
         "2023-01-02",
         "Widget B",
         "South",
         "Jane Smith",
         "15",
         "30.0",
         "450.0"
        ],
        [
         "2023-01-06",
         "Widget C",
         "South",
         "Patricia Johnson",
         "5",
         "20.0",
         "100.0"
        ],
        [
         "2023-01-10",
         "Widget A",
         "South",
         "Susan Lee",
         "14",
         "25.0",
         "350.0"
        ],
        [
         "2023-01-04",
         "Widget A",
         "West",
         "Michael Brown",
         "12",
         "25.0",
         "300.0"
        ],
        [
         "2023-01-08",
         "Widget B",
         "West",
         "Linda Martinez",
         "10",
         "30.0",
         "300.0"
        ]
       ],
       "shape": {
        "columns": 6,
        "rows": 10
       }
      },
      "text/html": [
       "<div>\n",
       "<style scoped>\n",
       "    .dataframe tbody tr th:only-of-type {\n",
       "        vertical-align: middle;\n",
       "    }\n",
       "\n",
       "    .dataframe tbody tr th {\n",
       "        vertical-align: top;\n",
       "    }\n",
       "\n",
       "    .dataframe thead th {\n",
       "        text-align: right;\n",
       "    }\n",
       "</style>\n",
       "<table border=\"1\" class=\"dataframe\">\n",
       "  <thead>\n",
       "    <tr style=\"text-align: right;\">\n",
       "      <th></th>\n",
       "      <th>Product</th>\n",
       "      <th>Region</th>\n",
       "      <th>Salesperson</th>\n",
       "      <th>Units Sold</th>\n",
       "      <th>Unit Price</th>\n",
       "      <th>Total Sales</th>\n",
       "    </tr>\n",
       "    <tr>\n",
       "      <th>Date</th>\n",
       "      <th></th>\n",
       "      <th></th>\n",
       "      <th></th>\n",
       "      <th></th>\n",
       "      <th></th>\n",
       "      <th></th>\n",
       "    </tr>\n",
       "  </thead>\n",
       "  <tbody>\n",
       "    <tr>\n",
       "      <th>2023-01-03</th>\n",
       "      <td>Widget C</td>\n",
       "      <td>East</td>\n",
       "      <td>Emily Davis</td>\n",
       "      <td>8</td>\n",
       "      <td>20.0</td>\n",
       "      <td>160.0</td>\n",
       "    </tr>\n",
       "    <tr>\n",
       "      <th>2023-01-07</th>\n",
       "      <td>Widget A</td>\n",
       "      <td>East</td>\n",
       "      <td>Robert Garcia</td>\n",
       "      <td>18</td>\n",
       "      <td>25.0</td>\n",
       "      <td>450.0</td>\n",
       "    </tr>\n",
       "    <tr>\n",
       "      <th>2023-01-01</th>\n",
       "      <td>Widget A</td>\n",
       "      <td>North</td>\n",
       "      <td>John Doe</td>\n",
       "      <td>10</td>\n",
       "      <td>25.0</td>\n",
       "      <td>250.0</td>\n",
       "    </tr>\n",
       "    <tr>\n",
       "      <th>2023-01-05</th>\n",
       "      <td>Widget B</td>\n",
       "      <td>North</td>\n",
       "      <td>Chris Wilson</td>\n",
       "      <td>20</td>\n",
       "      <td>30.0</td>\n",
       "      <td>600.0</td>\n",
       "    </tr>\n",
       "    <tr>\n",
       "      <th>2023-01-09</th>\n",
       "      <td>Widget C</td>\n",
       "      <td>North</td>\n",
       "      <td>James Anderson</td>\n",
       "      <td>7</td>\n",
       "      <td>20.0</td>\n",
       "      <td>140.0</td>\n",
       "    </tr>\n",
       "    <tr>\n",
       "      <th>2023-01-02</th>\n",
       "      <td>Widget B</td>\n",
       "      <td>South</td>\n",
       "      <td>Jane Smith</td>\n",
       "      <td>15</td>\n",
       "      <td>30.0</td>\n",
       "      <td>450.0</td>\n",
       "    </tr>\n",
       "    <tr>\n",
       "      <th>2023-01-06</th>\n",
       "      <td>Widget C</td>\n",
       "      <td>South</td>\n",
       "      <td>Patricia Johnson</td>\n",
       "      <td>5</td>\n",
       "      <td>20.0</td>\n",
       "      <td>100.0</td>\n",
       "    </tr>\n",
       "    <tr>\n",
       "      <th>2023-01-10</th>\n",
       "      <td>Widget A</td>\n",
       "      <td>South</td>\n",
       "      <td>Susan Lee</td>\n",
       "      <td>14</td>\n",
       "      <td>25.0</td>\n",
       "      <td>350.0</td>\n",
       "    </tr>\n",
       "    <tr>\n",
       "      <th>2023-01-04</th>\n",
       "      <td>Widget A</td>\n",
       "      <td>West</td>\n",
       "      <td>Michael Brown</td>\n",
       "      <td>12</td>\n",
       "      <td>25.0</td>\n",
       "      <td>300.0</td>\n",
       "    </tr>\n",
       "    <tr>\n",
       "      <th>2023-01-08</th>\n",
       "      <td>Widget B</td>\n",
       "      <td>West</td>\n",
       "      <td>Linda Martinez</td>\n",
       "      <td>10</td>\n",
       "      <td>30.0</td>\n",
       "      <td>300.0</td>\n",
       "    </tr>\n",
       "  </tbody>\n",
       "</table>\n",
       "</div>"
      ],
      "text/plain": [
       "             Product Region       Salesperson  Units Sold  Unit Price  \\\n",
       "Date                                                                    \n",
       "2023-01-03  Widget C   East       Emily Davis           8        20.0   \n",
       "2023-01-07  Widget A   East     Robert Garcia          18        25.0   \n",
       "2023-01-01  Widget A  North          John Doe          10        25.0   \n",
       "2023-01-05  Widget B  North      Chris Wilson          20        30.0   \n",
       "2023-01-09  Widget C  North    James Anderson           7        20.0   \n",
       "2023-01-02  Widget B  South        Jane Smith          15        30.0   \n",
       "2023-01-06  Widget C  South  Patricia Johnson           5        20.0   \n",
       "2023-01-10  Widget A  South         Susan Lee          14        25.0   \n",
       "2023-01-04  Widget A   West     Michael Brown          12        25.0   \n",
       "2023-01-08  Widget B   West    Linda Martinez          10        30.0   \n",
       "\n",
       "            Total Sales  \n",
       "Date                     \n",
       "2023-01-03        160.0  \n",
       "2023-01-07        450.0  \n",
       "2023-01-01        250.0  \n",
       "2023-01-05        600.0  \n",
       "2023-01-09        140.0  \n",
       "2023-01-02        450.0  \n",
       "2023-01-06        100.0  \n",
       "2023-01-10        350.0  \n",
       "2023-01-04        300.0  \n",
       "2023-01-08        300.0  "
      ]
     },
     "execution_count": 17,
     "metadata": {},
     "output_type": "execute_result"
    }
   ],
   "source": [
    "def sort_df(old_df, col):\n",
    "    new_df = old_df.sort_values(by= col, ascending= True)\n",
    "    return new_df\n",
    "\n",
    "new_sales_df = sort_df(sales_df, \"Region\")\n",
    "new_sales_df"
   ]
  },
  {
   "cell_type": "markdown",
   "id": "5353a681",
   "metadata": {},
   "source": [
    "5. Given a Pandas DataFrame, filter the rows to include only the rows where a specific column meets a condition."
   ]
  },
  {
   "cell_type": "code",
   "execution_count": 18,
   "id": "50e961c3",
   "metadata": {},
   "outputs": [
    {
     "data": {
      "application/vnd.microsoft.datawrangler.viewer.v0+json": {
       "columns": [
        {
         "name": "index",
         "rawType": "int64",
         "type": "integer"
        },
        {
         "name": "Name",
         "rawType": "object",
         "type": "string"
        },
        {
         "name": "Age",
         "rawType": "int64",
         "type": "integer"
        },
        {
         "name": "Grade",
         "rawType": "int64",
         "type": "integer"
        },
        {
         "name": "Section",
         "rawType": "object",
         "type": "string"
        }
       ],
       "conversionMethod": "pd.DataFrame",
       "ref": "355c1f45-90ce-437c-ae9c-59e1d83555b9",
       "rows": [
        [
         "0",
         "Alice Johnson",
         "14",
         "9",
         "A"
        ],
        [
         "1",
         "Bob Smith",
         "15",
         "10",
         "B"
        ],
        [
         "2",
         "Charlie Brown",
         "13",
         "8",
         "C"
        ],
        [
         "3",
         "Diana Prince",
         "14",
         "9",
         "A"
        ],
        [
         "4",
         "Ethan Hunt",
         "15",
         "10",
         "B"
        ],
        [
         "5",
         "Fiona Davis",
         "13",
         "8",
         "C"
        ],
        [
         "6",
         "George Miller",
         "14",
         "9",
         "A"
        ],
        [
         "7",
         "Hannah Lee",
         "15",
         "10",
         "B"
        ],
        [
         "8",
         "Ian Wright",
         "13",
         "8",
         "C"
        ],
        [
         "9",
         "Julia Roberts",
         "14",
         "9",
         "A"
        ]
       ],
       "shape": {
        "columns": 4,
        "rows": 10
       }
      },
      "text/html": [
       "<div>\n",
       "<style scoped>\n",
       "    .dataframe tbody tr th:only-of-type {\n",
       "        vertical-align: middle;\n",
       "    }\n",
       "\n",
       "    .dataframe tbody tr th {\n",
       "        vertical-align: top;\n",
       "    }\n",
       "\n",
       "    .dataframe thead th {\n",
       "        text-align: right;\n",
       "    }\n",
       "</style>\n",
       "<table border=\"1\" class=\"dataframe\">\n",
       "  <thead>\n",
       "    <tr style=\"text-align: right;\">\n",
       "      <th></th>\n",
       "      <th>Name</th>\n",
       "      <th>Age</th>\n",
       "      <th>Grade</th>\n",
       "      <th>Section</th>\n",
       "    </tr>\n",
       "  </thead>\n",
       "  <tbody>\n",
       "    <tr>\n",
       "      <th>0</th>\n",
       "      <td>Alice Johnson</td>\n",
       "      <td>14</td>\n",
       "      <td>9</td>\n",
       "      <td>A</td>\n",
       "    </tr>\n",
       "    <tr>\n",
       "      <th>1</th>\n",
       "      <td>Bob Smith</td>\n",
       "      <td>15</td>\n",
       "      <td>10</td>\n",
       "      <td>B</td>\n",
       "    </tr>\n",
       "    <tr>\n",
       "      <th>2</th>\n",
       "      <td>Charlie Brown</td>\n",
       "      <td>13</td>\n",
       "      <td>8</td>\n",
       "      <td>C</td>\n",
       "    </tr>\n",
       "    <tr>\n",
       "      <th>3</th>\n",
       "      <td>Diana Prince</td>\n",
       "      <td>14</td>\n",
       "      <td>9</td>\n",
       "      <td>A</td>\n",
       "    </tr>\n",
       "    <tr>\n",
       "      <th>4</th>\n",
       "      <td>Ethan Hunt</td>\n",
       "      <td>15</td>\n",
       "      <td>10</td>\n",
       "      <td>B</td>\n",
       "    </tr>\n",
       "    <tr>\n",
       "      <th>5</th>\n",
       "      <td>Fiona Davis</td>\n",
       "      <td>13</td>\n",
       "      <td>8</td>\n",
       "      <td>C</td>\n",
       "    </tr>\n",
       "    <tr>\n",
       "      <th>6</th>\n",
       "      <td>George Miller</td>\n",
       "      <td>14</td>\n",
       "      <td>9</td>\n",
       "      <td>A</td>\n",
       "    </tr>\n",
       "    <tr>\n",
       "      <th>7</th>\n",
       "      <td>Hannah Lee</td>\n",
       "      <td>15</td>\n",
       "      <td>10</td>\n",
       "      <td>B</td>\n",
       "    </tr>\n",
       "    <tr>\n",
       "      <th>8</th>\n",
       "      <td>Ian Wright</td>\n",
       "      <td>13</td>\n",
       "      <td>8</td>\n",
       "      <td>C</td>\n",
       "    </tr>\n",
       "    <tr>\n",
       "      <th>9</th>\n",
       "      <td>Julia Roberts</td>\n",
       "      <td>14</td>\n",
       "      <td>9</td>\n",
       "      <td>A</td>\n",
       "    </tr>\n",
       "  </tbody>\n",
       "</table>\n",
       "</div>"
      ],
      "text/plain": [
       "            Name  Age  Grade Section\n",
       "0  Alice Johnson   14      9       A\n",
       "1      Bob Smith   15     10       B\n",
       "2  Charlie Brown   13      8       C\n",
       "3   Diana Prince   14      9       A\n",
       "4     Ethan Hunt   15     10       B\n",
       "5    Fiona Davis   13      8       C\n",
       "6  George Miller   14      9       A\n",
       "7     Hannah Lee   15     10       B\n",
       "8     Ian Wright   13      8       C\n",
       "9  Julia Roberts   14      9       A"
      ]
     },
     "execution_count": 18,
     "metadata": {},
     "output_type": "execute_result"
    }
   ],
   "source": [
    "stud_df.head(10)"
   ]
  },
  {
   "cell_type": "code",
   "execution_count": 19,
   "id": "ef78201a",
   "metadata": {},
   "outputs": [
    {
     "data": {
      "application/vnd.microsoft.datawrangler.viewer.v0+json": {
       "columns": [
        {
         "name": "index",
         "rawType": "int64",
         "type": "integer"
        },
        {
         "name": "Name",
         "rawType": "object",
         "type": "string"
        },
        {
         "name": "Age",
         "rawType": "int64",
         "type": "integer"
        },
        {
         "name": "Grade",
         "rawType": "int64",
         "type": "integer"
        },
        {
         "name": "Section",
         "rawType": "object",
         "type": "string"
        }
       ],
       "conversionMethod": "pd.DataFrame",
       "ref": "5448d67a-2f64-4da3-916e-12115e45617e",
       "rows": [
        [
         "0",
         "Alice Johnson",
         "14",
         "9",
         "A"
        ],
        [
         "3",
         "Diana Prince",
         "14",
         "9",
         "A"
        ],
        [
         "6",
         "George Miller",
         "14",
         "9",
         "A"
        ],
        [
         "9",
         "Julia Roberts",
         "14",
         "9",
         "A"
        ],
        [
         "12",
         "Michael Scott",
         "14",
         "9",
         "A"
        ],
        [
         "15",
         "Paula Patton",
         "14",
         "9",
         "A"
        ],
        [
         "18",
         "Steve Rogers",
         "14",
         "9",
         "A"
        ],
        [
         "21",
         "Victor Hugo",
         "14",
         "9",
         "A"
        ],
        [
         "24",
         "Yara Shahidi",
         "14",
         "9",
         "A"
        ],
        [
         "27",
         "Bella Swan",
         "14",
         "9",
         "A"
        ]
       ],
       "shape": {
        "columns": 4,
        "rows": 10
       }
      },
      "text/html": [
       "<div>\n",
       "<style scoped>\n",
       "    .dataframe tbody tr th:only-of-type {\n",
       "        vertical-align: middle;\n",
       "    }\n",
       "\n",
       "    .dataframe tbody tr th {\n",
       "        vertical-align: top;\n",
       "    }\n",
       "\n",
       "    .dataframe thead th {\n",
       "        text-align: right;\n",
       "    }\n",
       "</style>\n",
       "<table border=\"1\" class=\"dataframe\">\n",
       "  <thead>\n",
       "    <tr style=\"text-align: right;\">\n",
       "      <th></th>\n",
       "      <th>Name</th>\n",
       "      <th>Age</th>\n",
       "      <th>Grade</th>\n",
       "      <th>Section</th>\n",
       "    </tr>\n",
       "  </thead>\n",
       "  <tbody>\n",
       "    <tr>\n",
       "      <th>0</th>\n",
       "      <td>Alice Johnson</td>\n",
       "      <td>14</td>\n",
       "      <td>9</td>\n",
       "      <td>A</td>\n",
       "    </tr>\n",
       "    <tr>\n",
       "      <th>3</th>\n",
       "      <td>Diana Prince</td>\n",
       "      <td>14</td>\n",
       "      <td>9</td>\n",
       "      <td>A</td>\n",
       "    </tr>\n",
       "    <tr>\n",
       "      <th>6</th>\n",
       "      <td>George Miller</td>\n",
       "      <td>14</td>\n",
       "      <td>9</td>\n",
       "      <td>A</td>\n",
       "    </tr>\n",
       "    <tr>\n",
       "      <th>9</th>\n",
       "      <td>Julia Roberts</td>\n",
       "      <td>14</td>\n",
       "      <td>9</td>\n",
       "      <td>A</td>\n",
       "    </tr>\n",
       "    <tr>\n",
       "      <th>12</th>\n",
       "      <td>Michael Scott</td>\n",
       "      <td>14</td>\n",
       "      <td>9</td>\n",
       "      <td>A</td>\n",
       "    </tr>\n",
       "    <tr>\n",
       "      <th>15</th>\n",
       "      <td>Paula Patton</td>\n",
       "      <td>14</td>\n",
       "      <td>9</td>\n",
       "      <td>A</td>\n",
       "    </tr>\n",
       "    <tr>\n",
       "      <th>18</th>\n",
       "      <td>Steve Rogers</td>\n",
       "      <td>14</td>\n",
       "      <td>9</td>\n",
       "      <td>A</td>\n",
       "    </tr>\n",
       "    <tr>\n",
       "      <th>21</th>\n",
       "      <td>Victor Hugo</td>\n",
       "      <td>14</td>\n",
       "      <td>9</td>\n",
       "      <td>A</td>\n",
       "    </tr>\n",
       "    <tr>\n",
       "      <th>24</th>\n",
       "      <td>Yara Shahidi</td>\n",
       "      <td>14</td>\n",
       "      <td>9</td>\n",
       "      <td>A</td>\n",
       "    </tr>\n",
       "    <tr>\n",
       "      <th>27</th>\n",
       "      <td>Bella Swan</td>\n",
       "      <td>14</td>\n",
       "      <td>9</td>\n",
       "      <td>A</td>\n",
       "    </tr>\n",
       "  </tbody>\n",
       "</table>\n",
       "</div>"
      ],
      "text/plain": [
       "             Name  Age  Grade Section\n",
       "0   Alice Johnson   14      9       A\n",
       "3    Diana Prince   14      9       A\n",
       "6   George Miller   14      9       A\n",
       "9   Julia Roberts   14      9       A\n",
       "12  Michael Scott   14      9       A\n",
       "15   Paula Patton   14      9       A\n",
       "18   Steve Rogers   14      9       A\n",
       "21    Victor Hugo   14      9       A\n",
       "24   Yara Shahidi   14      9       A\n",
       "27     Bella Swan   14      9       A"
      ]
     },
     "execution_count": 19,
     "metadata": {},
     "output_type": "execute_result"
    }
   ],
   "source": [
    "stud_df[stud_df[\"Section\"] == \"A\"].head(10)"
   ]
  },
  {
   "cell_type": "markdown",
   "id": "3ff245b3",
   "metadata": {},
   "source": [
    "6. Implement a program that reads a CSV file into a Pandas DataFrame and calculates the sum of a specific column."
   ]
  },
  {
   "cell_type": "code",
   "execution_count": 20,
   "id": "fb70521a",
   "metadata": {},
   "outputs": [
    {
     "name": "stdout",
     "output_type": "stream",
     "text": [
      "<class 'pandas.core.frame.DataFrame'>\n",
      "RangeIndex: 10 entries, 0 to 9\n",
      "Data columns (total 7 columns):\n",
      " #   Column       Non-Null Count  Dtype  \n",
      "---  ------       --------------  -----  \n",
      " 0   Date         10 non-null     object \n",
      " 1   Product      10 non-null     object \n",
      " 2   Region       10 non-null     object \n",
      " 3   Salesperson  10 non-null     object \n",
      " 4   Units Sold   10 non-null     int64  \n",
      " 5   Unit Price   10 non-null     float64\n",
      " 6   Total Sales  10 non-null     float64\n",
      "dtypes: float64(2), int64(1), object(4)\n",
      "memory usage: 692.0+ bytes\n"
     ]
    }
   ],
   "source": [
    "sales_df = pd.read_csv(\"data/day_12/sales.csv\")\n",
    "sales_df.info()"
   ]
  },
  {
   "cell_type": "code",
   "execution_count": 21,
   "id": "912271f5",
   "metadata": {},
   "outputs": [
    {
     "data": {
      "application/vnd.microsoft.datawrangler.viewer.v0+json": {
       "columns": [
        {
         "name": "Product",
         "rawType": "object",
         "type": "string"
        },
        {
         "name": "Units Sold",
         "rawType": "int64",
         "type": "integer"
        }
       ],
       "conversionMethod": "pd.DataFrame",
       "ref": "5b25ad9d-c1e6-4a80-9412-584dc28857f2",
       "rows": [
        [
         "Widget A",
         "54"
        ],
        [
         "Widget B",
         "45"
        ],
        [
         "Widget C",
         "20"
        ]
       ],
       "shape": {
        "columns": 1,
        "rows": 3
       }
      },
      "text/html": [
       "<div>\n",
       "<style scoped>\n",
       "    .dataframe tbody tr th:only-of-type {\n",
       "        vertical-align: middle;\n",
       "    }\n",
       "\n",
       "    .dataframe tbody tr th {\n",
       "        vertical-align: top;\n",
       "    }\n",
       "\n",
       "    .dataframe thead th {\n",
       "        text-align: right;\n",
       "    }\n",
       "</style>\n",
       "<table border=\"1\" class=\"dataframe\">\n",
       "  <thead>\n",
       "    <tr style=\"text-align: right;\">\n",
       "      <th></th>\n",
       "      <th>Units Sold</th>\n",
       "    </tr>\n",
       "    <tr>\n",
       "      <th>Product</th>\n",
       "      <th></th>\n",
       "    </tr>\n",
       "  </thead>\n",
       "  <tbody>\n",
       "    <tr>\n",
       "      <th>Widget A</th>\n",
       "      <td>54</td>\n",
       "    </tr>\n",
       "    <tr>\n",
       "      <th>Widget B</th>\n",
       "      <td>45</td>\n",
       "    </tr>\n",
       "    <tr>\n",
       "      <th>Widget C</th>\n",
       "      <td>20</td>\n",
       "    </tr>\n",
       "  </tbody>\n",
       "</table>\n",
       "</div>"
      ],
      "text/plain": [
       "          Units Sold\n",
       "Product             \n",
       "Widget A          54\n",
       "Widget B          45\n",
       "Widget C          20"
      ]
     },
     "execution_count": 21,
     "metadata": {},
     "output_type": "execute_result"
    }
   ],
   "source": [
    "total_sold_units = sales_df[\"Units Sold\"].groupby(sales_df[\"Product\"]).sum()\n",
    "total_sold_units.to_frame()"
   ]
  },
  {
   "cell_type": "code",
   "execution_count": 22,
   "id": "ad99fb56",
   "metadata": {},
   "outputs": [
    {
     "name": "stdout",
     "output_type": "stream",
     "text": [
      "Total sales: 3100.0\n"
     ]
    }
   ],
   "source": [
    "total_sales = sales_df[\"Total Sales\"].sum()\n",
    "print(f\"Total sales: {total_sales}\")"
   ]
  },
  {
   "cell_type": "markdown",
   "id": "d5cdc537",
   "metadata": {},
   "source": [
    "7. Write a function that takes a Pandas DataFrame and adds a new calculated column to the DataFrame."
   ]
  },
  {
   "cell_type": "code",
   "execution_count": 23,
   "id": "55eb6804",
   "metadata": {},
   "outputs": [
    {
     "data": {
      "application/vnd.microsoft.datawrangler.viewer.v0+json": {
       "columns": [
        {
         "name": "index",
         "rawType": "int64",
         "type": "integer"
        },
        {
         "name": "Name",
         "rawType": "object",
         "type": "string"
        },
        {
         "name": "Position",
         "rawType": "object",
         "type": "string"
        },
        {
         "name": "Salary",
         "rawType": "int64",
         "type": "integer"
        },
        {
         "name": "Income Tax Rate",
         "rawType": "object",
         "type": "string"
        }
       ],
       "conversionMethod": "pd.DataFrame",
       "ref": "71dfed8b-197d-40b4-adb9-ab6efef7b872",
       "rows": [
        [
         "0",
         "John Doe",
         "Software Engineer",
         "85000",
         "22%"
        ],
        [
         "1",
         "Jane Smith",
         "Data Scientist",
         "95000",
         "24%"
        ],
        [
         "2",
         "Alice Johnson",
         "Product Manager",
         "105000",
         "24%"
        ],
        [
         "3",
         "Bob Brown",
         "UX Designer",
         "78000",
         "22%"
        ],
        [
         "4",
         "Charlie Davis",
         "System Administrator",
         "67000",
         "20%"
        ]
       ],
       "shape": {
        "columns": 4,
        "rows": 5
       }
      },
      "text/html": [
       "<div>\n",
       "<style scoped>\n",
       "    .dataframe tbody tr th:only-of-type {\n",
       "        vertical-align: middle;\n",
       "    }\n",
       "\n",
       "    .dataframe tbody tr th {\n",
       "        vertical-align: top;\n",
       "    }\n",
       "\n",
       "    .dataframe thead th {\n",
       "        text-align: right;\n",
       "    }\n",
       "</style>\n",
       "<table border=\"1\" class=\"dataframe\">\n",
       "  <thead>\n",
       "    <tr style=\"text-align: right;\">\n",
       "      <th></th>\n",
       "      <th>Name</th>\n",
       "      <th>Position</th>\n",
       "      <th>Salary</th>\n",
       "      <th>Income Tax Rate</th>\n",
       "    </tr>\n",
       "  </thead>\n",
       "  <tbody>\n",
       "    <tr>\n",
       "      <th>0</th>\n",
       "      <td>John Doe</td>\n",
       "      <td>Software Engineer</td>\n",
       "      <td>85000</td>\n",
       "      <td>22%</td>\n",
       "    </tr>\n",
       "    <tr>\n",
       "      <th>1</th>\n",
       "      <td>Jane Smith</td>\n",
       "      <td>Data Scientist</td>\n",
       "      <td>95000</td>\n",
       "      <td>24%</td>\n",
       "    </tr>\n",
       "    <tr>\n",
       "      <th>2</th>\n",
       "      <td>Alice Johnson</td>\n",
       "      <td>Product Manager</td>\n",
       "      <td>105000</td>\n",
       "      <td>24%</td>\n",
       "    </tr>\n",
       "    <tr>\n",
       "      <th>3</th>\n",
       "      <td>Bob Brown</td>\n",
       "      <td>UX Designer</td>\n",
       "      <td>78000</td>\n",
       "      <td>22%</td>\n",
       "    </tr>\n",
       "    <tr>\n",
       "      <th>4</th>\n",
       "      <td>Charlie Davis</td>\n",
       "      <td>System Administrator</td>\n",
       "      <td>67000</td>\n",
       "      <td>20%</td>\n",
       "    </tr>\n",
       "  </tbody>\n",
       "</table>\n",
       "</div>"
      ],
      "text/plain": [
       "            Name              Position  Salary Income Tax Rate\n",
       "0       John Doe     Software Engineer   85000             22%\n",
       "1     Jane Smith        Data Scientist   95000             24%\n",
       "2  Alice Johnson       Product Manager  105000             24%\n",
       "3      Bob Brown           UX Designer   78000             22%\n",
       "4  Charlie Davis  System Administrator   67000             20%"
      ]
     },
     "execution_count": 23,
     "metadata": {},
     "output_type": "execute_result"
    }
   ],
   "source": [
    "def add_col(old_df):\n",
    "    old_df[\"Tax\"] = old_df[\"Salary\"] * old_df[\"Income Tax Rate\"].apply(lambda x: x[:-1]).astype(int) / 100\n",
    "    return old_df\n",
    "\n",
    "tax_df = pd.read_csv(\"data/day_12/tax.csv\")\n",
    "tax_df.head()"
   ]
  },
  {
   "cell_type": "code",
   "execution_count": 24,
   "id": "10922c20",
   "metadata": {},
   "outputs": [
    {
     "data": {
      "application/vnd.microsoft.datawrangler.viewer.v0+json": {
       "columns": [
        {
         "name": "index",
         "rawType": "int64",
         "type": "integer"
        },
        {
         "name": "Name",
         "rawType": "object",
         "type": "string"
        },
        {
         "name": "Position",
         "rawType": "object",
         "type": "string"
        },
        {
         "name": "Salary",
         "rawType": "int64",
         "type": "integer"
        },
        {
         "name": "Income Tax Rate",
         "rawType": "object",
         "type": "string"
        },
        {
         "name": "Tax",
         "rawType": "float64",
         "type": "float"
        }
       ],
       "conversionMethod": "pd.DataFrame",
       "ref": "8d1d7bda-55c6-4381-bd07-e2d5465e28f4",
       "rows": [
        [
         "0",
         "John Doe",
         "Software Engineer",
         "85000",
         "22%",
         "18700.0"
        ],
        [
         "1",
         "Jane Smith",
         "Data Scientist",
         "95000",
         "24%",
         "22800.0"
        ],
        [
         "2",
         "Alice Johnson",
         "Product Manager",
         "105000",
         "24%",
         "25200.0"
        ],
        [
         "3",
         "Bob Brown",
         "UX Designer",
         "78000",
         "22%",
         "17160.0"
        ],
        [
         "4",
         "Charlie Davis",
         "System Administrator",
         "67000",
         "20%",
         "13400.0"
        ]
       ],
       "shape": {
        "columns": 5,
        "rows": 5
       }
      },
      "text/html": [
       "<div>\n",
       "<style scoped>\n",
       "    .dataframe tbody tr th:only-of-type {\n",
       "        vertical-align: middle;\n",
       "    }\n",
       "\n",
       "    .dataframe tbody tr th {\n",
       "        vertical-align: top;\n",
       "    }\n",
       "\n",
       "    .dataframe thead th {\n",
       "        text-align: right;\n",
       "    }\n",
       "</style>\n",
       "<table border=\"1\" class=\"dataframe\">\n",
       "  <thead>\n",
       "    <tr style=\"text-align: right;\">\n",
       "      <th></th>\n",
       "      <th>Name</th>\n",
       "      <th>Position</th>\n",
       "      <th>Salary</th>\n",
       "      <th>Income Tax Rate</th>\n",
       "      <th>Tax</th>\n",
       "    </tr>\n",
       "  </thead>\n",
       "  <tbody>\n",
       "    <tr>\n",
       "      <th>0</th>\n",
       "      <td>John Doe</td>\n",
       "      <td>Software Engineer</td>\n",
       "      <td>85000</td>\n",
       "      <td>22%</td>\n",
       "      <td>18700.0</td>\n",
       "    </tr>\n",
       "    <tr>\n",
       "      <th>1</th>\n",
       "      <td>Jane Smith</td>\n",
       "      <td>Data Scientist</td>\n",
       "      <td>95000</td>\n",
       "      <td>24%</td>\n",
       "      <td>22800.0</td>\n",
       "    </tr>\n",
       "    <tr>\n",
       "      <th>2</th>\n",
       "      <td>Alice Johnson</td>\n",
       "      <td>Product Manager</td>\n",
       "      <td>105000</td>\n",
       "      <td>24%</td>\n",
       "      <td>25200.0</td>\n",
       "    </tr>\n",
       "    <tr>\n",
       "      <th>3</th>\n",
       "      <td>Bob Brown</td>\n",
       "      <td>UX Designer</td>\n",
       "      <td>78000</td>\n",
       "      <td>22%</td>\n",
       "      <td>17160.0</td>\n",
       "    </tr>\n",
       "    <tr>\n",
       "      <th>4</th>\n",
       "      <td>Charlie Davis</td>\n",
       "      <td>System Administrator</td>\n",
       "      <td>67000</td>\n",
       "      <td>20%</td>\n",
       "      <td>13400.0</td>\n",
       "    </tr>\n",
       "  </tbody>\n",
       "</table>\n",
       "</div>"
      ],
      "text/plain": [
       "            Name              Position  Salary Income Tax Rate      Tax\n",
       "0       John Doe     Software Engineer   85000             22%  18700.0\n",
       "1     Jane Smith        Data Scientist   95000             24%  22800.0\n",
       "2  Alice Johnson       Product Manager  105000             24%  25200.0\n",
       "3      Bob Brown           UX Designer   78000             22%  17160.0\n",
       "4  Charlie Davis  System Administrator   67000             20%  13400.0"
      ]
     },
     "execution_count": 24,
     "metadata": {},
     "output_type": "execute_result"
    }
   ],
   "source": [
    "tax_df = add_col(tax_df)\n",
    "tax_df.head()"
   ]
  },
  {
   "cell_type": "markdown",
   "id": "ade9ba25",
   "metadata": {},
   "source": [
    "8. Given a Pandas DataFrame, group the data by a specific column and calculate the mean of another column."
   ]
  },
  {
   "cell_type": "code",
   "execution_count": 25,
   "id": "e72c8c73",
   "metadata": {},
   "outputs": [
    {
     "data": {
      "application/vnd.microsoft.datawrangler.viewer.v0+json": {
       "columns": [
        {
         "name": "Department",
         "rawType": "object",
         "type": "string"
        },
        {
         "name": "Salary",
         "rawType": "float64",
         "type": "float"
        }
       ],
       "conversionMethod": "pd.DataFrame",
       "ref": "c17b601f-ae0b-4220-b01c-b811cab3a2d4",
       "rows": [
        [
         "Engineering",
         "81666.667"
        ],
        [
         "Finance",
         "60000.0"
        ],
        [
         "HR",
         "52000.0"
        ],
        [
         "Marketing",
         "59000.0"
        ],
        [
         "Sales",
         "45000.0"
        ]
       ],
       "shape": {
        "columns": 1,
        "rows": 5
       }
      },
      "text/html": [
       "<div>\n",
       "<style scoped>\n",
       "    .dataframe tbody tr th:only-of-type {\n",
       "        vertical-align: middle;\n",
       "    }\n",
       "\n",
       "    .dataframe tbody tr th {\n",
       "        vertical-align: top;\n",
       "    }\n",
       "\n",
       "    .dataframe thead th {\n",
       "        text-align: right;\n",
       "    }\n",
       "</style>\n",
       "<table border=\"1\" class=\"dataframe\">\n",
       "  <thead>\n",
       "    <tr style=\"text-align: right;\">\n",
       "      <th></th>\n",
       "      <th>Salary</th>\n",
       "    </tr>\n",
       "    <tr>\n",
       "      <th>Department</th>\n",
       "      <th></th>\n",
       "    </tr>\n",
       "  </thead>\n",
       "  <tbody>\n",
       "    <tr>\n",
       "      <th>Engineering</th>\n",
       "      <td>81666.667</td>\n",
       "    </tr>\n",
       "    <tr>\n",
       "      <th>Finance</th>\n",
       "      <td>60000.000</td>\n",
       "    </tr>\n",
       "    <tr>\n",
       "      <th>HR</th>\n",
       "      <td>52000.000</td>\n",
       "    </tr>\n",
       "    <tr>\n",
       "      <th>Marketing</th>\n",
       "      <td>59000.000</td>\n",
       "    </tr>\n",
       "    <tr>\n",
       "      <th>Sales</th>\n",
       "      <td>45000.000</td>\n",
       "    </tr>\n",
       "  </tbody>\n",
       "</table>\n",
       "</div>"
      ],
      "text/plain": [
       "                Salary\n",
       "Department            \n",
       "Engineering  81666.667\n",
       "Finance      60000.000\n",
       "HR           52000.000\n",
       "Marketing    59000.000\n",
       "Sales        45000.000"
      ]
     },
     "execution_count": 25,
     "metadata": {},
     "output_type": "execute_result"
    }
   ],
   "source": [
    "emp_df[\"Salary\"].groupby(emp_df[\"Department\"]).mean().round(3).to_frame()"
   ]
  },
  {
   "cell_type": "markdown",
   "id": "c361261d",
   "metadata": {},
   "source": [
    "9. Create a program that reads a JSON file into a Pandas DataFrame and extracts specific information from it."
   ]
  },
  {
   "cell_type": "code",
   "execution_count": 26,
   "id": "d30c3a25",
   "metadata": {},
   "outputs": [
    {
     "data": {
      "application/vnd.microsoft.datawrangler.viewer.v0+json": {
       "columns": [
        {
         "name": "id",
         "rawType": "int64",
         "type": "integer"
        },
        {
         "name": "product",
         "rawType": "object",
         "type": "string"
        },
        {
         "name": "quantity",
         "rawType": "int64",
         "type": "integer"
        },
        {
         "name": "price",
         "rawType": "int64",
         "type": "integer"
        },
        {
         "name": "date",
         "rawType": "object",
         "type": "string"
        }
       ],
       "conversionMethod": "pd.DataFrame",
       "ref": "d87c408a-68b7-4b09-8ee1-1abc10dc3089",
       "rows": [
        [
         "1",
         "Laptop",
         "5",
         "1200",
         "2023-10-01"
        ],
        [
         "2",
         "Smartphone",
         "10",
         "800",
         "2023-10-02"
        ],
        [
         "3",
         "Tablet",
         "7",
         "500",
         "2023-10-03"
        ],
        [
         "4",
         "Headphones",
         "15",
         "150",
         "2023-10-04"
        ],
        [
         "5",
         "Monitor",
         "3",
         "300",
         "2023-10-05"
        ]
       ],
       "shape": {
        "columns": 4,
        "rows": 5
       }
      },
      "text/html": [
       "<div>\n",
       "<style scoped>\n",
       "    .dataframe tbody tr th:only-of-type {\n",
       "        vertical-align: middle;\n",
       "    }\n",
       "\n",
       "    .dataframe tbody tr th {\n",
       "        vertical-align: top;\n",
       "    }\n",
       "\n",
       "    .dataframe thead th {\n",
       "        text-align: right;\n",
       "    }\n",
       "</style>\n",
       "<table border=\"1\" class=\"dataframe\">\n",
       "  <thead>\n",
       "    <tr style=\"text-align: right;\">\n",
       "      <th></th>\n",
       "      <th>product</th>\n",
       "      <th>quantity</th>\n",
       "      <th>price</th>\n",
       "      <th>date</th>\n",
       "    </tr>\n",
       "    <tr>\n",
       "      <th>id</th>\n",
       "      <th></th>\n",
       "      <th></th>\n",
       "      <th></th>\n",
       "      <th></th>\n",
       "    </tr>\n",
       "  </thead>\n",
       "  <tbody>\n",
       "    <tr>\n",
       "      <th>1</th>\n",
       "      <td>Laptop</td>\n",
       "      <td>5</td>\n",
       "      <td>1200</td>\n",
       "      <td>2023-10-01</td>\n",
       "    </tr>\n",
       "    <tr>\n",
       "      <th>2</th>\n",
       "      <td>Smartphone</td>\n",
       "      <td>10</td>\n",
       "      <td>800</td>\n",
       "      <td>2023-10-02</td>\n",
       "    </tr>\n",
       "    <tr>\n",
       "      <th>3</th>\n",
       "      <td>Tablet</td>\n",
       "      <td>7</td>\n",
       "      <td>500</td>\n",
       "      <td>2023-10-03</td>\n",
       "    </tr>\n",
       "    <tr>\n",
       "      <th>4</th>\n",
       "      <td>Headphones</td>\n",
       "      <td>15</td>\n",
       "      <td>150</td>\n",
       "      <td>2023-10-04</td>\n",
       "    </tr>\n",
       "    <tr>\n",
       "      <th>5</th>\n",
       "      <td>Monitor</td>\n",
       "      <td>3</td>\n",
       "      <td>300</td>\n",
       "      <td>2023-10-05</td>\n",
       "    </tr>\n",
       "  </tbody>\n",
       "</table>\n",
       "</div>"
      ],
      "text/plain": [
       "       product  quantity  price        date\n",
       "id                                         \n",
       "1       Laptop         5   1200  2023-10-01\n",
       "2   Smartphone        10    800  2023-10-02\n",
       "3       Tablet         7    500  2023-10-03\n",
       "4   Headphones        15    150  2023-10-04\n",
       "5      Monitor         3    300  2023-10-05"
      ]
     },
     "execution_count": 26,
     "metadata": {},
     "output_type": "execute_result"
    }
   ],
   "source": [
    "import json\n",
    "with open(\"data/day_12/sales.json\") as f:\n",
    "    data = json.load(f)\n",
    "\n",
    "sales_json_df = pd.DataFrame(data[\"sales\"]).set_index(\"id\")\n",
    "sales_json_df.head()"
   ]
  },
  {
   "cell_type": "markdown",
   "id": "6eef365b",
   "metadata": {},
   "source": [
    "10. Implement a funcion that takes a Pandas DataFrame and returns the transpose of the DataFrame."
   ]
  },
  {
   "cell_type": "code",
   "execution_count": 27,
   "id": "d953e98c",
   "metadata": {},
   "outputs": [
    {
     "data": {
      "application/vnd.microsoft.datawrangler.viewer.v0+json": {
       "columns": [
        {
         "name": "index",
         "rawType": "object",
         "type": "string"
        },
        {
         "name": "0",
         "rawType": "object",
         "type": "unknown"
        },
        {
         "name": "1",
         "rawType": "object",
         "type": "unknown"
        },
        {
         "name": "2",
         "rawType": "object",
         "type": "unknown"
        },
        {
         "name": "3",
         "rawType": "object",
         "type": "unknown"
        },
        {
         "name": "4",
         "rawType": "object",
         "type": "unknown"
        },
        {
         "name": "5",
         "rawType": "object",
         "type": "unknown"
        },
        {
         "name": "6",
         "rawType": "object",
         "type": "unknown"
        },
        {
         "name": "7",
         "rawType": "object",
         "type": "unknown"
        },
        {
         "name": "8",
         "rawType": "object",
         "type": "unknown"
        },
        {
         "name": "9",
         "rawType": "object",
         "type": "unknown"
        }
       ],
       "conversionMethod": "pd.DataFrame",
       "ref": "f8c87122-5208-4afc-acd9-6576213fa679",
       "rows": [
        [
         "Date",
         "2023-01-01",
         "2023-01-02",
         "2023-01-03",
         "2023-01-04",
         "2023-01-05",
         "2023-01-06",
         "2023-01-07",
         "2023-01-08",
         "2023-01-09",
         "2023-01-10"
        ],
        [
         "Product",
         "Widget A",
         "Widget B",
         "Widget C",
         "Widget A",
         "Widget B",
         "Widget C",
         "Widget A",
         "Widget B",
         "Widget C",
         "Widget A"
        ],
        [
         "Region",
         "North",
         "South",
         "East",
         "West",
         "North",
         "South",
         "East",
         "West",
         "North",
         "South"
        ],
        [
         "Salesperson",
         "John Doe",
         "Jane Smith",
         "Emily Davis",
         "Michael Brown",
         "Chris Wilson",
         "Patricia Johnson",
         "Robert Garcia",
         "Linda Martinez",
         "James Anderson",
         "Susan Lee"
        ],
        [
         "Units Sold",
         "10",
         "15",
         "8",
         "12",
         "20",
         "5",
         "18",
         "10",
         "7",
         "14"
        ],
        [
         "Unit Price",
         "25.0",
         "30.0",
         "20.0",
         "25.0",
         "30.0",
         "20.0",
         "25.0",
         "30.0",
         "20.0",
         "25.0"
        ],
        [
         "Total Sales",
         "250.0",
         "450.0",
         "160.0",
         "300.0",
         "600.0",
         "100.0",
         "450.0",
         "300.0",
         "140.0",
         "350.0"
        ]
       ],
       "shape": {
        "columns": 10,
        "rows": 7
       }
      },
      "text/html": [
       "<div>\n",
       "<style scoped>\n",
       "    .dataframe tbody tr th:only-of-type {\n",
       "        vertical-align: middle;\n",
       "    }\n",
       "\n",
       "    .dataframe tbody tr th {\n",
       "        vertical-align: top;\n",
       "    }\n",
       "\n",
       "    .dataframe thead th {\n",
       "        text-align: right;\n",
       "    }\n",
       "</style>\n",
       "<table border=\"1\" class=\"dataframe\">\n",
       "  <thead>\n",
       "    <tr style=\"text-align: right;\">\n",
       "      <th></th>\n",
       "      <th>0</th>\n",
       "      <th>1</th>\n",
       "      <th>2</th>\n",
       "      <th>3</th>\n",
       "      <th>4</th>\n",
       "      <th>5</th>\n",
       "      <th>6</th>\n",
       "      <th>7</th>\n",
       "      <th>8</th>\n",
       "      <th>9</th>\n",
       "    </tr>\n",
       "  </thead>\n",
       "  <tbody>\n",
       "    <tr>\n",
       "      <th>Date</th>\n",
       "      <td>2023-01-01</td>\n",
       "      <td>2023-01-02</td>\n",
       "      <td>2023-01-03</td>\n",
       "      <td>2023-01-04</td>\n",
       "      <td>2023-01-05</td>\n",
       "      <td>2023-01-06</td>\n",
       "      <td>2023-01-07</td>\n",
       "      <td>2023-01-08</td>\n",
       "      <td>2023-01-09</td>\n",
       "      <td>2023-01-10</td>\n",
       "    </tr>\n",
       "    <tr>\n",
       "      <th>Product</th>\n",
       "      <td>Widget A</td>\n",
       "      <td>Widget B</td>\n",
       "      <td>Widget C</td>\n",
       "      <td>Widget A</td>\n",
       "      <td>Widget B</td>\n",
       "      <td>Widget C</td>\n",
       "      <td>Widget A</td>\n",
       "      <td>Widget B</td>\n",
       "      <td>Widget C</td>\n",
       "      <td>Widget A</td>\n",
       "    </tr>\n",
       "    <tr>\n",
       "      <th>Region</th>\n",
       "      <td>North</td>\n",
       "      <td>South</td>\n",
       "      <td>East</td>\n",
       "      <td>West</td>\n",
       "      <td>North</td>\n",
       "      <td>South</td>\n",
       "      <td>East</td>\n",
       "      <td>West</td>\n",
       "      <td>North</td>\n",
       "      <td>South</td>\n",
       "    </tr>\n",
       "    <tr>\n",
       "      <th>Salesperson</th>\n",
       "      <td>John Doe</td>\n",
       "      <td>Jane Smith</td>\n",
       "      <td>Emily Davis</td>\n",
       "      <td>Michael Brown</td>\n",
       "      <td>Chris Wilson</td>\n",
       "      <td>Patricia Johnson</td>\n",
       "      <td>Robert Garcia</td>\n",
       "      <td>Linda Martinez</td>\n",
       "      <td>James Anderson</td>\n",
       "      <td>Susan Lee</td>\n",
       "    </tr>\n",
       "    <tr>\n",
       "      <th>Units Sold</th>\n",
       "      <td>10</td>\n",
       "      <td>15</td>\n",
       "      <td>8</td>\n",
       "      <td>12</td>\n",
       "      <td>20</td>\n",
       "      <td>5</td>\n",
       "      <td>18</td>\n",
       "      <td>10</td>\n",
       "      <td>7</td>\n",
       "      <td>14</td>\n",
       "    </tr>\n",
       "    <tr>\n",
       "      <th>Unit Price</th>\n",
       "      <td>25.0</td>\n",
       "      <td>30.0</td>\n",
       "      <td>20.0</td>\n",
       "      <td>25.0</td>\n",
       "      <td>30.0</td>\n",
       "      <td>20.0</td>\n",
       "      <td>25.0</td>\n",
       "      <td>30.0</td>\n",
       "      <td>20.0</td>\n",
       "      <td>25.0</td>\n",
       "    </tr>\n",
       "    <tr>\n",
       "      <th>Total Sales</th>\n",
       "      <td>250.0</td>\n",
       "      <td>450.0</td>\n",
       "      <td>160.0</td>\n",
       "      <td>300.0</td>\n",
       "      <td>600.0</td>\n",
       "      <td>100.0</td>\n",
       "      <td>450.0</td>\n",
       "      <td>300.0</td>\n",
       "      <td>140.0</td>\n",
       "      <td>350.0</td>\n",
       "    </tr>\n",
       "  </tbody>\n",
       "</table>\n",
       "</div>"
      ],
      "text/plain": [
       "                      0           1            2              3             4  \\\n",
       "Date         2023-01-01  2023-01-02   2023-01-03     2023-01-04    2023-01-05   \n",
       "Product        Widget A    Widget B     Widget C       Widget A      Widget B   \n",
       "Region            North       South         East           West         North   \n",
       "Salesperson    John Doe  Jane Smith  Emily Davis  Michael Brown  Chris Wilson   \n",
       "Units Sold           10          15            8             12            20   \n",
       "Unit Price         25.0        30.0         20.0           25.0          30.0   \n",
       "Total Sales       250.0       450.0        160.0          300.0         600.0   \n",
       "\n",
       "                            5              6               7               8  \\\n",
       "Date               2023-01-06     2023-01-07      2023-01-08      2023-01-09   \n",
       "Product              Widget C       Widget A        Widget B        Widget C   \n",
       "Region                  South           East            West           North   \n",
       "Salesperson  Patricia Johnson  Robert Garcia  Linda Martinez  James Anderson   \n",
       "Units Sold                  5             18              10               7   \n",
       "Unit Price               20.0           25.0            30.0            20.0   \n",
       "Total Sales             100.0          450.0           300.0           140.0   \n",
       "\n",
       "                      9  \n",
       "Date         2023-01-10  \n",
       "Product        Widget A  \n",
       "Region            South  \n",
       "Salesperson   Susan Lee  \n",
       "Units Sold           14  \n",
       "Unit Price         25.0  \n",
       "Total Sales       350.0  "
      ]
     },
     "execution_count": 27,
     "metadata": {},
     "output_type": "execute_result"
    }
   ],
   "source": [
    "def transpose_df(old_df):\n",
    "    new_df = old_df.iloc[0].to_frame()\n",
    "    for i in range(1, len(old_df.index)):\n",
    "        new_df[i] = old_df.iloc[i].to_frame()\n",
    "    return new_df\n",
    "\n",
    "transposed_sales_df = transpose_df(sales_df)\n",
    "transposed_sales_df"
   ]
  },
  {
   "cell_type": "code",
   "execution_count": 28,
   "id": "d32f47b5",
   "metadata": {},
   "outputs": [
    {
     "data": {
      "application/vnd.microsoft.datawrangler.viewer.v0+json": {
       "columns": [
        {
         "name": "index",
         "rawType": "object",
         "type": "string"
        },
        {
         "name": "0",
         "rawType": "object",
         "type": "unknown"
        },
        {
         "name": "1",
         "rawType": "object",
         "type": "unknown"
        },
        {
         "name": "2",
         "rawType": "object",
         "type": "unknown"
        },
        {
         "name": "3",
         "rawType": "object",
         "type": "unknown"
        },
        {
         "name": "4",
         "rawType": "object",
         "type": "unknown"
        },
        {
         "name": "5",
         "rawType": "object",
         "type": "unknown"
        },
        {
         "name": "6",
         "rawType": "object",
         "type": "unknown"
        },
        {
         "name": "7",
         "rawType": "object",
         "type": "unknown"
        },
        {
         "name": "8",
         "rawType": "object",
         "type": "unknown"
        },
        {
         "name": "9",
         "rawType": "object",
         "type": "unknown"
        }
       ],
       "conversionMethod": "pd.DataFrame",
       "ref": "33ab4c2d-c2f9-4641-a358-b53ac752a3fa",
       "rows": [
        [
         "Date",
         "2023-01-01",
         "2023-01-02",
         "2023-01-03",
         "2023-01-04",
         "2023-01-05",
         "2023-01-06",
         "2023-01-07",
         "2023-01-08",
         "2023-01-09",
         "2023-01-10"
        ],
        [
         "Product",
         "Widget A",
         "Widget B",
         "Widget C",
         "Widget A",
         "Widget B",
         "Widget C",
         "Widget A",
         "Widget B",
         "Widget C",
         "Widget A"
        ],
        [
         "Region",
         "North",
         "South",
         "East",
         "West",
         "North",
         "South",
         "East",
         "West",
         "North",
         "South"
        ],
        [
         "Salesperson",
         "John Doe",
         "Jane Smith",
         "Emily Davis",
         "Michael Brown",
         "Chris Wilson",
         "Patricia Johnson",
         "Robert Garcia",
         "Linda Martinez",
         "James Anderson",
         "Susan Lee"
        ],
        [
         "Units Sold",
         "10",
         "15",
         "8",
         "12",
         "20",
         "5",
         "18",
         "10",
         "7",
         "14"
        ],
        [
         "Unit Price",
         "25.0",
         "30.0",
         "20.0",
         "25.0",
         "30.0",
         "20.0",
         "25.0",
         "30.0",
         "20.0",
         "25.0"
        ],
        [
         "Total Sales",
         "250.0",
         "450.0",
         "160.0",
         "300.0",
         "600.0",
         "100.0",
         "450.0",
         "300.0",
         "140.0",
         "350.0"
        ]
       ],
       "shape": {
        "columns": 10,
        "rows": 7
       }
      },
      "text/html": [
       "<div>\n",
       "<style scoped>\n",
       "    .dataframe tbody tr th:only-of-type {\n",
       "        vertical-align: middle;\n",
       "    }\n",
       "\n",
       "    .dataframe tbody tr th {\n",
       "        vertical-align: top;\n",
       "    }\n",
       "\n",
       "    .dataframe thead th {\n",
       "        text-align: right;\n",
       "    }\n",
       "</style>\n",
       "<table border=\"1\" class=\"dataframe\">\n",
       "  <thead>\n",
       "    <tr style=\"text-align: right;\">\n",
       "      <th></th>\n",
       "      <th>0</th>\n",
       "      <th>1</th>\n",
       "      <th>2</th>\n",
       "      <th>3</th>\n",
       "      <th>4</th>\n",
       "      <th>5</th>\n",
       "      <th>6</th>\n",
       "      <th>7</th>\n",
       "      <th>8</th>\n",
       "      <th>9</th>\n",
       "    </tr>\n",
       "  </thead>\n",
       "  <tbody>\n",
       "    <tr>\n",
       "      <th>Date</th>\n",
       "      <td>2023-01-01</td>\n",
       "      <td>2023-01-02</td>\n",
       "      <td>2023-01-03</td>\n",
       "      <td>2023-01-04</td>\n",
       "      <td>2023-01-05</td>\n",
       "      <td>2023-01-06</td>\n",
       "      <td>2023-01-07</td>\n",
       "      <td>2023-01-08</td>\n",
       "      <td>2023-01-09</td>\n",
       "      <td>2023-01-10</td>\n",
       "    </tr>\n",
       "    <tr>\n",
       "      <th>Product</th>\n",
       "      <td>Widget A</td>\n",
       "      <td>Widget B</td>\n",
       "      <td>Widget C</td>\n",
       "      <td>Widget A</td>\n",
       "      <td>Widget B</td>\n",
       "      <td>Widget C</td>\n",
       "      <td>Widget A</td>\n",
       "      <td>Widget B</td>\n",
       "      <td>Widget C</td>\n",
       "      <td>Widget A</td>\n",
       "    </tr>\n",
       "    <tr>\n",
       "      <th>Region</th>\n",
       "      <td>North</td>\n",
       "      <td>South</td>\n",
       "      <td>East</td>\n",
       "      <td>West</td>\n",
       "      <td>North</td>\n",
       "      <td>South</td>\n",
       "      <td>East</td>\n",
       "      <td>West</td>\n",
       "      <td>North</td>\n",
       "      <td>South</td>\n",
       "    </tr>\n",
       "    <tr>\n",
       "      <th>Salesperson</th>\n",
       "      <td>John Doe</td>\n",
       "      <td>Jane Smith</td>\n",
       "      <td>Emily Davis</td>\n",
       "      <td>Michael Brown</td>\n",
       "      <td>Chris Wilson</td>\n",
       "      <td>Patricia Johnson</td>\n",
       "      <td>Robert Garcia</td>\n",
       "      <td>Linda Martinez</td>\n",
       "      <td>James Anderson</td>\n",
       "      <td>Susan Lee</td>\n",
       "    </tr>\n",
       "    <tr>\n",
       "      <th>Units Sold</th>\n",
       "      <td>10</td>\n",
       "      <td>15</td>\n",
       "      <td>8</td>\n",
       "      <td>12</td>\n",
       "      <td>20</td>\n",
       "      <td>5</td>\n",
       "      <td>18</td>\n",
       "      <td>10</td>\n",
       "      <td>7</td>\n",
       "      <td>14</td>\n",
       "    </tr>\n",
       "    <tr>\n",
       "      <th>Unit Price</th>\n",
       "      <td>25.0</td>\n",
       "      <td>30.0</td>\n",
       "      <td>20.0</td>\n",
       "      <td>25.0</td>\n",
       "      <td>30.0</td>\n",
       "      <td>20.0</td>\n",
       "      <td>25.0</td>\n",
       "      <td>30.0</td>\n",
       "      <td>20.0</td>\n",
       "      <td>25.0</td>\n",
       "    </tr>\n",
       "    <tr>\n",
       "      <th>Total Sales</th>\n",
       "      <td>250.0</td>\n",
       "      <td>450.0</td>\n",
       "      <td>160.0</td>\n",
       "      <td>300.0</td>\n",
       "      <td>600.0</td>\n",
       "      <td>100.0</td>\n",
       "      <td>450.0</td>\n",
       "      <td>300.0</td>\n",
       "      <td>140.0</td>\n",
       "      <td>350.0</td>\n",
       "    </tr>\n",
       "  </tbody>\n",
       "</table>\n",
       "</div>"
      ],
      "text/plain": [
       "                      0           1            2              3             4  \\\n",
       "Date         2023-01-01  2023-01-02   2023-01-03     2023-01-04    2023-01-05   \n",
       "Product        Widget A    Widget B     Widget C       Widget A      Widget B   \n",
       "Region            North       South         East           West         North   \n",
       "Salesperson    John Doe  Jane Smith  Emily Davis  Michael Brown  Chris Wilson   \n",
       "Units Sold           10          15            8             12            20   \n",
       "Unit Price         25.0        30.0         20.0           25.0          30.0   \n",
       "Total Sales       250.0       450.0        160.0          300.0         600.0   \n",
       "\n",
       "                            5              6               7               8  \\\n",
       "Date               2023-01-06     2023-01-07      2023-01-08      2023-01-09   \n",
       "Product              Widget C       Widget A        Widget B        Widget C   \n",
       "Region                  South           East            West           North   \n",
       "Salesperson  Patricia Johnson  Robert Garcia  Linda Martinez  James Anderson   \n",
       "Units Sold                  5             18              10               7   \n",
       "Unit Price               20.0           25.0            30.0            20.0   \n",
       "Total Sales             100.0          450.0           300.0           140.0   \n",
       "\n",
       "                      9  \n",
       "Date         2023-01-10  \n",
       "Product        Widget A  \n",
       "Region            South  \n",
       "Salesperson   Susan Lee  \n",
       "Units Sold           14  \n",
       "Unit Price         25.0  \n",
       "Total Sales       350.0  "
      ]
     },
     "execution_count": 28,
     "metadata": {},
     "output_type": "execute_result"
    }
   ],
   "source": [
    "transposed_sales_df2 = sales_df.T\n",
    "transposed_sales_df2"
   ]
  }
 ],
 "metadata": {
  "kernelspec": {
   "display_name": "ds_env",
   "language": "python",
   "name": "python3"
  },
  "language_info": {
   "codemirror_mode": {
    "name": "ipython",
    "version": 3
   },
   "file_extension": ".py",
   "mimetype": "text/x-python",
   "name": "python",
   "nbconvert_exporter": "python",
   "pygments_lexer": "ipython3",
   "version": "3.12.3"
  }
 },
 "nbformat": 4,
 "nbformat_minor": 5
}
