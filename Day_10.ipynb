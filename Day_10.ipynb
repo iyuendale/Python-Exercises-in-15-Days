{
 "cells": [
  {
   "cell_type": "markdown",
   "metadata": {},
   "source": [
    "# Inheritance and Encapsulation"
   ]
  },
  {
   "cell_type": "markdown",
   "metadata": {},
   "source": [
    "### Example Questions"
   ]
  },
  {
   "cell_type": "markdown",
   "metadata": {},
   "source": [
    "Q1. Create a base class Animal with a method sound() and create derived classes Dog and Cat with their own sound()."
   ]
  },
  {
   "cell_type": "code",
   "execution_count": 3,
   "metadata": {},
   "outputs": [
    {
     "name": "stdout",
     "output_type": "stream",
     "text": [
      "mewmew\n",
      "wofwof\n"
     ]
    }
   ],
   "source": [
    "class Animal:\n",
    "    def __init__(self, animal):\n",
    "        self.animal = animal\n",
    "\n",
    "    def sound(self):\n",
    "        if self.animal == \"Cat\":\n",
    "            return \"mewmew\"\n",
    "        elif self.animal == \"Dog\":\n",
    "            return \"wofwof\"\n",
    "        else:\n",
    "            return \"animal sound\"\n",
    "\n",
    "class Cat(Animal):\n",
    "    def __init__(self):\n",
    "        self.animal = \"Cat\"\n",
    "    def sound(self):\n",
    "        return Animal(self.animal).sound()\n",
    "\n",
    "class Dog(Animal):\n",
    "    def __init__(self):\n",
    "        self.animal = \"Dog\"\n",
    "    def sound(self):\n",
    "        return Animal(self.animal).sound()\n",
    "\n",
    "cat = Cat()\n",
    "print(cat.sound())\n",
    "dog = Dog()\n",
    "print(dog.sound())"
   ]
  },
  {
   "cell_type": "markdown",
   "metadata": {},
   "source": [
    "Q2. Implement a class hierarchy to represent different types of vehicles (Car, Bike) with their own attributes and methods."
   ]
  },
  {
   "cell_type": "code",
   "execution_count": 5,
   "metadata": {},
   "outputs": [
    {
     "name": "stdout",
     "output_type": "stream",
     "text": [
      "Car has 4 wheels and 5 seats.\n",
      "Bike has 2 wheels and 2 seats.\n"
     ]
    }
   ],
   "source": [
    "class Vehicle:\n",
    "    def __init__(self, type, wheel, seats):\n",
    "        self.type = type\n",
    "        self.wheel = wheel\n",
    "        self.seats = seats\n",
    "    def __str__(self):\n",
    "        return f\"{self.type} has {self.wheel} wheels and {self.seats} seats.\"\n",
    "\n",
    "class Car(Vehicle):\n",
    "    def __init__(self):\n",
    "        super().__init__(\"Car\", 4, 5)\n",
    "\n",
    "class Bike(Vehicle):\n",
    "    def __init__(self):\n",
    "        super().__init__(\"Bike\", 2, 2)\n",
    "\n",
    "car = Car()\n",
    "print(car)\n",
    "bike = Bike()\n",
    "print(bike)"
   ]
  },
  {
   "cell_type": "markdown",
   "metadata": {},
   "source": [
    "Q3. Create a class Person with private attributes and define methods to get and set the values of those attributes."
   ]
  },
  {
   "cell_type": "code",
   "execution_count": 8,
   "metadata": {},
   "outputs": [
    {
     "name": "stdout",
     "output_type": "stream",
     "text": [
      "Name: Lisa, Age: 28, Experience Year: 3\n",
      "Name: John, Age: 30, Experience Year: 5\n"
     ]
    }
   ],
   "source": [
    "class Person:\n",
    "    def get_info(self):\n",
    "        name = input(\"Enter name: \")\n",
    "        self.name = name\n",
    "        age = int(input(\"Enter age: \"))\n",
    "        self.age = age\n",
    "        exp_year = int(input(\"Enter experience year: \"))\n",
    "        self.exp_year = exp_year\n",
    "    def set_vals(self, name, age, exp_year):\n",
    "        self.name = name\n",
    "        self.age = age\n",
    "        self.exp_year = exp_year\n",
    "    def __str__(self):\n",
    "        return f\"Name: {self.name}, Age: {self.age}, Experience Year: {self.exp_year}\"\n",
    "    \n",
    "person = Person()\n",
    "person.get_info()\n",
    "print(person)\n",
    "person.set_vals(\"John\", 30, 5)\n",
    "print(person)"
   ]
  },
  {
   "cell_type": "markdown",
   "metadata": {},
   "source": [
    "### Practice Questions"
   ]
  },
  {
   "cell_type": "markdown",
   "metadata": {},
   "source": [
    "1. Create a base class Shape with methods to calculate area and perimeter, and derive classes Circle and Square."
   ]
  },
  {
   "cell_type": "code",
   "execution_count": 10,
   "metadata": {},
   "outputs": [
    {
     "name": "stdout",
     "output_type": "stream",
     "text": [
      "Circle with parameter 5 has area 78.5 and perimeter 31.4.\n",
      "Square with parameter 4 has area 16 and perimeter 16.\n"
     ]
    }
   ],
   "source": [
    "class Shape:\n",
    "    def __init__(self, type, param):\n",
    "        self.type = type\n",
    "        self.param = param\n",
    "    def area(self):\n",
    "        if self.type == \"Circle\":\n",
    "            return round(3.14 * (self.param ** 2), 3)\n",
    "        elif self.type == \"Square\":\n",
    "            return round(self.param ** 2, 3)\n",
    "        else:\n",
    "            return \"Unknown shape\"\n",
    "    def perimeter(self):\n",
    "        if self.type == \"Circle\":\n",
    "            return round(2 * 3.14 * self.param, 3)\n",
    "        elif self.type == \"Square\":\n",
    "            return round(4 * self.param, 3)\n",
    "        else:\n",
    "            return \"Unknown shape\"\n",
    "    def __str__(self):\n",
    "        return f\"{self.type} with parameter {self.param} has area {self.area()} and perimeter {self.perimeter()}.\"\n",
    "\n",
    "class Circle(Shape):\n",
    "    def __init__(self, radius):\n",
    "        super().__init__(\"Circle\", radius)\n",
    "    def __str__(self):\n",
    "        return super().__str__()\n",
    "\n",
    "class Square(Shape):\n",
    "    def __init__(self, side):\n",
    "        super().__init__(\"Square\", side)\n",
    "    def __str__(self):\n",
    "        return super().__str__()\n",
    "\n",
    "circle = Circle(5)\n",
    "print(circle)\n",
    "square = Square(4)\n",
    "print(square)"
   ]
  },
  {
   "cell_type": "markdown",
   "metadata": {},
   "source": [
    "2. Implement a class hierarchy to represent different types of employees (Manager, Engineer) with their attributes."
   ]
  },
  {
   "cell_type": "code",
   "execution_count": 11,
   "metadata": {},
   "outputs": [
    {
     "name": "stdout",
     "output_type": "stream",
     "text": [
      "Manager: Alice with salary 80000\n",
      "Developer: Bob with salary 60000\n",
      "Engineer: Charlie with salary 70000\n"
     ]
    }
   ],
   "source": [
    "class Employee:\n",
    "    def __init__(self, type, name, salary):\n",
    "        self.type = type\n",
    "        self.name = name\n",
    "        self.salary = salary\n",
    "    def __str__(self):\n",
    "        return f\"{self.type}: {self.name} with salary {self.salary}\"\n",
    "\n",
    "class Manager(Employee):\n",
    "    def __init__(self, name, salary):\n",
    "        super().__init__(\"Manager\", name, salary)\n",
    "    def __str__(self):\n",
    "        return super().__str__()\n",
    "class Developer(Employee):\n",
    "    def __init__(self, name, salary):\n",
    "        super().__init__(\"Developer\", name, salary)\n",
    "    def __str__(self):\n",
    "        return super().__str__()\n",
    "class Engineer(Employee):\n",
    "    def __init__(self, name, salary):\n",
    "        super().__init__(\"Engineer\", name, salary)\n",
    "    def __str__(self):\n",
    "        return super().__str__()\n",
    "\n",
    "manager = Manager(\"Alice\", 80000)\n",
    "developer = Developer(\"Bob\", 60000)\n",
    "engineer = Engineer(\"Charlie\", 70000)\n",
    "print(manager)\n",
    "print(developer)\n",
    "print(engineer)"
   ]
  },
  {
   "cell_type": "markdown",
   "metadata": {},
   "source": [
    "3. Write a Python program that uses inheritance to represent a hierarchy of shapes (Triangle, Rectangle)."
   ]
  },
  {
   "cell_type": "code",
   "execution_count": null,
   "metadata": {},
   "outputs": [
    {
     "name": "stdout",
     "output_type": "stream",
     "text": [
      "Triangle with parameters (3, 4, 5, 4) has area 6.0 and perimeter 12.\n",
      "Rectangle with parameters (6, 4) has area 24 and perimeter 20.\n"
     ]
    }
   ],
   "source": [
    "class Shape:\n",
    "    def __init__(self, type, *params):\n",
    "        self.type = type\n",
    "        self.params = params\n",
    "\n",
    "    def area(self):\n",
    "        if self.type == \"Triangle\":\n",
    "            base, height = self.params[0], self.params[3]\n",
    "            return round(0.5 * base * height, 3)\n",
    "        elif self.type == \"Rectangle\":\n",
    "            length, width = self.params\n",
    "            return round(length * width, 3)\n",
    "        else:\n",
    "            return \"Unknown shape\"\n",
    "\n",
    "    def perimeter(self):\n",
    "        if self.type == \"Triangle\":\n",
    "            a, b, c = self.params[:3]\n",
    "            return round(a + b + c, 3)\n",
    "        elif self.type == \"Rectangle\":\n",
    "            length, width = self.params\n",
    "            return round(2 * (length + width), 3)\n",
    "        else:\n",
    "            return \"Unknown shape\"\n",
    "\n",
    "    def __str__(self):\n",
    "        return f\"{self.type} with parameters {self.params} has area {self.area()} and perimeter {self.perimeter()}.\"\n",
    "\n",
    "\n",
    "class Triangle(Shape):\n",
    "    def __init__(self, a, b, c, height):\n",
    "        super().__init__(\"Triangle\", a, b, c, height)\n",
    "\n",
    "    def __str__(self):\n",
    "        return super().__str__()\n",
    "\n",
    "\n",
    "class Rectangle(Shape):\n",
    "    def __init__(self, length, width):\n",
    "        super().__init__(\"Rectangle\", length, width)\n",
    "\n",
    "    def __str__(self):\n",
    "        return super().__str__()\n",
    "\n",
    "\n",
    "triangle = Triangle(3, 4, 5, 4)\n",
    "print(triangle)\n",
    "\n",
    "rectangle = Rectangle(6, 4)\n",
    "print(rectangle)"
   ]
  },
  {
   "cell_type": "markdown",
   "metadata": {},
   "source": [
    "4. Create a class hierarchy to represent different types of animals (Bird, Fish) with their own attributes and methods."
   ]
  },
  {
   "cell_type": "code",
   "execution_count": 1,
   "metadata": {},
   "outputs": [
    {
     "name": "stdout",
     "output_type": "stream",
     "text": [
      "Bird has 2 legs, 2 wings, fur: Yes, fin: No\n",
      "Fish has 0 legs, 0 wings, fur: No, fin: Yes\n",
      "Mammal has 4 legs, 0 wings, fur: Yes, fin: No\n"
     ]
    }
   ],
   "source": [
    "class Animal:\n",
    "    def __init__(self, type):\n",
    "        self.type = type\n",
    "        if self.type == \"Bird\":\n",
    "            self.legs, self.wings, self.fur, self.fin = 2, 2, \"Yes\", \"No\"\n",
    "\n",
    "        elif self.type == \"Fish\":\n",
    "            self.legs, self.wings, self.fur, self.fin = 0, 0, \"No\", \"Yes\"\n",
    "        elif self.type == \"Mammal\":\n",
    "            self.legs, self.wings, self.fur, self.fin = 4, 0, \"Yes\", \"No\"\n",
    "        else:\n",
    "            self.legs, self.wings, self.fur, self.fin = 0, 0, \"No\", \"No\"\n",
    "    def __str__(self):\n",
    "        return f\"{self.type} has {self.legs} legs, {self.wings} wings, fur: {self.fur}, fin: {self.fin}\"\n",
    "\n",
    "class Bird(Animal):\n",
    "    def __init__(self):\n",
    "        super().__init__(\"Bird\")\n",
    "    def __str__(self):\n",
    "        return super().__str__()\n",
    "\n",
    "class Fish(Animal):\n",
    "    def __init__(self):\n",
    "        super().__init__(\"Fish\")\n",
    "    def __str__(self):\n",
    "        return super().__str__()\n",
    "\n",
    "class Mammal(Animal):\n",
    "    def __init__(self):\n",
    "        super().__init__(\"Mammal\")\n",
    "    def __str__(self):\n",
    "        return super().__str__()\n",
    "\n",
    "bird = Bird()\n",
    "print(bird)\n",
    "fish = Fish()\n",
    "print(fish)\n",
    "mammal = Mammal()\n",
    "print(mammal)"
   ]
  },
  {
   "cell_type": "markdown",
   "metadata": {},
   "source": [
    "5. Given a JSON file with product details (name, price, quantity), create a Product class with encapsulated attributes."
   ]
  },
  {
   "cell_type": "code",
   "execution_count": 20,
   "metadata": {},
   "outputs": [
    {
     "name": "stdout",
     "output_type": "stream",
     "text": [
      "Product: Laptop, Price: 1200.99, Quantity: 10\n",
      "Product: Laptop, Price: 1500, Quantity: 10\n"
     ]
    }
   ],
   "source": [
    "import json\n",
    "\n",
    "class Product:\n",
    "    def __init__(self, name):\n",
    "        with open(\"data/day_10/product.json\") as f:\n",
    "            data = json.load(f)[\"products\"]\n",
    "        for x in data:\n",
    "            if x[\"name\"] == name:\n",
    "                self.__name = name\n",
    "                self.__price = x[\"price\"]\n",
    "                self.__quantity = x[\"quantity\"]\n",
    "    \n",
    "    def get_info(self):\n",
    "        return f\"Product: {self.__name}, Price: {self.__price}, Quantity: {self.__quantity}\"\n",
    "    \n",
    "    def set_val(self, key, val):\n",
    "        if key == \"name\":\n",
    "            self.__name = val\n",
    "        elif key == \"price\":\n",
    "            self.__price = val\n",
    "        elif key == \"quantity\":\n",
    "            self.__quantity = val\n",
    "        else:\n",
    "            print(\"Attribute is not found.\")\n",
    "    \n",
    "product = Product(\"Laptop\")\n",
    "print(product.get_info())\n",
    "product.set_val(\"price\", 1500)\n",
    "print(product.get_info())"
   ]
  },
  {
   "cell_type": "markdown",
   "metadata": {},
   "source": [
    "6. Implement a rogram that uses inheritance to represent a hierarchy of vehicles (Car, Bike, Truck, etc)."
   ]
  },
  {
   "cell_type": "code",
   "execution_count": 23,
   "metadata": {},
   "outputs": [
    {
     "name": "stdout",
     "output_type": "stream",
     "text": [
      "Type: Car, Seats: 5, Wheels: 4, Doors: 4\n",
      "Type: Bike, Seats: 2, Wheels: 2\n",
      "Type: Truck, Seats: 4, Wheels: 10, Doors: 4\n"
     ]
    }
   ],
   "source": [
    "class Vehicle:\n",
    "    def __init__(self, type):\n",
    "        self.type = type\n",
    "        if type == \"Car\":\n",
    "            self.seats = 5\n",
    "            self.wheels = 4\n",
    "        elif type == \"Bike\":\n",
    "            self.seats = 2\n",
    "            self.wheels = 2\n",
    "        elif type == \"Truck\":\n",
    "            self.seats = 4\n",
    "            self.wheels = 10\n",
    "        else:\n",
    "            self.seats = 5\n",
    "            self.wheels = 5\n",
    "class Car(Vehicle):\n",
    "    def __init__(self):\n",
    "        super().__init__(\"Car\")\n",
    "        self.doors = 4\n",
    "    \n",
    "    def __str__(self):\n",
    "        return f\"Type: {self.type}, Seats: {self.seats}, Wheels: {self.wheels}, Doors: {self.doors}\"\n",
    "\n",
    "class Bike(Vehicle):\n",
    "    def __init__(self):\n",
    "        super().__init__(\"Bike\")\n",
    "    \n",
    "    def __str__(self):\n",
    "        return f\"Type: {self.type}, Seats: {self.seats}, Wheels: {self.wheels}\"\n",
    "\n",
    "class Truck(Vehicle):\n",
    "    def __init__(self):\n",
    "        super().__init__(\"Truck\")\n",
    "        self.doors = 4\n",
    "    \n",
    "    def __str__(self):\n",
    "        return f\"Type: {self.type}, Seats: {self.seats}, Wheels: {self.wheels}, Doors: {self.doors}\"\n",
    "\n",
    "car = Car()\n",
    "print(car)\n",
    "bike = Bike()\n",
    "print(bike)\n",
    "truck = Truck()\n",
    "print(truck)"
   ]
  },
  {
   "cell_type": "markdown",
   "metadata": {},
   "source": [
    "7. Write a Python program that uses encapsulation to protect sensitive information in a User class."
   ]
  },
  {
   "cell_type": "code",
   "execution_count": 25,
   "metadata": {},
   "outputs": [
    {
     "name": "stdout",
     "output_type": "stream",
     "text": [
      "Name: Jack, Age: 25, Education: MSc, Address: England\n",
      "Name: Jack, Age: 30, Education: MSc, Address: England\n"
     ]
    }
   ],
   "source": [
    "class User:\n",
    "    def __init__(self, name, age, education, address):\n",
    "        self.__name = name\n",
    "        self.__age = age\n",
    "        self.__education = education\n",
    "        self.__address = address\n",
    "    \n",
    "    def get_info(self):\n",
    "        return f\"Name: {self.__name}, Age: {self.__age}, Education: {self.__education}, Address: {self.__address}\"\n",
    "\n",
    "    def change_info(self, key, val):\n",
    "        if key == \"name\": self.__name = val\n",
    "        elif key == \"age\": self.__age = val\n",
    "        elif key == \"education\": self.__education = val\n",
    "        elif key == \"address\": self.__address = val\n",
    "        else: print(\"Field is not found.\")\n",
    "\n",
    "user1 = User(\"Jack\", 25, \"MSc\", \"England\")\n",
    "print(user1.get_info())\n",
    "user1.change_info(\"age\", 30)\n",
    "print(user1.get_info())"
   ]
  },
  {
   "cell_type": "markdown",
   "metadata": {},
   "source": [
    "8. Create a class hierarchy to represent different types of electronics (Phone, Laptop) with their attributes."
   ]
  },
  {
   "cell_type": "code",
   "execution_count": 31,
   "metadata": {},
   "outputs": [
    {
     "name": "stdout",
     "output_type": "stream",
     "text": [
      "Type: Phone, Brand: Samsung, Price: $1200, Storage: 35G, Camera: 35MP\n",
      "Type: Laptop, Brand: HP, Price: $500, RAM: 16, Processor: Intel i7\n"
     ]
    }
   ],
   "source": [
    "class Electronics:\n",
    "    def __init__(self, type, brand, price):\n",
    "        self.type = type\n",
    "        self.brand = brand\n",
    "        self.price = price\n",
    "    \n",
    "    def __str__(self):\n",
    "        return f\"Type: {self.type}, Brand: {self.brand}, Price: ${self.price}\"\n",
    "    \n",
    "class Phone(Electronics):\n",
    "    def __init__(self, brand, price, storage, camera):\n",
    "        super().__init__(\"Phone\", brand, price)\n",
    "        self.storage = storage\n",
    "        self.camera = camera\n",
    "    \n",
    "    def __str__(self):\n",
    "        return f\"{super().__str__()}, Storage: {self.camera}G, Camera: {self.camera}MP\"\n",
    "\n",
    "class Laptop(Electronics):\n",
    "    def __init__(self, brand, price, ram, processor):\n",
    "        super().__init__(\"Laptop\", brand, price)\n",
    "        self.ram = ram\n",
    "        self.processor = processor\n",
    "    \n",
    "    def __str__(self):\n",
    "        return f\"{super().__str__()}, RAM: {self.ram}, Processor: {self.processor}\"\n",
    "\n",
    "phone = Phone(\"Samsung\", 1200, 128, 35)\n",
    "print(phone)\n",
    "laptop = Laptop(\"HP\", 500, 16, \"Intel i7\")\n",
    "print(laptop)"
   ]
  },
  {
   "cell_type": "markdown",
   "metadata": {},
   "source": [
    "9. Given a CSV file with employee details (name, position, salary), create an Employee class with private attributes."
   ]
  },
  {
   "cell_type": "code",
   "execution_count": 36,
   "metadata": {},
   "outputs": [
    {
     "name": "stdout",
     "output_type": "stream",
     "text": [
      "Name: Bob Brown, Position: UX Designer, Salary: 78000\n",
      "Not found!\n"
     ]
    }
   ],
   "source": [
    "import csv\n",
    "class Employee:\n",
    "    def __init__(self, name):\n",
    "        with open(\"data/day_10/employees.csv\") as f:\n",
    "            reader = csv.DictReader(f)\n",
    "            for row in reader:\n",
    "                if row[\"Name\"] == name:\n",
    "                    self.__name = row[\"Name\"]\n",
    "                    self.__position = row[\"Position\"]\n",
    "                    self.__salary = row[\"Salary\"]\n",
    "                    break\n",
    "                self.__name = None\n",
    "    \n",
    "    def __str__(self):\n",
    "        if self.__name:\n",
    "            return f\"Name: {self.__name}, Position: {self.__position}, Salary: {self.__salary}\"\n",
    "        else:\n",
    "            return f\"Not found!\"\n",
    "\n",
    "employee1 = Employee(\"Bob Brown\")\n",
    "print(employee1)\n",
    "employee2 = Employee(\"Albert\")\n",
    "print(employee2)"
   ]
  },
  {
   "cell_type": "markdown",
   "metadata": {},
   "source": [
    "10. Implement a program that uses inheritance to represent a hierarchy of shapes (Circle, Triangle, Rectangle, etc.)."
   ]
  },
  {
   "cell_type": "code",
   "execution_count": 37,
   "metadata": {},
   "outputs": [
    {
     "name": "stdout",
     "output_type": "stream",
     "text": [
      "Circle with area 78.5 and perimeter 31.4.\n",
      "Triangle with area 6.0 and perimeter 12.\n",
      "Rectangle with area 24 and perimeter 20.\n"
     ]
    }
   ],
   "source": [
    "class Shape:\n",
    "    def __init__(self, type):\n",
    "        self.type = type\n",
    "\n",
    "    def area(self):\n",
    "        raise NotImplementedError(\"Subclasses must implement this method\")\n",
    "\n",
    "    def perimeter(self):\n",
    "        raise NotImplementedError(\"Subclasses must implement this method\")\n",
    "\n",
    "    def __str__(self):\n",
    "        return f\"{self.type} with area {self.area()} and perimeter {self.perimeter()}.\"\n",
    "\n",
    "\n",
    "class Circle(Shape):\n",
    "    def __init__(self, radius):\n",
    "        super().__init__(\"Circle\")\n",
    "        self.radius = radius\n",
    "\n",
    "    def area(self):\n",
    "        return round(3.14 * (self.radius ** 2), 3)\n",
    "\n",
    "    def perimeter(self):\n",
    "        return round(2 * 3.14 * self.radius, 3)\n",
    "\n",
    "\n",
    "class Triangle(Shape):\n",
    "    def __init__(self, a, b, c, height):\n",
    "        super().__init__(\"Triangle\")\n",
    "        self.a = a\n",
    "        self.b = b\n",
    "        self.c = c\n",
    "        self.height = height\n",
    "\n",
    "    def area(self):\n",
    "        return round(0.5 * self.a * self.height, 3)\n",
    "\n",
    "    def perimeter(self):\n",
    "        return round(self.a + self.b + self.c, 3)\n",
    "\n",
    "\n",
    "class Rectangle(Shape):\n",
    "    def __init__(self, length, width):\n",
    "        super().__init__(\"Rectangle\")\n",
    "        self.length = length\n",
    "        self.width = width\n",
    "\n",
    "    def area(self):\n",
    "        return round(self.length * self.width, 3)\n",
    "\n",
    "    def perimeter(self):\n",
    "        return round(2 * (self.length + self.width), 3)\n",
    "\n",
    "\n",
    "# Example usage\n",
    "circle = Circle(5)\n",
    "print(circle)\n",
    "\n",
    "triangle = Triangle(3, 4, 5, 4)\n",
    "print(triangle)\n",
    "\n",
    "rectangle = Rectangle(6, 4)\n",
    "print(rectangle)"
   ]
  }
 ],
 "metadata": {
  "kernelspec": {
   "display_name": "ds_env",
   "language": "python",
   "name": "python3"
  },
  "language_info": {
   "codemirror_mode": {
    "name": "ipython",
    "version": 3
   },
   "file_extension": ".py",
   "mimetype": "text/x-python",
   "name": "python",
   "nbconvert_exporter": "python",
   "pygments_lexer": "ipython3",
   "version": "3.12.3"
  }
 },
 "nbformat": 4,
 "nbformat_minor": 2
}
