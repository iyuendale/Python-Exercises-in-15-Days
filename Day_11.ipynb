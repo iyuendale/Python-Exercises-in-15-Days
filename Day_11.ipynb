{
 "cells": [
  {
   "cell_type": "markdown",
   "metadata": {},
   "source": [
    "# Day 11: NumPy"
   ]
  },
  {
   "cell_type": "markdown",
   "metadata": {},
   "source": [
    "- https://numpy.org/\n",
    "- https://numpy.org/doc/stable/user/quickstart.html"
   ]
  },
  {
   "cell_type": "code",
   "execution_count": 1,
   "metadata": {},
   "outputs": [],
   "source": [
    "import numpy as np"
   ]
  },
  {
   "cell_type": "markdown",
   "metadata": {},
   "source": [
    "### Example Questions"
   ]
  },
  {
   "cell_type": "markdown",
   "metadata": {},
   "source": [
    "Q1. Create a NumPy array from a Python list and perform basic operations like addition, multiplication, etc."
   ]
  },
  {
   "cell_type": "code",
   "execution_count": 8,
   "metadata": {},
   "outputs": [
    {
     "name": "stdout",
     "output_type": "stream",
     "text": [
      "NumPy array: [21  4  3  7]\n",
      "Addition: [42  8  6 14]\n",
      "Elementwise Multiplication: [441  16   9  49]\n",
      "Matrix Multiplication 1: 515\n",
      "Matrix Multiplication 2: 515\n",
      "Scalar Multiplication: [63 12  9 21]\n",
      "Square: [441  16   9  49]\n"
     ]
    }
   ],
   "source": [
    "nums = [21, 4, 3, 7]\n",
    "arr1 = np.array(nums)\n",
    "print(f\"NumPy array: {arr1}\")\n",
    "arr_add = arr1 + arr1\n",
    "print(f\"Addition: {arr_add}\")\n",
    "mult_arr = arr1 * arr1\n",
    "print(f\"Elementwise Multiplication: {mult_arr}\")\n",
    "mat_mult1 = arr1 @ arr1.transpose()\n",
    "print(f\"Matrix Multiplication 1: {mat_mult1}\")\n",
    "mat_mult2 = arr1.transpose() @ arr1\n",
    "print(f\"Matrix Multiplication 2: {mat_mult2}\")\n",
    "scal_mult = arr1 * 3\n",
    "print(f\"Scalar Multiplication: {scal_mult}\")\n",
    "sqr_arr = arr1 ** 2\n",
    "print(f\"Square: {sqr_arr}\")"
   ]
  },
  {
   "cell_type": "markdown",
   "metadata": {},
   "source": [
    "Q2. Generate a NumPy array of random numbers and calculate its mean, median and standard deviation."
   ]
  },
  {
   "cell_type": "code",
   "execution_count": 17,
   "metadata": {},
   "outputs": [
    {
     "name": "stdout",
     "output_type": "stream",
     "text": [
      "[[0.15717906 0.24241674 0.46511827]\n",
      " [0.5984573  0.44307681 0.3849602 ]]\n",
      "Mean: 0.3818680648218085\n",
      "Median: 0.4140185079048101\n",
      "Standard Deviation: 0.14579059695403102\n"
     ]
    }
   ],
   "source": [
    "rng = np.random.default_rng()\n",
    "arr2 = rng.random((2, 3))\n",
    "print(arr2)\n",
    "arr_mean = arr2.mean()\n",
    "print(f\"Mean: {arr_mean}\")\n",
    "arr_median = np.median(arr2)\n",
    "print(f\"Median: {arr_median}\")\n",
    "arr_std = arr2.std()\n",
    "print(f\"Standard Deviation: {arr_std}\")"
   ]
  },
  {
   "cell_type": "markdown",
   "metadata": {},
   "source": [
    "Q3. Create a NumPy array and reshape it into a different shape."
   ]
  },
  {
   "cell_type": "code",
   "execution_count": 19,
   "metadata": {},
   "outputs": [
    {
     "name": "stdout",
     "output_type": "stream",
     "text": [
      "[[3 4 5]\n",
      " [6 7 8]]\n",
      "After reshaping it:\n",
      "[[3 4]\n",
      " [5 6]\n",
      " [7 8]]\n"
     ]
    }
   ],
   "source": [
    "arr3 = np.array([(3, 4, 5), (6, 7, 8)])\n",
    "print(arr3)\n",
    "print(\"After reshaping it:\")\n",
    "arr3 = arr3.reshape(3, 2)\n",
    "print(arr3)"
   ]
  },
  {
   "cell_type": "markdown",
   "metadata": {},
   "source": [
    "### Practice Questions"
   ]
  },
  {
   "cell_type": "markdown",
   "metadata": {},
   "source": [
    "1. Given a list of numbers, create a NumPy array and find the sum and product of its elements."
   ]
  },
  {
   "cell_type": "code",
   "execution_count": 20,
   "metadata": {},
   "outputs": [
    {
     "name": "stdout",
     "output_type": "stream",
     "text": [
      "[[11 22 33 44]\n",
      " [ 1  2  3  4]\n",
      " [ 5  6  7  8]]\n",
      "Sum of elements: 146\n",
      "Product of elements: 1282900992\n"
     ]
    }
   ],
   "source": [
    "nums = [[11, 22, 33, 44], [1, 2, 3, 4], [5, 6, 7, 8]]\n",
    "arr4 = np.array(nums)\n",
    "print(arr4)\n",
    "print(f\"Sum of elements: {arr4.sum()}\")\n",
    "print(f\"Product of elements: {arr4.prod()}\")"
   ]
  },
  {
   "cell_type": "markdown",
   "metadata": {},
   "source": [
    "2. Implement a program that generates a NumPy array with numbers from 0 to 9 and reshapes it into a $3x3$ matrix."
   ]
  },
  {
   "cell_type": "code",
   "execution_count": 22,
   "metadata": {},
   "outputs": [
    {
     "name": "stdout",
     "output_type": "stream",
     "text": [
      "[0 1 2 3 4 5 6 7 8]\n",
      "After reshaping it:\n",
      "[[0 1 2]\n",
      " [3 4 5]\n",
      " [6 7 8]]\n"
     ]
    }
   ],
   "source": [
    "arr5 = np.arange(9)\n",
    "print(arr5)\n",
    "print(\"After reshaping it:\")\n",
    "arr5 = arr5.reshape(3, 3)\n",
    "print(arr5)"
   ]
  },
  {
   "cell_type": "markdown",
   "metadata": {},
   "source": [
    "3. Write a Python program that uses NumPy to find the mean, median, and standard deviation of a dataset."
   ]
  },
  {
   "cell_type": "code",
   "execution_count": 23,
   "metadata": {},
   "outputs": [
    {
     "name": "stdout",
     "output_type": "stream",
     "text": [
      "Dataset:\n",
      "[[0 1 2]\n",
      " [3 4 5]\n",
      " [6 7 8]]\n",
      "Mean: 4.0\n",
      "Median: 4.0\n",
      "Standard Deviation: 2.581988897471611\n"
     ]
    }
   ],
   "source": [
    "print(f\"Dataset:\\n{arr5}\")\n",
    "print(f\"Mean: {arr5.mean()}\")\n",
    "print(f\"Median: {np.median(arr5)}\")\n",
    "print(f\"Standard Deviation: {arr5.std()}\")"
   ]
  },
  {
   "cell_type": "markdown",
   "metadata": {},
   "source": [
    "4. Create a function that takes a list of numbers and returns the NumPy array sorted in ascending order."
   ]
  },
  {
   "cell_type": "code",
   "execution_count": 30,
   "metadata": {},
   "outputs": [
    {
     "name": "stdout",
     "output_type": "stream",
     "text": [
      "[3 4 5 6]\n"
     ]
    }
   ],
   "source": [
    "def sort_list(nums):\n",
    "    arr = np.array(nums)\n",
    "    arr.sort(axis= 0)\n",
    "    return arr\n",
    "\n",
    "nums = [4, 6, 3, 5]\n",
    "print(sort_list(nums))"
   ]
  },
  {
   "cell_type": "markdown",
   "metadata": {},
   "source": [
    "5. Given a list of lists, create a 2D NumPy array and find the sum of elements in each row and column."
   ]
  },
  {
   "cell_type": "code",
   "execution_count": 32,
   "metadata": {},
   "outputs": [
    {
     "name": "stdout",
     "output_type": "stream",
     "text": [
      "[[4 5 2]\n",
      " [6 9 1]]\n",
      "Sum along rows: [11 16]\n",
      "Sum along columns: [10 14  3]\n"
     ]
    }
   ],
   "source": [
    "lis_nums = [[4, 5, 2], [6, 9, 1]]\n",
    "arr6 = np.array(lis_nums)\n",
    "print(arr6)\n",
    "print(f\"Sum along rows: {arr6.sum(axis= 1)}\")\n",
    "print(f\"Sum along columns: {arr6.sum(axis= 0)}\")"
   ]
  },
  {
   "cell_type": "markdown",
   "metadata": {},
   "source": [
    "6. Implement a program that generates a random NumPy array and finds the maximum and minimum values."
   ]
  },
  {
   "cell_type": "code",
   "execution_count": 42,
   "metadata": {},
   "outputs": [
    {
     "name": "stdout",
     "output_type": "stream",
     "text": [
      "Random Array:\n",
      "[[1 0 2]\n",
      " [3 4 5]\n",
      " [6 7 8]]\n",
      "Maximum Value: 8\n",
      "Minimum Value: 0\n"
     ]
    }
   ],
   "source": [
    "random_array = np.ndarray((3, 3), dtype= int)\n",
    "print(f\"Random Array:\\n{random_array}\")\n",
    "max_value = random_array.max()\n",
    "min_value = random_array.min()\n",
    "print(f\"Maximum Value: {max_value}\")\n",
    "print(f\"Minimum Value: {min_value}\")"
   ]
  },
  {
   "cell_type": "markdown",
   "metadata": {},
   "source": []
  }
 ],
 "metadata": {
  "kernelspec": {
   "display_name": "ds_env",
   "language": "python",
   "name": "python3"
  },
  "language_info": {
   "codemirror_mode": {
    "name": "ipython",
    "version": 3
   },
   "file_extension": ".py",
   "mimetype": "text/x-python",
   "name": "python",
   "nbconvert_exporter": "python",
   "pygments_lexer": "ipython3",
   "version": "3.12.3"
  }
 },
 "nbformat": 4,
 "nbformat_minor": 2
}
