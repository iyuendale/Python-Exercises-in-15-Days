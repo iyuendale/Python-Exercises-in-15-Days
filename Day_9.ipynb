{
 "cells": [
  {
   "cell_type": "markdown",
   "metadata": {},
   "source": [
    "# Day 9: Object-Oriented Programming (OOP)"
   ]
  },
  {
   "cell_type": "markdown",
   "metadata": {},
   "source": [
    "### Example Questions"
   ]
  },
  {
   "cell_type": "markdown",
   "metadata": {},
   "source": [
    "Q1. Create a class to represent a basic calculator with add, subtract, multiply and divide methods."
   ]
  },
  {
   "cell_type": "code",
   "execution_count": 1,
   "metadata": {},
   "outputs": [
    {
     "name": "stdout",
     "output_type": "stream",
     "text": [
      "Calculates addition, subtraction, multiplication and devision\n",
      "5 + 8 = 13\n",
      "5 - 8 = -3\n",
      "5 * 8 = 40\n",
      "5 / 8 = 0.625\n"
     ]
    }
   ],
   "source": [
    "class calculator:\n",
    "    def __init__(self):\n",
    "        pass\n",
    "\n",
    "    def __str__(self):\n",
    "        return f\"Calculates addition, subtraction, multiplication and devision\"\n",
    "    \n",
    "    def add(self, x, y):\n",
    "        return x + y\n",
    "    \n",
    "    def subtract(self, x, y):\n",
    "        return x - y\n",
    "    \n",
    "    def multiply(self, x, y):\n",
    "        return x * y\n",
    "    \n",
    "    def devide(self, x, y):\n",
    "        return x / y\n",
    "\n",
    "calc = calculator()\n",
    "print(calc)\n",
    "x, y = 5, 8\n",
    "print(f\"{x} + {y} = {calc.add(x, y)}\")\n",
    "print(f\"{x} - {y} = {calc.subtract(x, y)}\")\n",
    "print(f\"{x} * {y} = {calc.multiply(x, y)}\")\n",
    "print(f\"{x} / {y} = {calc.devide(x, y)}\")"
   ]
  },
  {
   "cell_type": "markdown",
   "metadata": {},
   "source": [
    "Q2. Create a class to represent a book with attributes like title, author, and publication year."
   ]
  },
  {
   "cell_type": "code",
   "execution_count": 2,
   "metadata": {},
   "outputs": [
    {
     "name": "stdout",
     "output_type": "stream",
     "text": [
      "Book title: The Hound of the Baskervilles\n",
      "Book author: Sir Arthur Conan Doyle\n",
      "Book publication year: 1902\n"
     ]
    }
   ],
   "source": [
    "class Book:\n",
    "    def __init__(self, title, author, pub_year):\n",
    "        self.title = title\n",
    "        self.author = author\n",
    "        self.pub_year = pub_year\n",
    "\n",
    "title = \"The Hound of the Baskervilles\"\n",
    "author = \"Sir Arthur Conan Doyle\"\n",
    "pub_year = 1902\n",
    "book = Book(title, author, pub_year)\n",
    "print(f\"Book title: {book.title}\")\n",
    "print(f\"Book author: {book.author}\")\n",
    "print(f\"Book publication year: {book.pub_year}\")"
   ]
  },
  {
   "cell_type": "markdown",
   "metadata": {},
   "source": [
    "Q3. Define a class for a Circle with methods to calculate its area and cicumference."
   ]
  },
  {
   "cell_type": "code",
   "execution_count": 3,
   "metadata": {},
   "outputs": [
    {
     "name": "stdout",
     "output_type": "stream",
     "text": [
      "Area: Area: 50.27\n",
      "Circumference: Circumference: 25.13\n"
     ]
    }
   ],
   "source": [
    "from math import pi\n",
    "class Circle:\n",
    "    def __init__(self, radius):\n",
    "        self.radius = radius\n",
    "    \n",
    "    def area(self):\n",
    "        return f\"Area: {pi * self.radius ** 2:.2f}\"\n",
    "    \n",
    "    def circumference(self):\n",
    "        return f\"Circumference: {2 * pi * self.radius:.2f}\"\n",
    "\n",
    "circle = Circle(radius= 4)\n",
    "print(f\"Area: {circle.area()}\")\n",
    "print(f\"Circumference: {circle.circumference()}\")"
   ]
  },
  {
   "cell_type": "markdown",
   "metadata": {},
   "source": [
    "### Practice Questions"
   ]
  },
  {
   "cell_type": "markdown",
   "metadata": {},
   "source": [
    "1. Create a class to represent a student with attributes like name, age, and grades."
   ]
  },
  {
   "cell_type": "code",
   "execution_count": 4,
   "metadata": {},
   "outputs": [
    {
     "name": "stdout",
     "output_type": "stream",
     "text": [
      "Student's name: Jack\n",
      "Student's age: 30\n",
      "Student's grades: ['A', 'B-', 'B+', 'A']\n"
     ]
    }
   ],
   "source": [
    "class Student:\n",
    "    def __init__(self, name, age, grades):\n",
    "        self.name = name\n",
    "        self.age = age\n",
    "        self.grades = grades\n",
    "\n",
    "name = \"Jack\"\n",
    "age = 30\n",
    "grades = [\"A\", \"B-\", \"B+\", \"A\"]\n",
    "student = Student(name, age, grades)\n",
    "print(f\"Student's name: {student.name}\")\n",
    "print(f\"Student's age: {student.age}\")\n",
    "print(f\"Student's grades: {student.grades}\")"
   ]
  },
  {
   "cell_type": "markdown",
   "metadata": {},
   "source": [
    "2. Given a CSV file with employee details (name, position, salary), create a class to represent an Employee."
   ]
  },
  {
   "cell_type": "code",
   "execution_count": 5,
   "metadata": {},
   "outputs": [
    {
     "name": "stdout",
     "output_type": "stream",
     "text": [
      "Empoyee name: Jack\n",
      "Empoyee position: Doctor\n",
      "Empoyee salary: $1200\n"
     ]
    }
   ],
   "source": [
    "import csv\n",
    "class Employee:\n",
    "    def __init__(self):\n",
    "        with open(\"data/day_9/employee.csv\") as f:\n",
    "            reader = csv.reader(f)\n",
    "            for row in reader:\n",
    "                self.name = row[0]\n",
    "                self.position = row[1]\n",
    "                self.salary = row[2]\n",
    "\n",
    "employee = Employee()\n",
    "print(f\"Empoyee name: {employee.name}\")\n",
    "print(f\"Empoyee position: {employee.position}\")\n",
    "print(f\"Empoyee salary: {employee.salary}\")"
   ]
  },
  {
   "cell_type": "markdown",
   "metadata": {},
   "source": [
    "3. Implement a program that simulates a basic bank account using a BankAccount class."
   ]
  },
  {
   "cell_type": "code",
   "execution_count": 6,
   "metadata": {},
   "outputs": [
    {
     "name": "stdout",
     "output_type": "stream",
     "text": [
      "Starting balance: 1200\n",
      "After credit: 1500\n",
      "After debit: 1000\n",
      "Not enough money in your account.\n",
      "After debit: 1000\n"
     ]
    }
   ],
   "source": [
    "class BankAccount:\n",
    "    def __init__(self, princip):\n",
    "        self.princip = princip\n",
    "    \n",
    "    def credit(self, amount):\n",
    "        self.princip += amount\n",
    "    \n",
    "    def debit(self, amount):\n",
    "        if self.princip < amount:\n",
    "            return \"Not enough money in your account.\"\n",
    "        else:\n",
    "            self.princip -= amount\n",
    "\n",
    "account = BankAccount(1200)\n",
    "print(f\"Starting balance: {account.princip}\")\n",
    "account.credit(300)\n",
    "print(f\"After credit: {account.princip}\")\n",
    "account.debit(500)\n",
    "print(f\"After debit: {account.princip}\")\n",
    "print(account.debit(1100))\n",
    "print(f\"After debit: {account.princip}\")"
   ]
  },
  {
   "cell_type": "markdown",
   "metadata": {},
   "source": [
    "4. Write aPython program tat uses a Rectangle class to calculate the area and perimeter of a rectangle."
   ]
  },
  {
   "cell_type": "code",
   "execution_count": 7,
   "metadata": {},
   "outputs": [
    {
     "name": "stdout",
     "output_type": "stream",
     "text": [
      "Area: 20\n",
      "Perimeter: 18\n"
     ]
    }
   ],
   "source": [
    "class Rectangle:\n",
    "    def __init__(self, length, width):\n",
    "        self.length = length\n",
    "        self.width = width\n",
    "    \n",
    "    def area(self):\n",
    "        return self.width * self.length\n",
    "    \n",
    "    def perimeter(self):\n",
    "        return 2 * (self.length + self.width)\n",
    "\n",
    "rectangle = Rectangle(4, 5)\n",
    "print(f\"Area: {rectangle.area()}\")\n",
    "print(f\"Perimeter: {rectangle.perimeter()}\")"
   ]
  },
  {
   "cell_type": "markdown",
   "metadata": {},
   "source": [
    "5. Create a class to represent a Car with attributes like make, model, and year."
   ]
  },
  {
   "cell_type": "code",
   "execution_count": 8,
   "metadata": {},
   "outputs": [
    {
     "name": "stdout",
     "output_type": "stream",
     "text": [
      "Car make: BMW\n",
      "Car model: M5\n",
      "Car year: 2022\n"
     ]
    }
   ],
   "source": [
    "class Car:\n",
    "    def __init__(self, make, model, year):\n",
    "        self.make = make\n",
    "        self.model = model\n",
    "        self.year = year\n",
    "\n",
    "make = \"BMW\"\n",
    "model = \"M5\"\n",
    "year = 2022\n",
    "car1 = Car(make, model, year)\n",
    "print(f\"Car make: {car1.make}\")\n",
    "print(f\"Car model: {car1.model}\")\n",
    "print(f\"Car year: {car1.year}\")"
   ]
  },
  {
   "cell_type": "markdown",
   "metadata": {},
   "source": [
    "6. Given a JSON file with customer data, create a Customer class to store and manipulate the data."
   ]
  },
  {
   "cell_type": "code",
   "execution_count": 9,
   "metadata": {},
   "outputs": [
    {
     "name": "stdout",
     "output_type": "stream",
     "text": [
      "First data\n",
      "[{'name': 'John Doe', 'customer_id': 'C001', 'age': 30, 'employment': 'Software Engineer'}, {'name': 'Jane Smith', 'customer_id': 'C002', 'age': 25, 'employment': 'Data Scientist'}, {'name': 'Albert', 'customer_id': 'C004', 'age': 40, 'employment': 'Driver'}, {'name': 'Albert', 'customer_id': 'C004', 'age': 40, 'employment': 'Driver'}]\n",
      "Get customer\n",
      "Customer nut found\n",
      "After adding customer\n",
      "[{'name': 'John Doe', 'customer_id': 'C001', 'age': 30, 'employment': 'Software Engineer'}, {'name': 'Jane Smith', 'customer_id': 'C002', 'age': 25, 'employment': 'Data Scientist'}, {'name': 'Albert', 'customer_id': 'C004', 'age': 40, 'employment': 'Driver'}, {'name': 'Albert', 'customer_id': 'C004', 'age': 40, 'employment': 'Driver'}, {'name': 'Albert', 'customer_id': 'C004', 'age': 35, 'employment': 'Driver'}]\n",
      "After removing one customer\n",
      "[{'name': 'John Doe', 'customer_id': 'C001', 'age': 30, 'employment': 'Software Engineer'}, {'name': 'Jane Smith', 'customer_id': 'C002', 'age': 25, 'employment': 'Data Scientist'}, {'name': 'Albert', 'customer_id': 'C004', 'age': 40, 'employment': 'Driver'}, {'name': 'Albert', 'customer_id': 'C004', 'age': 40, 'employment': 'Driver'}, {'name': 'Albert', 'customer_id': 'C004', 'age': 35, 'employment': 'Driver'}]\n",
      "After updating one customer\n",
      "[{'name': 'John Doe', 'customer_id': 'C001', 'age': 30, 'employment': 'Software Engineer'}, {'name': 'Jane Smith', 'customer_id': 'C002', 'age': 25, 'employment': 'Data Scientist'}, {'name': 'Albert', 'customer_id': 'C004', 'age': 40, 'employment': 'Driver'}, {'name': 'Albert', 'customer_id': 'C004', 'age': 40, 'employment': 'Driver'}, {'name': 'Albert', 'customer_id': 'C004', 'age': 40, 'employment': 'Driver'}]\n",
      "After updating database\n",
      "{'customers': [{'name': 'John Doe', 'customer_id': 'C001', 'age': 30, 'employment': 'Software Engineer'}, {'name': 'Jane Smith', 'customer_id': 'C002', 'age': 25, 'employment': 'Data Scientist'}, {'name': 'Albert', 'customer_id': 'C004', 'age': 40, 'employment': 'Driver'}, {'name': 'Albert', 'customer_id': 'C004', 'age': 40, 'employment': 'Driver'}, {'name': 'Albert', 'customer_id': 'C004', 'age': 40, 'employment': 'Driver'}]}\n"
     ]
    }
   ],
   "source": [
    "import json\n",
    "class Customer:\n",
    "    def __init__(self):\n",
    "        with open(\"data/day_9/customer.json\") as f:\n",
    "            self.data = json.load(f)[\"customers\"]\n",
    "    \n",
    "    def get_customer(self, cust_id):\n",
    "        for cust in self.data:\n",
    "            if cust[\"customer_id\"] == cust_id:\n",
    "                return cust\n",
    "            else:\n",
    "                return \"Customer nut found\"\n",
    "    \n",
    "    def add_customer(self, name, id, age, employment):\n",
    "        cust_info = {\n",
    "            \"name\": name, \"customer_id\": id, \"age\": age, \"employment\":employment\n",
    "        }\n",
    "        self.data.append(cust_info)\n",
    "    \n",
    "    def remove_cust(self, id):\n",
    "        for idx, x in enumerate(self.data):\n",
    "            if x[\"customer_id\"] == id:\n",
    "                del self.data[idx]\n",
    "    \n",
    "    def update_cust(self, id, info):\n",
    "        for idx, x in enumerate(self.data):\n",
    "            if x[\"customer_id\"] == id:\n",
    "                self.data[idx].update(info)\n",
    "    def update_database(self):\n",
    "        with open(\"data/day_9/customer.json\", \"w\") as f:\n",
    "            json.dump({\"customers\": self.data}, f)\n",
    "        \n",
    "\n",
    "customers = Customer()\n",
    "print(\"First data\")\n",
    "print(customers.data)\n",
    "customer1 = customers.get_customer(\"Coo2\")\n",
    "print(\"Get customer\")\n",
    "print(customer1)\n",
    "customers.add_customer(\"Albert\", \"C004\", 35, \"Driver\")\n",
    "print('After adding customer')\n",
    "print(customers.data)\n",
    "customers.remove_cust(\"C003\")\n",
    "print(\"After removing one customer\")\n",
    "print(customers.data)\n",
    "customers.update_cust(\"C004\", {\"age\": 40})\n",
    "print(\"After updating one customer\")\n",
    "print(customers.data)\n",
    "customers.update_database()\n",
    "print(\"After updating database\")\n",
    "with open(\"data/day_9/customer.json\") as f:\n",
    "    data = json.load(f)\n",
    "print(data)"
   ]
  },
  {
   "cell_type": "markdown",
   "metadata": {},
   "source": [
    "7. Write a program that uses a Person class to keep track of a person's name, age, and address."
   ]
  },
  {
   "cell_type": "code",
   "execution_count": 10,
   "metadata": {},
   "outputs": [
    {
     "name": "stdout",
     "output_type": "stream",
     "text": [
      "Name: Albert\n",
      "Age: 30\n",
      "Address: London\n"
     ]
    }
   ],
   "source": [
    "class Person:\n",
    "    def __init__(self, name, age, address):\n",
    "        self.name = name\n",
    "        self.age = age\n",
    "        self.address = address\n",
    "\n",
    "name = \"Albert\"\n",
    "age = 30\n",
    "address = \"London\"\n",
    "person1 = Person(name, age, address)\n",
    "print(f\"Name: {person1.name}\")\n",
    "print(f\"Age: {person1.age}\")\n",
    "print(f\"Address: {person1.address}\")"
   ]
  },
  {
   "cell_type": "markdown",
   "metadata": {},
   "source": [
    "8. Implement a program that uses a Circle class to calculate the area and circumference of multiple circles."
   ]
  },
  {
   "cell_type": "code",
   "execution_count": 11,
   "metadata": {},
   "outputs": [
    {
     "name": "stdout",
     "output_type": "stream",
     "text": [
      "Area of a circle with radius 2 is 12.566\n",
      "Area of a circle with radius 3 is 28.274\n",
      "Circumference of a circle with radius 5 is 31.416\n"
     ]
    }
   ],
   "source": [
    "import math\n",
    "class Circle:\n",
    "    def __init__(self, rad):\n",
    "        self.rad = rad\n",
    "    \n",
    "    def area(self):\n",
    "        return math.pi * self.rad ** 2\n",
    "    \n",
    "    def circumference(self):\n",
    "        return 2 * math.pi * self.rad\n",
    "    \n",
    "circle1 = Circle(rad= 2)\n",
    "area1 = circle1.area()\n",
    "area2 = Circle(3).area()\n",
    "circumference3 = Circle(rad = 5).circumference()\n",
    "print(f\"Area of a circle with radius {circle1.rad} is {area1:.3f}\")\n",
    "print(f\"Area of a circle with radius {3} is {area2:.3f}\")\n",
    "print(f\"Circumference of a circle with radius {5} is {circumference3:.3f}\")"
   ]
  },
  {
   "cell_type": "markdown",
   "metadata": {},
   "source": [
    "9. Given a CSV file with product details (name, price, quantity), create a Product class to manage the data."
   ]
  },
  {
   "cell_type": "code",
   "execution_count": 12,
   "metadata": {},
   "outputs": [
    {
     "name": "stdout",
     "output_type": "stream",
     "text": [
      "{'name': 'Smartphone', 'price': '800', 'quantity': '10'}\n",
      "[{'name': 'Laptop', 'price': '1200', 'quantity': '5'}, {'name': 'Smartphone', 'price': '800', 'quantity': '10'}, {'name': 'Headphones', 'price': '150', 'quantity': '20'}, {'name': 'Keyboard', 'price': '50', 'quantity': '15'}, {'name': 'Mouse', 'price': '25', 'quantity': '30'}, {'name': 'Monitor', 'price': '300', 'quantity': '7'}, {'name': 'Tablet', 'price': '400', 'quantity': '12'}, {'name': 'Printer', 'price': '200', 'quantity': '8'}, {'name': 'Webcam', 'price': '100', 'quantity': '25'}, {'name': 'Speaker', 'price': '75', 'quantity': '18'}]\n",
      "[{'name': 'Laptop', 'price': '1200', 'quantity': '5'}, {'name': 'Smartphone', 'price': '800', 'quantity': '10'}, {'name': 'Headphones', 'price': '150', 'quantity': '20'}, {'name': 'Keyboard', 'price': '60', 'quantity': '15'}, {'name': 'Mouse', 'price': '25', 'quantity': '30'}, {'name': 'Monitor', 'price': '300', 'quantity': '7'}, {'name': 'Tablet', 'price': '400', 'quantity': '12'}, {'name': 'Printer', 'price': '200', 'quantity': '8'}, {'name': 'Webcam', 'price': '100', 'quantity': '25'}, {'name': 'Speaker', 'price': '75', 'quantity': '18'}]\n",
      "[{'name': 'Smartphone', 'price': '800', 'quantity': '10'}, {'name': 'Headphones', 'price': '150', 'quantity': '20'}, {'name': 'Keyboard', 'price': '60', 'quantity': '15'}, {'name': 'Mouse', 'price': '25', 'quantity': '30'}, {'name': 'Monitor', 'price': '300', 'quantity': '7'}, {'name': 'Tablet', 'price': '400', 'quantity': '12'}, {'name': 'Printer', 'price': '200', 'quantity': '8'}, {'name': 'Webcam', 'price': '100', 'quantity': '25'}, {'name': 'Speaker', 'price': '75', 'quantity': '18'}]\n"
     ]
    }
   ],
   "source": [
    "import csv\n",
    "def extract_product():\n",
    "    with open(\"data/day_9/product.csv\") as f:\n",
    "        reader = csv.DictReader(f)\n",
    "        data = [row for row in reader]\n",
    "        return data\n",
    "\n",
    "class Product:\n",
    "    def __init__(self):\n",
    "        self.data = extract_product()\n",
    "        \n",
    "    def show_info(self, product):\n",
    "        return next((x for x in self.data if x[\"name\"] == product), None)\n",
    "        \n",
    "    def update(self, product, key, val):\n",
    "        for i, x in enumerate(self.data):\n",
    "            if x[\"name\"] == product:\n",
    "                self.data[i][key] = val\n",
    "    def remove_product(self, product):\n",
    "        for i, x in enumerate(self.data):\n",
    "            if x[\"name\"] == product: \n",
    "                del self.data[i]\n",
    "    \n",
    "    def update_data(self):\n",
    "        with open(\"data/day_9/product.csv\", \"w\", newline= \"\") as f:\n",
    "            writer = csv.DictWriter(f, fieldnames= self.data[0].keys())\n",
    "            writer.writeheader()\n",
    "            writer.writerows(self.data)\n",
    "         \n",
    "        \n",
    "product = Product()\n",
    "print(product.show_info(\"Smartphone\"))\n",
    "print(product.data)\n",
    "product.update(\"Keyboard\", \"price\", \"60\")\n",
    "print(product.data)\n",
    "product.update_data()\n",
    "product.remove_product(\"Laptop\")\n",
    "print(product.data)"
   ]
  },
  {
   "cell_type": "markdown",
   "metadata": {},
   "source": [
    "10. Create a class to represent a Movie with attrbutes like title, director, and rating"
   ]
  },
  {
   "cell_type": "code",
   "execution_count": 13,
   "metadata": {},
   "outputs": [
    {
     "name": "stdout",
     "output_type": "stream",
     "text": [
      "Movie 1:\n",
      " Title =Inception\n",
      " Director =Christopher Nolan\n",
      " Rating =8.8\n",
      "Movie 2:\n",
      " Title =The Shawshank Redemption\n",
      " Director =Frank Darabont\n",
      " Rating =9.3\n"
     ]
    }
   ],
   "source": [
    "class Movie:\n",
    "    def __init__(self, title, director, rating):\n",
    "        self.title = title\n",
    "        self.director = director\n",
    "        self.rating = rating\n",
    "\n",
    "movie1 = Movie(\"Inception\", \"Christopher Nolan\", 8.8)\n",
    "print(f\"Movie 1:\\n Title ={movie1.title}\\n Director ={movie1.director}\\n Rating ={movie1.rating}\")\n",
    "movie2 = Movie(\"The Shawshank Redemption\", \"Frank Darabont\", 9.3)\n",
    "print(f\"Movie 2:\\n Title ={movie2.title}\\n Director ={movie2.director}\\n Rating ={movie2.rating}\")"
   ]
  }
 ],
 "metadata": {
  "kernelspec": {
   "display_name": "ds_env",
   "language": "python",
   "name": "python3"
  },
  "language_info": {
   "codemirror_mode": {
    "name": "ipython",
    "version": 3
   },
   "file_extension": ".py",
   "mimetype": "text/x-python",
   "name": "python",
   "nbconvert_exporter": "python",
   "pygments_lexer": "ipython3",
   "version": "3.12.3"
  }
 },
 "nbformat": 4,
 "nbformat_minor": 2
}
