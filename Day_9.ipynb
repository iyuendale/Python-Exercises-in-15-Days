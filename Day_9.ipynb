{
 "cells": [
  {
   "cell_type": "markdown",
   "metadata": {},
   "source": [
    "# Day 9: Object-Oriented Programming (OOP)"
   ]
  },
  {
   "cell_type": "markdown",
   "metadata": {},
   "source": [
    "### Example Questions"
   ]
  },
  {
   "cell_type": "markdown",
   "metadata": {},
   "source": [
    "Q1. Create a class to represent a basic calculator with add, subtract, multiply and divide methods."
   ]
  },
  {
   "cell_type": "code",
   "execution_count": 7,
   "metadata": {},
   "outputs": [
    {
     "name": "stdout",
     "output_type": "stream",
     "text": [
      "Calculates addition, subtraction, multiplication and devision\n",
      "5 + 8 = 13\n",
      "5 - 8 = -3\n",
      "5 * 8 = 40\n",
      "5 / 8 = 0.625\n"
     ]
    }
   ],
   "source": [
    "class calculator:\n",
    "    def __init__(self):\n",
    "        pass\n",
    "\n",
    "    def __str__(self):\n",
    "        return f\"Calculates addition, subtraction, multiplication and devision\"\n",
    "    \n",
    "    def add(self, x, y):\n",
    "        return x + y\n",
    "    \n",
    "    def subtract(self, x, y):\n",
    "        return x - y\n",
    "    \n",
    "    def multiply(self, x, y):\n",
    "        return x * y\n",
    "    \n",
    "    def devide(self, x, y):\n",
    "        return x / y\n",
    "\n",
    "calc = calculator()\n",
    "print(calc)\n",
    "x, y = 5, 8\n",
    "print(f\"{x} + {y} = {calc.add(x, y)}\")\n",
    "print(f\"{x} - {y} = {calc.subtract(x, y)}\")\n",
    "print(f\"{x} * {y} = {calc.multiply(x, y)}\")\n",
    "print(f\"{x} / {y} = {calc.devide(x, y)}\")"
   ]
  },
  {
   "cell_type": "markdown",
   "metadata": {},
   "source": [
    "Q2. Create a class to represent a book with attributes like title, author, and publication year."
   ]
  },
  {
   "cell_type": "code",
   "execution_count": 8,
   "metadata": {},
   "outputs": [
    {
     "name": "stdout",
     "output_type": "stream",
     "text": [
      "Book title: The Hound of the Baskervilles\n",
      "Book author: Sir Arthur Conan Doyle\n",
      "Book publication year: 1902\n"
     ]
    }
   ],
   "source": [
    "class Book:\n",
    "    def __init__(self, title, author, pub_year):\n",
    "        self.title = title\n",
    "        self.author = author\n",
    "        self.pub_year = pub_year\n",
    "\n",
    "title = \"The Hound of the Baskervilles\"\n",
    "author = \"Sir Arthur Conan Doyle\"\n",
    "pub_year = 1902\n",
    "book = Book(title, author, pub_year)\n",
    "print(f\"Book title: {book.title}\")\n",
    "print(f\"Book author: {book.author}\")\n",
    "print(f\"Book publication year: {book.pub_year}\")"
   ]
  },
  {
   "cell_type": "markdown",
   "metadata": {},
   "source": [
    "Q3. Define a class for a Circle with methods to calculate its area and cicumference."
   ]
  },
  {
   "cell_type": "code",
   "execution_count": 10,
   "metadata": {},
   "outputs": [
    {
     "name": "stdout",
     "output_type": "stream",
     "text": [
      "Area: Area: 50.27\n",
      "Circumference: Circumference: 25.13\n"
     ]
    }
   ],
   "source": [
    "from math import pi\n",
    "class Circle:\n",
    "    def __init__(self, radius):\n",
    "        self.radius = radius\n",
    "    \n",
    "    def area(self):\n",
    "        return f\"Area: {pi * self.radius ** 2:.2f}\"\n",
    "    \n",
    "    def circumference(self):\n",
    "        return f\"Circumference: {2 * pi * self.radius:.2f}\"\n",
    "\n",
    "circle = Circle(radius= 4)\n",
    "print(f\"Area: {circle.area()}\")\n",
    "print(f\"Circumference: {circle.circumference()}\")"
   ]
  },
  {
   "cell_type": "markdown",
   "metadata": {},
   "source": [
    "### Practice Questions"
   ]
  },
  {
   "cell_type": "markdown",
   "metadata": {},
   "source": [
    "1. Create a class to represent a student with attributes like name, age, and grades."
   ]
  },
  {
   "cell_type": "code",
   "execution_count": 1,
   "metadata": {},
   "outputs": [
    {
     "name": "stdout",
     "output_type": "stream",
     "text": [
      "Student's name: Jack\n",
      "Student's age: 30\n",
      "Student's grades: ['A', 'B-', 'B+', 'A']\n"
     ]
    }
   ],
   "source": [
    "class Student:\n",
    "    def __init__(self, name, age, grades):\n",
    "        self.name = name\n",
    "        self.age = age\n",
    "        self.grades = grades\n",
    "\n",
    "name = \"Jack\"\n",
    "age = 30\n",
    "grades = [\"A\", \"B-\", \"B+\", \"A\"]\n",
    "student = Student(name, age, grades)\n",
    "print(f\"Student's name: {student.name}\")\n",
    "print(f\"Student's age: {student.age}\")\n",
    "print(f\"Student's grades: {student.grades}\")"
   ]
  },
  {
   "cell_type": "markdown",
   "metadata": {},
   "source": [
    "2. Given a CSV file with employee details (name, position, salary), create a class to represent an Employee."
   ]
  },
  {
   "cell_type": "code",
   "execution_count": 4,
   "metadata": {},
   "outputs": [
    {
     "name": "stdout",
     "output_type": "stream",
     "text": [
      "Empoyee name: Jack\n",
      "Empoyee position: Doctor\n",
      "Empoyee salary: $1200\n"
     ]
    }
   ],
   "source": [
    "import csv\n",
    "class Employee:\n",
    "    def __init__(self):\n",
    "        with open(\"data/day_9/employee.csv\") as f:\n",
    "            reader = csv.reader(f)\n",
    "            for row in reader:\n",
    "                self.name = row[0]\n",
    "                self.position = row[1]\n",
    "                self.salary = row[2]\n",
    "\n",
    "employee = Employee()\n",
    "print(f\"Empoyee name: {employee.name}\")\n",
    "print(f\"Empoyee position: {employee.position}\")\n",
    "print(f\"Empoyee salary: {employee.salary}\")"
   ]
  },
  {
   "cell_type": "markdown",
   "metadata": {},
   "source": [
    "3. Implement a program that simulates a basic bank account using a BankAccount class."
   ]
  },
  {
   "cell_type": "code",
   "execution_count": 7,
   "metadata": {},
   "outputs": [
    {
     "name": "stdout",
     "output_type": "stream",
     "text": [
      "Starting balance: 1200\n",
      "After credit: 1500\n",
      "After debit: 1000\n",
      "Not enough money in your account.\n",
      "After debit: 1000\n"
     ]
    }
   ],
   "source": [
    "class BankAccount:\n",
    "    def __init__(self, princip):\n",
    "        self.princip = princip\n",
    "    \n",
    "    def credit(self, amount):\n",
    "        self.princip += amount\n",
    "    \n",
    "    def debit(self, amount):\n",
    "        if self.princip < amount:\n",
    "            return \"Not enough money in your account.\"\n",
    "        else:\n",
    "            self.princip -= amount\n",
    "\n",
    "account = BankAccount(1200)\n",
    "print(f\"Starting balance: {account.princip}\")\n",
    "account.credit(300)\n",
    "print(f\"After credit: {account.princip}\")\n",
    "account.debit(500)\n",
    "print(f\"After debit: {account.princip}\")\n",
    "print(account.debit(1100))\n",
    "print(f\"After debit: {account.princip}\")"
   ]
  },
  {
   "cell_type": "markdown",
   "metadata": {},
   "source": [
    "4. Write aPython program tat uses a Rectangle class to calculate the area and perimeter of a rectangle."
   ]
  },
  {
   "cell_type": "code",
   "execution_count": 8,
   "metadata": {},
   "outputs": [
    {
     "name": "stdout",
     "output_type": "stream",
     "text": [
      "Area: 20\n",
      "Perimeter: 18\n"
     ]
    }
   ],
   "source": [
    "class Rectangle:\n",
    "    def __init__(self, length, width):\n",
    "        self.length = length\n",
    "        self.width = width\n",
    "    \n",
    "    def area(self):\n",
    "        return self.width * self.length\n",
    "    \n",
    "    def perimeter(self):\n",
    "        return 2 * (self.length + self.width)\n",
    "\n",
    "rectangle = Rectangle(4, 5)\n",
    "print(f\"Area: {rectangle.area()}\")\n",
    "print(f\"Perimeter: {rectangle.perimeter()}\")"
   ]
  },
  {
   "cell_type": "markdown",
   "metadata": {},
   "source": [
    "5. Create a class to represent a Car with attributes like make, model, and year."
   ]
  },
  {
   "cell_type": "code",
   "execution_count": 9,
   "metadata": {},
   "outputs": [
    {
     "name": "stdout",
     "output_type": "stream",
     "text": [
      "Car make: BMW\n",
      "Car model: M5\n",
      "Car year: 2022\n"
     ]
    }
   ],
   "source": [
    "class Car:\n",
    "    def __init__(self, make, model, year):\n",
    "        self.make = make\n",
    "        self.model = model\n",
    "        self.year = year\n",
    "\n",
    "make = \"BMW\"\n",
    "model = \"M5\"\n",
    "year = 2022\n",
    "car1 = Car(make, model, year)\n",
    "print(f\"Car make: {car1.make}\")\n",
    "print(f\"Car model: {car1.model}\")\n",
    "print(f\"Car year: {car1.year}\")"
   ]
  },
  {
   "cell_type": "markdown",
   "metadata": {},
   "source": [
    "6. Given a JSON file with customer data, create a Customer class to store and manipulate the data."
   ]
  }
 ],
 "metadata": {
  "kernelspec": {
   "display_name": "ds_env",
   "language": "python",
   "name": "python3"
  },
  "language_info": {
   "codemirror_mode": {
    "name": "ipython",
    "version": 3
   },
   "file_extension": ".py",
   "mimetype": "text/x-python",
   "name": "python",
   "nbconvert_exporter": "python",
   "pygments_lexer": "ipython3",
   "version": "3.12.3"
  }
 },
 "nbformat": 4,
 "nbformat_minor": 2
}
