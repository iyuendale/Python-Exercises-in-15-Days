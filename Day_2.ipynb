{
 "cells": [
  {
   "cell_type": "markdown",
   "metadata": {},
   "source": [
    "# Day 2: Variables and Data Types"
   ]
  },
  {
   "cell_type": "markdown",
   "metadata": {},
   "source": [
    "### Example Questions"
   ]
  },
  {
   "cell_type": "markdown",
   "metadata": {},
   "source": [
    "Q1. Create variables for storing a person's name, age, and average test score."
   ]
  },
  {
   "cell_type": "code",
   "execution_count": 1,
   "metadata": {},
   "outputs": [
    {
     "name": "stdout",
     "output_type": "stream",
     "text": [
      "Name: Iyuel\n",
      "Age: 27\n",
      "Average test score: 85\n"
     ]
    }
   ],
   "source": [
    "name = input(\"Enter name:\")\n",
    "age = input(\"Enter age:\")\n",
    "avg_test_score = input(\"Enter average test score:\")\n",
    "print(\"Name:\", name)\n",
    "print(\"Age:\", age)\n",
    "print(\"Average test score:\", avg_test_score)"
   ]
  },
  {
   "cell_type": "markdown",
   "metadata": {},
   "source": [
    "Q2. Concatenate two strings and print the result."
   ]
  },
  {
   "cell_type": "code",
   "execution_count": 2,
   "metadata": {},
   "outputs": [
    {
     "name": "stdout",
     "output_type": "stream",
     "text": [
      "Hello, World!\n"
     ]
    }
   ],
   "source": [
    "str1 = \"Hello, \"\n",
    "str2 = \"World!\"\n",
    "str3 = str1 + str2\n",
    "print(str3)"
   ]
  },
  {
   "cell_type": "markdown",
   "metadata": {},
   "source": [
    "Q3. Create a list of fruits and access elements using indexing."
   ]
  },
  {
   "cell_type": "code",
   "execution_count": 12,
   "metadata": {},
   "outputs": [
    {
     "name": "stdout",
     "output_type": "stream",
     "text": [
      "0   - banana\n",
      "1   - apple\n",
      "2   - orange\n",
      "3   - mango\n"
     ]
    }
   ],
   "source": [
    "fruits = ['banana', 'apple', 'orange', 'mango']\n",
    "for i in range(len(fruits)):\n",
    "    print(f'{i:<4}- {fruits[i]}')"
   ]
  },
  {
   "cell_type": "markdown",
   "metadata": {},
   "source": [
    "### Practice Questions"
   ]
  },
  {
   "cell_type": "markdown",
   "metadata": {},
   "source": [
    "1. Given a list of numbers, find the sum and average."
   ]
  },
  {
   "cell_type": "code",
   "execution_count": 14,
   "metadata": {},
   "outputs": [
    {
     "name": "stdout",
     "output_type": "stream",
     "text": [
      "Sum = 101, average = 20.200\n"
     ]
    }
   ],
   "source": [
    "nums = [2, 3, 11, 54, 31]\n",
    "sum = 0\n",
    "for x in nums:\n",
    "    sum += x\n",
    "\n",
    "avg = sum / len(nums)\n",
    "print(f\"Sum = {sum}, average = {avg:.3f}\")"
   ]
  },
  {
   "cell_type": "markdown",
   "metadata": {},
   "source": [
    "2. Create a program that takes a temperature in Celsius and converts it to Kelvin."
   ]
  },
  {
   "cell_type": "code",
   "execution_count": 15,
   "metadata": {},
   "outputs": [
    {
     "name": "stdout",
     "output_type": "stream",
     "text": [
      "Temperature in Kelvin: 308.0\n"
     ]
    }
   ],
   "source": [
    "temp_C = float(input(\"Enter temperature in Celsius:\"))\n",
    "temp_K = temp_C + 273\n",
    "print(\"Temperature in Kelvin:\", temp_K)"
   ]
  },
  {
   "cell_type": "markdown",
   "metadata": {},
   "source": [
    "3. Implement a program that checks if a given string is a palindrome."
   ]
  },
  {
   "cell_type": "code",
   "execution_count": 20,
   "metadata": {},
   "outputs": [
    {
     "name": "stdout",
     "output_type": "stream",
     "text": [
      "cat is not palindrome.\n"
     ]
    }
   ],
   "source": [
    "word = input(\"Enter a word:\").lower()\n",
    "j = 1\n",
    "for i in range(0, int(len(word) / 2)):\n",
    "    if word[i] != word[-i-1]:\n",
    "        print(f\"{word} is not palindrome.\")\n",
    "        j = 0\n",
    "        break\n",
    "\n",
    "if j == 1: print(f'{word} is palindrome.')"
   ]
  },
  {
   "cell_type": "markdown",
   "metadata": {},
   "source": [
    "4. Create a function to reverse a given string."
   ]
  },
  {
   "cell_type": "code",
   "execution_count": 22,
   "metadata": {},
   "outputs": [
    {
     "name": "stdout",
     "output_type": "stream",
     "text": [
      "!dlrow ,olleH\n"
     ]
    }
   ],
   "source": [
    "def reverse_string(str_in):\n",
    "    str_out = \"\"\n",
    "    for i in range(-1, -len(str_in) - 1, -1):\n",
    "        str_out += str_in[i]\n",
    "    return str_out\n",
    "\n",
    "word = input(\"Enter string:\")\n",
    "print(reverse_string(word))"
   ]
  },
  {
   "cell_type": "markdown",
   "metadata": {},
   "source": [
    "5. Given a list of names, concatenate them into a single string separated by spaces."
   ]
  },
  {
   "cell_type": "code",
   "execution_count": 25,
   "metadata": {},
   "outputs": [
    {
     "name": "stdout",
     "output_type": "stream",
     "text": [
      "<class 'str'>\n",
      "James Lisa John Albert Zack\n"
     ]
    }
   ],
   "source": [
    "names = [\"James\", \"Lisa\", \"John\", \"Albert\", \"Zack\"]\n",
    "str_names = names[0]\n",
    "for name in names[1:]:\n",
    "    str_names += f\" {name}\"\n",
    "\n",
    "print(type(str_names))\n",
    "print(str_names)"
   ]
  },
  {
   "cell_type": "markdown",
   "metadata": {},
   "source": [
    "6. Write a Pyton program to check if a given string is a pangram (contains all letters of the alphabet)."
   ]
  },
  {
   "cell_type": "code",
   "execution_count": null,
   "metadata": {},
   "outputs": [],
   "source": [
    "def is_pangram(word):\n",
    "    if len(set(word)) == 26:\n",
    "        return f\"{word} is pangram.\"\n",
    "    else:\n",
    "        return f\"{word} is not pangram.\"\n",
    "\n",
    "word = input(\"Enter string:\").lower()\n",
    "print(is_pangram(word))"
   ]
  },
  {
   "cell_type": "markdown",
   "metadata": {},
   "source": [
    "7. Calculate the area and circumference of a circle given its radius."
   ]
  },
  {
   "cell_type": "code",
   "execution_count": 3,
   "metadata": {},
   "outputs": [
    {
     "name": "stdout",
     "output_type": "stream",
     "text": [
      "Area: 78.54\n",
      "Circumference: 31.42\n"
     ]
    }
   ],
   "source": [
    "import math\n",
    "radius = float(input(\"Enter radius of the circle:\"))\n",
    "area = math.pi * radius ** 2\n",
    "circumference = 2 * math.pi * radius\n",
    "print(f\"Area: {area:.2f}\")\n",
    "print(f\"Circumference: {circumference:.2f}\")"
   ]
  },
  {
   "cell_type": "markdown",
   "metadata": {},
   "source": [
    "8. Implement a program that converts a given number if minutes into hours and minutes."
   ]
  },
  {
   "cell_type": "code",
   "execution_count": 4,
   "metadata": {},
   "outputs": [
    {
     "name": "stdout",
     "output_type": "stream",
     "text": [
      "Hours: 1\n",
      "Minutes: 15\n"
     ]
    }
   ],
   "source": [
    "minutes = int(input(\"Enter minutes:\"))\n",
    "hours = minutes // 60\n",
    "minutes = minutes % 60\n",
    "print(\"Hours:\", hours)\n",
    "print(\"Minutes:\", minutes)"
   ]
  },
  {
   "cell_type": "markdown",
   "metadata": {},
   "source": [
    "9. Create a function to count the number of vowels in a given string."
   ]
  },
  {
   "cell_type": "code",
   "execution_count": 6,
   "metadata": {},
   "outputs": [
    {
     "name": "stdout",
     "output_type": "stream",
     "text": [
      "The number of vowels in 'Nice' is 2.\n"
     ]
    }
   ],
   "source": [
    "def count_vowels(word):\n",
    "    word = word.lower()\n",
    "    count = 0\n",
    "    for letter in word:\n",
    "        if letter in [\"a\", \"e\", \"i\", \"o\", \"u\"]:\n",
    "            count += 1\n",
    "    return count\n",
    "\n",
    "word = input(\"Enter string:\")\n",
    "vowels = count_vowels(word)\n",
    "print(f\"The number of vowels in '{word}' is {vowels}.\")"
   ]
  },
  {
   "cell_type": "markdown",
   "metadata": {},
   "source": [
    "10. Write a program to check if a number is prime."
   ]
  },
  {
   "cell_type": "code",
   "execution_count": 8,
   "metadata": {},
   "outputs": [
    {
     "name": "stdout",
     "output_type": "stream",
     "text": [
      "31 is prime number.\n"
     ]
    }
   ],
   "source": [
    "num = int(input(\"Enter number:\"))\n",
    "def is_prime(num):\n",
    "    for i in range(2, num):\n",
    "        if num % i == 0:\n",
    "            return f\"{num} is not prime number.\"\n",
    "    return f\"{num} is prime number.\"\n",
    "\n",
    "print(is_prime(num))"
   ]
  }
 ],
 "metadata": {
  "kernelspec": {
   "display_name": "ds_env",
   "language": "python",
   "name": "python3"
  },
  "language_info": {
   "codemirror_mode": {
    "name": "ipython",
    "version": 3
   },
   "file_extension": ".py",
   "mimetype": "text/x-python",
   "name": "python",
   "nbconvert_exporter": "python",
   "pygments_lexer": "ipython3",
   "version": "3.12.3"
  }
 },
 "nbformat": 4,
 "nbformat_minor": 2
}
