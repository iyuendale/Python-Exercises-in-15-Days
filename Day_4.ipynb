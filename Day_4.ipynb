{
 "cells": [
  {
   "cell_type": "markdown",
   "metadata": {},
   "source": [
    "# Day 4: Functions"
   ]
  },
  {
   "cell_type": "markdown",
   "metadata": {},
   "source": [
    "### Example Questions"
   ]
  },
  {
   "cell_type": "markdown",
   "metadata": {},
   "source": [
    "Q1. Write a function to calculate the area of a circle given its radius."
   ]
  },
  {
   "cell_type": "code",
   "execution_count": 1,
   "metadata": {},
   "outputs": [
    {
     "name": "stdout",
     "output_type": "stream",
     "text": [
      "Area = 78.54\n"
     ]
    }
   ],
   "source": [
    "def circle_area(radius):\n",
    "    return 3.14159 * radius ** 2\n",
    "\n",
    "radius = int(input(\"Enter radius:\"))\n",
    "area = circle_area(radius)\n",
    "print(f\"Area = {area:.2f}\")"
   ]
  },
  {
   "cell_type": "markdown",
   "metadata": {},
   "source": [
    "Q2. Create a function to check if a number is prime."
   ]
  },
  {
   "cell_type": "code",
   "execution_count": 2,
   "metadata": {},
   "outputs": [
    {
     "name": "stdout",
     "output_type": "stream",
     "text": [
      "12 is not prime.\n"
     ]
    }
   ],
   "source": [
    "def is_prime(num):\n",
    "    for i in range(2, num):\n",
    "        if num % i == 0:\n",
    "            return False\n",
    "        continue\n",
    "    return True\n",
    "\n",
    "num = 12\n",
    "print(f\"{num} is prime.\" if is_prime(num) else f\"{num} is not prime.\")"
   ]
  },
  {
   "cell_type": "markdown",
   "metadata": {},
   "source": [
    "Q3. Implement a function that reverses a given string."
   ]
  },
  {
   "cell_type": "code",
   "execution_count": 3,
   "metadata": {},
   "outputs": [
    {
     "name": "stdout",
     "output_type": "stream",
     "text": [
      "nohtyP\n"
     ]
    }
   ],
   "source": [
    "def rev_string(string):\n",
    "    new_string = \"\"\n",
    "    for i in range(-1, -len(string) - 1, -1):\n",
    "        new_string += string[i]\n",
    "    return new_string\n",
    "\n",
    "string = \"Python\"\n",
    "print(rev_string(string))"
   ]
  },
  {
   "cell_type": "markdown",
   "metadata": {},
   "source": [
    "### Practice Questions"
   ]
  },
  {
   "cell_type": "markdown",
   "metadata": {},
   "source": [
    "1. Given a list of numbers, create a function to find the sum of all positive numbers."
   ]
  },
  {
   "cell_type": "code",
   "execution_count": 4,
   "metadata": {},
   "outputs": [
    {
     "name": "stdout",
     "output_type": "stream",
     "text": [
      "Sum of positive numbers from [-2, 4, 15, -20, 18] is 37.\n"
     ]
    }
   ],
   "source": [
    "def pos_sum(nums):\n",
    "    total = 0\n",
    "    for x in nums:\n",
    "        if x > 0:\n",
    "            total += x\n",
    "        continue\n",
    "    return total\n",
    "\n",
    "nums = [-2, 4, 15, -20, 18]\n",
    "print(f\"Sum of positive numbers from {nums} is {pos_sum(nums)}.\")"
   ]
  },
  {
   "cell_type": "markdown",
   "metadata": {},
   "source": [
    "2. Write a Python function to check a given string is a palindrome."
   ]
  },
  {
   "cell_type": "code",
   "execution_count": 5,
   "metadata": {},
   "outputs": [
    {
     "name": "stdout",
     "output_type": "stream",
     "text": [
      "Radar is palindrome\n"
     ]
    }
   ],
   "source": [
    "def is_palindrome(string):\n",
    "    string = string.lower()\n",
    "    for i in range(int(len(string) / 2)):\n",
    "        if string[i] != string[-i - 1]:\n",
    "            return False\n",
    "        continue\n",
    "    return True\n",
    "\n",
    "string = \"Radar\"\n",
    "print(f\"{string} is palindrome\" if is_palindrome(string) else f\"{string} is not palindrome.\")"
   ]
  },
  {
   "cell_type": "markdown",
   "metadata": {},
   "source": [
    "3. Implement a function thet returns the factorial of a given number using recursion."
   ]
  },
  {
   "cell_type": "code",
   "execution_count": 6,
   "metadata": {},
   "outputs": [
    {
     "name": "stdout",
     "output_type": "stream",
     "text": [
      "Factorial of 5 is 120.\n"
     ]
    }
   ],
   "source": [
    "def factorial(n):\n",
    "    if n == 1:\n",
    "        return 1\n",
    "    return n * factorial(n - 1)\n",
    "n = 5\n",
    "print(f\"Factorial of {n} is {factorial(n)}.\")"
   ]
  },
  {
   "cell_type": "markdown",
   "metadata": {},
   "source": [
    "4. Create a function to find the square of each element in a given list."
   ]
  },
  {
   "cell_type": "code",
   "execution_count": 7,
   "metadata": {},
   "outputs": [
    {
     "name": "stdout",
     "output_type": "stream",
     "text": [
      "[144, 9, 64, 225]\n"
     ]
    }
   ],
   "source": [
    "def square(nums):\n",
    "    return [num ** 2 for num in nums]\n",
    "\n",
    "nums = [12, -3, 8, -15]\n",
    "print(square(nums))"
   ]
  },
  {
   "cell_type": "markdown",
   "metadata": {},
   "source": [
    "5. Write a function to check if a number is even or odd and return \"Even\" or \"Odd\" accordingly."
   ]
  },
  {
   "cell_type": "code",
   "execution_count": 8,
   "metadata": {},
   "outputs": [
    {
     "name": "stdout",
     "output_type": "stream",
     "text": [
      "17 is Odd.\n"
     ]
    }
   ],
   "source": [
    "def is_even_odd(n):\n",
    "    if n % 2 == 0:\n",
    "        return \"Even\"\n",
    "    else:\n",
    "        return \"Odd\"\n",
    "    # return \"Even\" if n % 2 == 0 else \"Odd\"\n",
    "\n",
    "n = 17\n",
    "print(f\"{n} is {is_even_odd(n)}.\")"
   ]
  },
  {
   "cell_type": "markdown",
   "metadata": {},
   "source": [
    "6. Calculate the area of a triangle given its base and height using function."
   ]
  },
  {
   "cell_type": "code",
   "execution_count": 9,
   "metadata": {},
   "outputs": [
    {
     "name": "stdout",
     "output_type": "stream",
     "text": [
      "Area: 10.0\n"
     ]
    }
   ],
   "source": [
    "def tri_area(b, h):\n",
    "    area = b * h / 2\n",
    "    return area\n",
    "\n",
    "base = 4\n",
    "height = 5\n",
    "area = tri_area(base, height)\n",
    "print(\"Area:\", area)"
   ]
  },
  {
   "cell_type": "markdown",
   "metadata": {},
   "source": [
    "7. Create a function that takes a list of strings and returns the list sorted alphabetically."
   ]
  },
  {
   "cell_type": "code",
   "execution_count": null,
   "metadata": {},
   "outputs": [],
   "source": [
    "def sort_strings(strings):\n",
    "    "
   ]
  }
 ],
 "metadata": {
  "kernelspec": {
   "display_name": "ds_env",
   "language": "python",
   "name": "python3"
  },
  "language_info": {
   "codemirror_mode": {
    "name": "ipython",
    "version": 3
   },
   "file_extension": ".py",
   "mimetype": "text/x-python",
   "name": "python",
   "nbconvert_exporter": "python",
   "pygments_lexer": "ipython3",
   "version": "3.12.3"
  }
 },
 "nbformat": 4,
 "nbformat_minor": 2
}
