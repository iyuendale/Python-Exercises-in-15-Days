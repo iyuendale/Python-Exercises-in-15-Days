{
 "cells": [
  {
   "cell_type": "markdown",
   "metadata": {},
   "source": [
    "# Day 6: Lists and Tuples"
   ]
  },
  {
   "cell_type": "markdown",
   "metadata": {},
   "source": [
    "### Example Questions"
   ]
  },
  {
   "cell_type": "markdown",
   "metadata": {},
   "source": [
    "Q1. Given a list of numbers, find the sum and average using built-in functions."
   ]
  },
  {
   "cell_type": "code",
   "execution_count": 1,
   "metadata": {},
   "outputs": [
    {
     "name": "stdout",
     "output_type": "stream",
     "text": [
      "Sum of numbers = 66\n",
      "Average of numbers = 13.2\n"
     ]
    }
   ],
   "source": [
    "nums = [11, 21, 8, 9, 17]\n",
    "sum_nums = sum(nums)\n",
    "avg_nums = sum_nums / len(nums)\n",
    "print(f\"Sum of numbers = {sum_nums}\")\n",
    "print(f\"Average of numbers = {avg_nums}\")"
   ]
  },
  {
   "cell_type": "markdown",
   "metadata": {},
   "source": [
    "Q2. Create a list of fruits and add a new fruit to the list."
   ]
  },
  {
   "cell_type": "code",
   "execution_count": 2,
   "metadata": {},
   "outputs": [
    {
     "name": "stdout",
     "output_type": "stream",
     "text": [
      "['apple', 'mango', 'banana', 'orange', 'cherry']\n"
     ]
    }
   ],
   "source": [
    "fruits = [\"apple\", \"mango\", \"banana\", \"orange\"]\n",
    "fruits.append(\"cherry\")\n",
    "print(fruits)"
   ]
  },
  {
   "cell_type": "markdown",
   "metadata": {},
   "source": [
    "Q3. Access elements in a tuple using indexing."
   ]
  },
  {
   "cell_type": "code",
   "execution_count": 3,
   "metadata": {},
   "outputs": [
    {
     "name": "stdout",
     "output_type": "stream",
     "text": [
      "Second element: 4\n"
     ]
    }
   ],
   "source": [
    "tup1 = (1, 4, 9, 6)\n",
    "print(f\"Second element: {tup1[1]}\")"
   ]
  },
  {
   "cell_type": "markdown",
   "metadata": {},
   "source": [
    "### Practice Questions"
   ]
  },
  {
   "cell_type": "markdown",
   "metadata": {},
   "source": [
    "1. Given two lists of numbers, concatenate them into a single list."
   ]
  },
  {
   "cell_type": "code",
   "execution_count": 4,
   "metadata": {},
   "outputs": [
    {
     "name": "stdout",
     "output_type": "stream",
     "text": [
      "[3, 7, 6, 2, 13, 21, 5]\n"
     ]
    }
   ],
   "source": [
    "list1 = [3, 7, 6, 2]\n",
    "list2 = [13, 21, 5]\n",
    "list3 = list1 + list2\n",
    "print(list3)"
   ]
  },
  {
   "cell_type": "markdown",
   "metadata": {},
   "source": [
    "2. Write a program that finds the largest and smallest elements in a list."
   ]
  },
  {
   "cell_type": "code",
   "execution_count": 7,
   "metadata": {},
   "outputs": [
    {
     "name": "stdout",
     "output_type": "stream",
     "text": [
      "Largest element = 52\n",
      "Smallest element = 8\n"
     ]
    }
   ],
   "source": [
    "nums = [14, 52, 8, 31, 9]\n",
    "max_elem = max(nums)\n",
    "min_elem = min(nums)\n",
    "print(f\"Largest element = {max_elem}\")\n",
    "print(f\"Smallest element = {min_elem}\")"
   ]
  },
  {
   "cell_type": "markdown",
   "metadata": {},
   "source": [
    "3. Implement a function that takes a list of numbers and returns a new list with the squared values."
   ]
  },
  {
   "cell_type": "code",
   "execution_count": 8,
   "metadata": {},
   "outputs": [
    {
     "name": "stdout",
     "output_type": "stream",
     "text": [
      "[9, 36, 121, 25, 49]\n"
     ]
    }
   ],
   "source": [
    "def squared(nums):\n",
    "    return [x ** 2 for x in nums]\n",
    "\n",
    "nums = [-3, 6, 11, -5, 7]\n",
    "print(squared(nums))"
   ]
  },
  {
   "cell_type": "markdown",
   "metadata": {},
   "source": [
    "4. Create a program that finds the common elements between two lists and stores them in a new list."
   ]
  },
  {
   "cell_type": "code",
   "execution_count": 9,
   "metadata": {},
   "outputs": [
    {
     "name": "stdout",
     "output_type": "stream",
     "text": [
      "[3, 5, 4]\n"
     ]
    }
   ],
   "source": [
    "def find_common(list1, list2):\n",
    "    return [x for x in list1 if x in list2]\n",
    "\n",
    "lt1 = [3, 1, 5, 4, 7]\n",
    "lt2 = [9, 8, 3, 5, 4]\n",
    "print(find_common(lt1, lt2))"
   ]
  },
  {
   "cell_type": "markdown",
   "metadata": {},
   "source": [
    "5. Given a list of words, find the word with the maximum length and its length."
   ]
  },
  {
   "cell_type": "code",
   "execution_count": 14,
   "metadata": {},
   "outputs": [
    {
     "name": "stdout",
     "output_type": "stream",
     "text": [
      "Word with maximum length: pineapple\n",
      "Maximum length: 9\n"
     ]
    }
   ],
   "source": [
    "fruits = [\"apple\", \"man\", \"banana\", \"orange\", \"pineapple\"]\n",
    "max_word = fruits[0]\n",
    "for word in fruits[1:]:\n",
    "    if len(max_word) < len(word):\n",
    "        max_word = word\n",
    "    continue\n",
    "print(\"Word with maximum length:\", max_word)\n",
    "print(\"Maximum length:\", len(max_word))"
   ]
  },
  {
   "cell_type": "markdown",
   "metadata": {},
   "source": [
    "6. Write a Python program to count the occurences of each element in a given list."
   ]
  },
  {
   "cell_type": "code",
   "execution_count": 16,
   "metadata": {},
   "outputs": [
    {
     "data": {
      "text/plain": [
       "[(2, 2), (3, 2), (5, 1), (7, 1), (8, 1)]"
      ]
     },
     "execution_count": 16,
     "metadata": {},
     "output_type": "execute_result"
    }
   ],
   "source": [
    "def count_occ(lst):\n",
    "    new_lst = []\n",
    "    for x in set(lst):\n",
    "        count = 0\n",
    "        for y in lst:\n",
    "            if x == y:\n",
    "                count += 1\n",
    "            continue\n",
    "        new_lst.append((x, count))\n",
    "    return new_lst\n",
    "lst = [2, 3, 7, 5, 3, 8, 2]\n",
    "count_occ(lst)"
   ]
  },
  {
   "cell_type": "markdown",
   "metadata": {},
   "source": [
    "7. Given a list of names, remove all duplicate names and print the unique names."
   ]
  },
  {
   "cell_type": "code",
   "execution_count": 18,
   "metadata": {},
   "outputs": [
    {
     "name": "stdout",
     "output_type": "stream",
     "text": [
      "['Kaleb', 'Jack', 'Lisa', 'Albert']\n",
      "['Jack', 'Kaleb', 'Lisa', 'Albert']\n"
     ]
    }
   ],
   "source": [
    "names = ['Kaleb', 'Jack', 'Lisa', 'Albert', 'Jack', 'Lisa']\n",
    "new_names = []\n",
    "for name in names:\n",
    "    if name not in new_names:\n",
    "        new_names.append(name)\n",
    "    continue\n",
    "print(new_names)\n",
    "print(list(set(names)))"
   ]
  },
  {
   "cell_type": "markdown",
   "metadata": {},
   "source": [
    "8. Create a function that takes a list of strings and returns the list sorted by the length of the strings."
   ]
  },
  {
   "cell_type": "code",
   "execution_count": 28,
   "metadata": {},
   "outputs": [
    {
     "name": "stdout",
     "output_type": "stream",
     "text": [
      "['Set', 'List', 'Tuple', 'String']\n"
     ]
    }
   ],
   "source": [
    "def sort_strs(lst):\n",
    "    for x in range(len(lst)):\n",
    "        for y in range(len(lst)):\n",
    "            if len(lst[x]) < len(lst[y]):\n",
    "                lst[x], lst[y] = lst[y], lst[x]\n",
    "    return lst\n",
    "\n",
    "lst = ['List', 'Tuple', 'Set', 'String']\n",
    "print(sort_strs(lst))"
   ]
  },
  {
   "cell_type": "markdown",
   "metadata": {},
   "source": [
    "9. Write a program that checks if a given list is sorted in ascending order."
   ]
  },
  {
   "cell_type": "code",
   "execution_count": 33,
   "metadata": {},
   "outputs": [
    {
     "name": "stdout",
     "output_type": "stream",
     "text": [
      "List is not sorted in ascendig order.\n",
      "After sorted: ['Set', 'List', 'Tuple', 'String']\n",
      "List is sorted in ascending order.\n"
     ]
    }
   ],
   "source": [
    "def check_sort(lst):\n",
    "    len_lst = [len(x) for x in lst]\n",
    "    for i in range(len(len_lst) - 1):\n",
    "        for j in range(i, len(len_lst)):\n",
    "            if len_lst[j] < len_lst[i]:\n",
    "                return False\n",
    "    return True\n",
    "lst = ['List', 'Tuple', 'Set', 'String']\n",
    "if check_sort(lst):\n",
    "    print('List is sorted in ascending order.')\n",
    "else:\n",
    "    print('List is not sorted in ascendig order.')\n",
    "\n",
    "lst2 = sort_strs(lst)\n",
    "print('After sorted:', lst2)\n",
    "if check_sort(lst2):\n",
    "    print('List is sorted in ascending order.')\n",
    "else:\n",
    "    print('List is not sorted in ascendig order.')"
   ]
  },
  {
   "cell_type": "markdown",
   "metadata": {},
   "source": [
    "10. Implement a function that takes two lists and returns their union. (all unique elements from both lists)"
   ]
  },
  {
   "cell_type": "code",
   "execution_count": 35,
   "metadata": {},
   "outputs": [
    {
     "name": "stdout",
     "output_type": "stream",
     "text": [
      "[1, 2, 3, 4, 5, 6, 7]\n"
     ]
    }
   ],
   "source": [
    "def union(lst1, lst2):\n",
    "    # for y in lst2:\n",
    "    #     if y not in lst1:\n",
    "    #         lst1.append(y)\n",
    "    # return lst1\n",
    "    return list(set(lst1 + lst2))\n",
    "lst1 = [1, 2, 4, 7]\n",
    "lst2 = [4, 2, 5, 3, 6]\n",
    "lst3 = union(lst1, lst2)\n",
    "print(lst3)"
   ]
  }
 ],
 "metadata": {
  "kernelspec": {
   "display_name": "ds_env",
   "language": "python",
   "name": "python3"
  },
  "language_info": {
   "codemirror_mode": {
    "name": "ipython",
    "version": 3
   },
   "file_extension": ".py",
   "mimetype": "text/x-python",
   "name": "python",
   "nbconvert_exporter": "python",
   "pygments_lexer": "ipython3",
   "version": "3.12.3"
  }
 },
 "nbformat": 4,
 "nbformat_minor": 2
}
