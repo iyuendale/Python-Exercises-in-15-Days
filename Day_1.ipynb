{
 "cells": [
  {
   "cell_type": "markdown",
   "metadata": {},
   "source": [
    "# Day 1: Introduction and Setup"
   ]
  },
  {
   "cell_type": "markdown",
   "metadata": {},
   "source": [
    "## Example Questions"
   ]
  },
  {
   "cell_type": "markdown",
   "metadata": {},
   "source": [
    "Q1. Write a Python program to print \"Hello, World!\"."
   ]
  },
  {
   "cell_type": "code",
   "execution_count": 1,
   "metadata": {},
   "outputs": [
    {
     "name": "stdout",
     "output_type": "stream",
     "text": [
      "Hello, World!\n"
     ]
    }
   ],
   "source": [
    "print('Hello, World!')"
   ]
  },
  {
   "cell_type": "markdown",
   "metadata": {},
   "source": [
    "Q2. Calculate the sum of two numbers entered by the user."
   ]
  },
  {
   "cell_type": "code",
   "execution_count": 2,
   "metadata": {},
   "outputs": [
    {
     "name": "stdout",
     "output_type": "stream",
     "text": [
      "4 + 3 = 7\n"
     ]
    }
   ],
   "source": [
    "num1 = int(input('Enter first number:'))\n",
    "num2 = int(input('Enter second number:'))\n",
    "print(f'{num1} + {num2} = {num1 + num2}')"
   ]
  },
  {
   "cell_type": "markdown",
   "metadata": {},
   "source": [
    "Q3. Convert temperature from Celsius to Fahrenheit."
   ]
  },
  {
   "cell_type": "code",
   "execution_count": 3,
   "metadata": {},
   "outputs": [
    {
     "name": "stdout",
     "output_type": "stream",
     "text": [
      "Temperature in Fahrenheit is 95.00\n"
     ]
    }
   ],
   "source": [
    "temp_Cel = float(input(\"Enter temperature in Celsius:\"))\n",
    "temp_Fah = temp_Cel * 9 / 5 + 32\n",
    "print(f'Temperature in Fahrenheit is {temp_Fah:.2f}')"
   ]
  },
  {
   "cell_type": "markdown",
   "metadata": {},
   "source": [
    "## Practice Questions"
   ]
  },
  {
   "cell_type": "markdown",
   "metadata": {},
   "source": [
    "1. Write a Python program to calculate the area of a rectangle given its length and width."
   ]
  },
  {
   "cell_type": "code",
   "execution_count": 4,
   "metadata": {},
   "outputs": [
    {
     "name": "stdout",
     "output_type": "stream",
     "text": [
      "Area = 20.0\n"
     ]
    }
   ],
   "source": [
    "length = float(input('Enter length:'))\n",
    "width = float(input('Enter width:'))\n",
    "print(f'Area = {length * width}')"
   ]
  },
  {
   "cell_type": "markdown",
   "metadata": {},
   "source": [
    "2. Create a program that takes the user's name and age as input and prints a greeting message."
   ]
  },
  {
   "cell_type": "code",
   "execution_count": 5,
   "metadata": {},
   "outputs": [
    {
     "name": "stdout",
     "output_type": "stream",
     "text": [
      "Hello, Iyuel!\n"
     ]
    }
   ],
   "source": [
    "name = input(\"Enter your name:\")\n",
    "age = input(\"Enter your age:\")\n",
    "print(f\"Hello, {name}!\")"
   ]
  },
  {
   "cell_type": "markdown",
   "metadata": {},
   "source": [
    "3. Write a program to check if a number is even or odd."
   ]
  },
  {
   "cell_type": "code",
   "execution_count": 6,
   "metadata": {},
   "outputs": [
    {
     "name": "stdout",
     "output_type": "stream",
     "text": [
      "31 is odd!\n"
     ]
    }
   ],
   "source": [
    "num = int(input(\"Enter an integer number:\"))\n",
    "if num % 2 == 0:\n",
    "    print(f\"{num} is even!\")\n",
    "else:\n",
    "    print(f\"{num} is odd!\")"
   ]
  },
  {
   "cell_type": "markdown",
   "metadata": {},
   "source": [
    "4. Given a list of numbers, find the maximum and minimum values."
   ]
  },
  {
   "cell_type": "code",
   "execution_count": 7,
   "metadata": {},
   "outputs": [
    {
     "name": "stdout",
     "output_type": "stream",
     "text": [
      "Maximum value: 8\n",
      "Minimum value: 1\n"
     ]
    }
   ],
   "source": [
    "nums = [2, 4, 1, 8, 3]\n",
    "max_num = nums[0]\n",
    "min_num = nums[0]\n",
    "for x in nums:\n",
    "    if x > max_num:\n",
    "        max_num = x\n",
    "    if x < min_num:\n",
    "        min_num = x\n",
    "print(\"Maximum value:\", max_num)\n",
    "print(\"Minimum value:\", min_num)"
   ]
  },
  {
   "cell_type": "markdown",
   "metadata": {},
   "source": [
    "5. Create a Python function to check if a given string is a palindrome."
   ]
  },
  {
   "cell_type": "code",
   "execution_count": 8,
   "metadata": {},
   "outputs": [
    {
     "name": "stdout",
     "output_type": "stream",
     "text": [
      "noon is palindrome.\n"
     ]
    }
   ],
   "source": [
    "def is_palindrome(word):\n",
    "    for i in range(0, int(len(word) / 2)):\n",
    "        if word[i] != word[-i-1]:\n",
    "            return f\"{word} is not palindrome.\"\n",
    "    return f\"{word} is palindrome.\"\n",
    "\n",
    "word = input(\"Enter string:\").lower()\n",
    "print(is_palindrome(word))"
   ]
  },
  {
   "cell_type": "markdown",
   "metadata": {},
   "source": [
    "6. Calculate the compound interest for a given principal amount, interest rate, and time period."
   ]
  },
  {
   "cell_type": "code",
   "execution_count": 9,
   "metadata": {},
   "outputs": [
    {
     "name": "stdout",
     "output_type": "stream",
     "text": [
      "The compound interest after 4 years is $2098.81.\n"
     ]
    }
   ],
   "source": [
    "p = float(input('Enter principal:'))\n",
    "r = float(input('Enter interest rate:'))\n",
    "t = int(input('Enter time period:'))\n",
    "comp_int = p * (1 + r) ** t\n",
    "print(f'The compound interest after {t} years is ${comp_int:.2f}.')"
   ]
  },
  {
   "cell_type": "markdown",
   "metadata": {},
   "source": [
    "7. Write a program that converts a given number of days into years, weeks and days."
   ]
  },
  {
   "cell_type": "code",
   "execution_count": 10,
   "metadata": {},
   "outputs": [
    {
     "name": "stdout",
     "output_type": "stream",
     "text": [
      "Years = 3, weeks = 15, days = 0\n"
     ]
    }
   ],
   "source": [
    "days = int(input('Enter number of days:'))\n",
    "years = days // 365\n",
    "days = days % 365\n",
    "weeks = days // 7\n",
    "days = days % 7\n",
    "print(f'Years = {years}, weeks = {weeks}, days = {days}')"
   ]
  },
  {
   "cell_type": "markdown",
   "metadata": {},
   "source": [
    "8. Given a list of integers, find the sum of all positive numbers."
   ]
  },
  {
   "cell_type": "code",
   "execution_count": 11,
   "metadata": {},
   "outputs": [
    {
     "name": "stdout",
     "output_type": "stream",
     "text": [
      "Sum of the positive numbers is 45.\n"
     ]
    }
   ],
   "source": [
    "nums = [23, -12, 5, 9, -31, 8]\n",
    "pos_sum = 0\n",
    "for num in nums:\n",
    "    if num > 0:\n",
    "        pos_sum += num\n",
    "\n",
    "print(f'Sum of the positive numbers is {pos_sum}.')"
   ]
  },
  {
   "cell_type": "markdown",
   "metadata": {},
   "source": [
    "9. Create a program that takes a sentence as input and counts the number of words in it."
   ]
  },
  {
   "cell_type": "code",
   "execution_count": 12,
   "metadata": {},
   "outputs": [
    {
     "name": "stdout",
     "output_type": "stream",
     "text": [
      "The sentence is:\n",
      " Python is best programming language.\n",
      "The number of words in the sentence is 5\n"
     ]
    }
   ],
   "source": [
    "sentence = input('Enter sentence:')\n",
    "print('The sentence is:\\n', sentence)\n",
    "print(f'The number of words in the sentence is {len(sentence.split(' '))}')"
   ]
  },
  {
   "cell_type": "markdown",
   "metadata": {},
   "source": [
    "10. Implement a program that swaps the values of two variables."
   ]
  },
  {
   "cell_type": "code",
   "execution_count": 13,
   "metadata": {},
   "outputs": [
    {
     "name": "stdout",
     "output_type": "stream",
     "text": [
      "The numbers are 21 and 13\n",
      "The swaped numbers are (13, 21)\n"
     ]
    }
   ],
   "source": [
    "def swap_vals(x, y):\n",
    "    temp = x\n",
    "    x = y\n",
    "    y = temp\n",
    "    return x, y\n",
    "\n",
    "num1 = int(input('Enter first number:'))\n",
    "num2 = int(input('Enter second number:'))\n",
    "print(f'The numbers are {num1} and {num2}')\n",
    "print(f'The swaped numbers are {swap_vals(num1, num2)}')"
   ]
  },
  {
   "cell_type": "code",
   "execution_count": 18,
   "metadata": {},
   "outputs": [
    {
     "name": "stdout",
     "output_type": "stream",
     "text": [
      "The swaped numbers are 21 and 13\n"
     ]
    }
   ],
   "source": [
    "num1, num2 = num2, num1\n",
    "print(f'The swaped numbers are {num1} and {num2}')"
   ]
  }
 ],
 "metadata": {
  "kernelspec": {
   "display_name": "ds_env",
   "language": "python",
   "name": "python3"
  },
  "language_info": {
   "codemirror_mode": {
    "name": "ipython",
    "version": 3
   },
   "file_extension": ".py",
   "mimetype": "text/x-python",
   "name": "python",
   "nbconvert_exporter": "python",
   "pygments_lexer": "ipython3",
   "version": "3.12.3"
  }
 },
 "nbformat": 4,
 "nbformat_minor": 2
}
