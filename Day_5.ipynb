{
 "cells": [
  {
   "cell_type": "markdown",
   "metadata": {},
   "source": [
    "# Day 5: String Manipulation"
   ]
  },
  {
   "cell_type": "markdown",
   "metadata": {},
   "source": [
    "### Example Questions"
   ]
  },
  {
   "cell_type": "markdown",
   "metadata": {},
   "source": [
    "Q1. Create a program that checks if a given string is a palindrome."
   ]
  },
  {
   "cell_type": "code",
   "execution_count": 2,
   "metadata": {},
   "outputs": [
    {
     "name": "stdout",
     "output_type": "stream",
     "text": [
      "Madam is palindrome.\n"
     ]
    }
   ],
   "source": [
    "def is_palindrome(string):\n",
    "    string = string.lower()     # string method\n",
    "    for i in range(int(len(string) / 2)):\n",
    "        if string[i] != string[-i-1]:\n",
    "            return False\n",
    "        continue\n",
    "    return True\n",
    "\n",
    "string = \"Madam\"\n",
    "if is_palindrome(string):\n",
    "    print(f\"{string} is palindrome.\")\n",
    "else:\n",
    "    print(f\"{string} is not palindrome.\")"
   ]
  },
  {
   "cell_type": "markdown",
   "metadata": {},
   "source": [
    "Q2. Write a function to count the number of vowels in a given string."
   ]
  },
  {
   "cell_type": "code",
   "execution_count": 3,
   "metadata": {},
   "outputs": [
    {
     "name": "stdout",
     "output_type": "stream",
     "text": [
      "Number of vowels in Palindrome is 4\n"
     ]
    }
   ],
   "source": [
    "def count_vowels(string):\n",
    "    count = 0\n",
    "    string = string.lower()\n",
    "    for letter in string:\n",
    "        if letter in \"aeiou\":\n",
    "            count += 1\n",
    "        continue\n",
    "    return count\n",
    "\n",
    "string = \"Palindrome\"\n",
    "vowels = count_vowels(string)\n",
    "print(f\"Number of vowels in {string} is {vowels}\")"
   ]
  },
  {
   "cell_type": "markdown",
   "metadata": {},
   "source": [
    "### Practice Questions"
   ]
  },
  {
   "cell_type": "markdown",
   "metadata": {},
   "source": [
    "1. Given a list of words, concatenate them into a single string separated by space."
   ]
  },
  {
   "cell_type": "code",
   "execution_count": 5,
   "metadata": {},
   "outputs": [
    {
     "name": "stdout",
     "output_type": "stream",
     "text": [
      "Python is programming language\n"
     ]
    }
   ],
   "source": [
    "list_strings = [\"Python\", \"is\", \"programming\", \"language\"]\n",
    "conc_string = list_strings[0]\n",
    "for string in list_strings[1:]:\n",
    "    conc_string += \" \" + string\n",
    "print(conc_string)"
   ]
  },
  {
   "cell_type": "markdown",
   "metadata": {},
   "source": [
    "2. Create a function to reverse a given string."
   ]
  },
  {
   "cell_type": "code",
   "execution_count": 6,
   "metadata": {},
   "outputs": [
    {
     "name": "stdout",
     "output_type": "stream",
     "text": [
      "nohtyP\n"
     ]
    }
   ],
   "source": [
    "def rev_string(string):\n",
    "    new = \"\"\n",
    "    for i in range(len(string)):\n",
    "        new += string[-i-1]\n",
    "    return new\n",
    "string = \"Python\"\n",
    "new_str = rev_string(string)\n",
    "print(new_str)"
   ]
  },
  {
   "cell_type": "markdown",
   "metadata": {},
   "source": [
    "3. Write a program that takes a sentence as input and counts the number of words in it."
   ]
  },
  {
   "cell_type": "code",
   "execution_count": 7,
   "metadata": {},
   "outputs": [
    {
     "name": "stdout",
     "output_type": "stream",
     "text": [
      "Number of words = 4\n"
     ]
    }
   ],
   "source": [
    "sent = \"Python is programming language.\"\n",
    "words = sent.split(\" \")\n",
    "count = len(words)\n",
    "print(f\"Number of words = {count}\")"
   ]
  },
  {
   "cell_type": "markdown",
   "metadata": {},
   "source": [
    "4. Implement a function that checks if a given string is a pangram (contains all letters of the alphabet."
   ]
  },
  {
   "cell_type": "code",
   "execution_count": 8,
   "metadata": {},
   "outputs": [
    {
     "name": "stdout",
     "output_type": "stream",
     "text": [
      "Pangram is not pangram.\n"
     ]
    }
   ],
   "source": [
    "def is_pangram(word):\n",
    "    return len(set(word)) == 26\n",
    "word = \"Pangram\"\n",
    "if is_pangram(word):\n",
    "    print(f\"{word} is pangram.\")\n",
    "else:\n",
    "    print(f\"{word} is not pangram.\")"
   ]
  },
  {
   "cell_type": "markdown",
   "metadata": {},
   "source": [
    "5. Given a string, write a function to remove all vowels from it and return the modified string."
   ]
  },
  {
   "cell_type": "code",
   "execution_count": 9,
   "metadata": {},
   "outputs": [
    {
     "name": "stdout",
     "output_type": "stream",
     "text": [
      "Pyhtn\n",
      "ld\n"
     ]
    }
   ],
   "source": [
    "def remove_vowels(string):\n",
    "    new = \"\"\n",
    "    string\n",
    "    for i in string:\n",
    "        if i.lower() not in \"aeiou\":\n",
    "            new += i\n",
    "        continue\n",
    "    return new\n",
    "\n",
    "word = \"Pyhton\"\n",
    "word2 = \"Old\"\n",
    "print(remove_vowels(word))\n",
    "print(remove_vowels(word2))"
   ]
  },
  {
   "cell_type": "markdown",
   "metadata": {},
   "source": [
    "6. Write a Python program to find the length of the largest word in a sentence."
   ]
  },
  {
   "cell_type": "code",
   "execution_count": null,
   "metadata": {},
   "outputs": [],
   "source": []
  }
 ],
 "metadata": {
  "kernelspec": {
   "display_name": "ds_env",
   "language": "python",
   "name": "python3"
  },
  "language_info": {
   "codemirror_mode": {
    "name": "ipython",
    "version": 3
   },
   "file_extension": ".py",
   "mimetype": "text/x-python",
   "name": "python",
   "nbconvert_exporter": "python",
   "pygments_lexer": "ipython3",
   "version": "3.12.3"
  }
 },
 "nbformat": 4,
 "nbformat_minor": 2
}
