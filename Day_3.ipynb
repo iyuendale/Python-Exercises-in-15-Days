{
 "cells": [
  {
   "cell_type": "markdown",
   "metadata": {},
   "source": [
    "# Day 3: Control Flow and Loops"
   ]
  },
  {
   "cell_type": "markdown",
   "metadata": {},
   "source": [
    "### Example Questions"
   ]
  },
  {
   "cell_type": "markdown",
   "metadata": {},
   "source": [
    "Q1. Write a program that checks if a given number is positive, negative, or zero."
   ]
  },
  {
   "cell_type": "code",
   "execution_count": 1,
   "metadata": {},
   "outputs": [
    {
     "name": "stdout",
     "output_type": "stream",
     "text": [
      "32 is positive.\n"
     ]
    }
   ],
   "source": [
    "num = int(input(\"Enter number:\"))\n",
    "if num > 0:\n",
    "    print(f\"{num} is positive.\")\n",
    "elif num < 0:\n",
    "    print(f\"{num} is negative.\")\n",
    "else:\n",
    "    print(f\"{num} is zero.\")"
   ]
  },
  {
   "cell_type": "markdown",
   "metadata": {},
   "source": [
    "Q2. Create a loop that prints the first 10 even numbers."
   ]
  },
  {
   "cell_type": "code",
   "execution_count": 16,
   "metadata": {},
   "outputs": [
    {
     "name": "stdout",
     "output_type": "stream",
     "text": [
      " 1.  2\n",
      " 2.  4\n",
      " 3.  6\n",
      " 4.  8\n",
      " 5. 10\n",
      " 6. 12\n",
      " 7. 14\n",
      " 8. 16\n",
      " 9. 18\n",
      "10. 20\n"
     ]
    }
   ],
   "source": [
    "for i in range(1, 11):\n",
    "    print(f'{i:>2}. {2 * i:>2}')"
   ]
  },
  {
   "cell_type": "markdown",
   "metadata": {},
   "source": [
    "Q3. Implement a program that finds the largest number in a list."
   ]
  },
  {
   "cell_type": "code",
   "execution_count": 3,
   "metadata": {},
   "outputs": [
    {
     "name": "stdout",
     "output_type": "stream",
     "text": [
      "Largest number is 43.\n"
     ]
    }
   ],
   "source": [
    "nums = [12, 31, 16, 7, 43, 26]\n",
    "max_num = nums[0]\n",
    "for num in nums[1:]:\n",
    "    if num > max_num:\n",
    "        max_num = num\n",
    "print(f\"Largest number is {max_num}.\")"
   ]
  },
  {
   "cell_type": "markdown",
   "metadata": {},
   "source": [
    "### Practice Questions"
   ]
  },
  {
   "cell_type": "markdown",
   "metadata": {},
   "source": [
    "1. Create a program that takes a year as input and checks if it is a leap year or not."
   ]
  },
  {
   "cell_type": "code",
   "execution_count": 4,
   "metadata": {},
   "outputs": [
    {
     "name": "stdout",
     "output_type": "stream",
     "text": [
      "2016 is leap year.\n"
     ]
    }
   ],
   "source": [
    "year = int(input(\"Enter year:\"))\n",
    "if year % 4 == 0:\n",
    "    print(f\"{year} is leap year.\")\n",
    "else:\n",
    "    print(f\"{year} is not a leap year.\")"
   ]
  },
  {
   "cell_type": "markdown",
   "metadata": {},
   "source": [
    "2. Given a list of integers, find all the even numbers and store them in a new list."
   ]
  },
  {
   "cell_type": "code",
   "execution_count": 5,
   "metadata": {},
   "outputs": [
    {
     "name": "stdout",
     "output_type": "stream",
     "text": [
      "The even numbers are: [42, 10, 8]\n"
     ]
    }
   ],
   "source": [
    "nums = [23, 42, 5, 7, 10, 35, 8]\n",
    "evens = []\n",
    "for num in nums:\n",
    "    if num % 2 == 0:\n",
    "        evens += [num]\n",
    "print(f\"The even numbers are: {evens}\")"
   ]
  },
  {
   "cell_type": "markdown",
   "metadata": {},
   "source": [
    "3. Write a Python program to check if a given number is a prime number."
   ]
  },
  {
   "cell_type": "code",
   "execution_count": 6,
   "metadata": {},
   "outputs": [
    {
     "name": "stdout",
     "output_type": "stream",
     "text": [
      "21 is not prime number.\n"
     ]
    }
   ],
   "source": [
    "def is_prime(num):\n",
    "    for i in range(2, num):\n",
    "        if num % i == 0:\n",
    "            return f\"{num} is not prime number.\"\n",
    "        continue\n",
    "    return f\"{num} is prime number.\"\n",
    "\n",
    "num = int(input(\"Enter number:\"))\n",
    "print(is_prime(num))"
   ]
  },
  {
   "cell_type": "markdown",
   "metadata": {},
   "source": [
    "4. Create a program that generates the Fibonacci sequence up to a given number of terms."
   ]
  },
  {
   "cell_type": "code",
   "execution_count": 7,
   "metadata": {},
   "outputs": [
    {
     "name": "stdout",
     "output_type": "stream",
     "text": [
      "The Fibonacci sequence of 10 terms:\n",
      "[0, 1, 1, 2, 3, 5, 8, 13, 21, 34, 55, 89]\n"
     ]
    }
   ],
   "source": [
    "num = int(input(\"Enter the number of terms:\"))\n",
    "nums_seq = [0, 1]\n",
    "for _ in range(num):\n",
    "    nums_seq += [nums_seq[-1] + nums_seq[-2]]\n",
    "\n",
    "print(f\"The Fibonacci sequence of {num} terms:\")\n",
    "print(nums_seq)"
   ]
  },
  {
   "cell_type": "markdown",
   "metadata": {},
   "source": [
    "5. Given a list of names, print all names starting with the letter \"A\""
   ]
  },
  {
   "cell_type": "code",
   "execution_count": 8,
   "metadata": {},
   "outputs": [
    {
     "name": "stdout",
     "output_type": "stream",
     "text": [
      "Names starting with A are: ['Alison', 'Ali', 'Alen']\n"
     ]
    }
   ],
   "source": [
    "names = [\"Jack\", \"Alison\", \"Cris\", \"Ali\", \"Alen\", \"Lisa\"]\n",
    "names_A = [name for name in names if name[0] == \"A\" ]\n",
    "print(f\"Names starting with A are: {names_A}\")"
   ]
  },
  {
   "cell_type": "markdown",
   "metadata": {},
   "source": [
    "6. Implement a program that prints the multiplication table of a given number."
   ]
  },
  {
   "cell_type": "code",
   "execution_count": 9,
   "metadata": {},
   "outputs": [
    {
     "name": "stdout",
     "output_type": "stream",
     "text": [
      " 8 x  1 =  8\n",
      " 8 x  2 = 16\n",
      " 8 x  3 = 24\n",
      " 8 x  4 = 32\n",
      " 8 x  5 = 40\n",
      " 8 x  6 = 48\n",
      " 8 x  7 = 56\n",
      " 8 x  8 = 64\n",
      " 8 x  9 = 72\n",
      " 8 x 10 = 80\n",
      " 8 x 11 = 88\n",
      " 8 x 12 = 96\n"
     ]
    }
   ],
   "source": [
    "num = int(input(\"Enter number:\"))\n",
    "for i in range(1, 13):\n",
    "    print(f'{num:>2} x {i:>2} = {num * i:>2}')"
   ]
  },
  {
   "cell_type": "markdown",
   "metadata": {},
   "source": [
    "7. Write a program that calculates the factorial of a given number."
   ]
  },
  {
   "cell_type": "code",
   "execution_count": 10,
   "metadata": {},
   "outputs": [
    {
     "name": "stdout",
     "output_type": "stream",
     "text": [
      "5! = 120\n"
     ]
    }
   ],
   "source": [
    "def factorial(n):\n",
    "    if n == 1:\n",
    "        return 1\n",
    "    return n * factorial(n - 1)\n",
    "\n",
    "num = int(input(\"Enter number:\"))\n",
    "print(f\"{num}! = {factorial(num)}\")"
   ]
  },
  {
   "cell_type": "markdown",
   "metadata": {},
   "source": [
    "8. Create a loop that prints all prime numbers between 1 and 50."
   ]
  },
  {
   "cell_type": "code",
   "execution_count": 11,
   "metadata": {},
   "outputs": [
    {
     "name": "stdout",
     "output_type": "stream",
     "text": [
      "Prime numbers between 1 and 50 are: [2, 3, 5, 7, 11, 13, 17, 19, 23, 29, 31, 37, 41, 43, 47]\n"
     ]
    }
   ],
   "source": [
    "def is_prime(num):\n",
    "    if num == 1: return False\n",
    "    for i in range(2, num):\n",
    "        if num % i == 0:\n",
    "            return False\n",
    "        continue\n",
    "    return True\n",
    "primes = [x for x in range(1, 51) if is_prime(x)]\n",
    "print(f\"Prime numbers between 1 and 50 are: {primes}\")"
   ]
  },
  {
   "cell_type": "markdown",
   "metadata": {},
   "source": [
    "9. Given a list of words, count the number of words with more than five characters."
   ]
  },
  {
   "cell_type": "code",
   "execution_count": 12,
   "metadata": {},
   "outputs": [
    {
     "name": "stdout",
     "output_type": "stream",
     "text": [
      "Words with more than 5 characters:\n",
      "['Python', 'Programming', 'Function']\n"
     ]
    }
   ],
   "source": [
    "words = [\"Python\", \"Code\", \"Java\", \"Programming\", \"C++\", \"Function\"]\n",
    "words_5 = [word for word in words if len(word) > 5]\n",
    "print(\"Words with more than 5 characters:\")\n",
    "print(words_5)"
   ]
  },
  {
   "cell_type": "markdown",
   "metadata": {},
   "source": [
    "10. Calculate the sum of digits of a given number."
   ]
  },
  {
   "cell_type": "code",
   "execution_count": 15,
   "metadata": {},
   "outputs": [
    {
     "name": "stdout",
     "output_type": "stream",
     "text": [
      "Sum of digits of 2316 is 12.\n"
     ]
    }
   ],
   "source": [
    "num1 = 2316\n",
    "num = num1\n",
    "sum_digits = 0\n",
    "while True:\n",
    "    sum_digits += num % 10\n",
    "    if num % 10 == num:\n",
    "        break\n",
    "    num = num // 10\n",
    "\n",
    "print(f\"Sum of digits of {num1} is {sum_digits}.\")"
   ]
  }
 ],
 "metadata": {
  "kernelspec": {
   "display_name": "ds_env",
   "language": "python",
   "name": "python3"
  },
  "language_info": {
   "codemirror_mode": {
    "name": "ipython",
    "version": 3
   },
   "file_extension": ".py",
   "mimetype": "text/x-python",
   "name": "python",
   "nbconvert_exporter": "python",
   "pygments_lexer": "ipython3",
   "version": "3.12.3"
  }
 },
 "nbformat": 4,
 "nbformat_minor": 2
}
