{
 "cells": [
  {
   "cell_type": "markdown",
   "metadata": {},
   "source": [
    "# Day 7: Dictionaries and Sets"
   ]
  },
  {
   "cell_type": "markdown",
   "metadata": {},
   "source": [
    "### Example Questions"
   ]
  },
  {
   "cell_type": "markdown",
   "metadata": {},
   "source": [
    "Q1. Create a dictionary to store information about a person (name, age, address)."
   ]
  },
  {
   "cell_type": "code",
   "execution_count": 1,
   "metadata": {},
   "outputs": [
    {
     "name": "stdout",
     "output_type": "stream",
     "text": [
      "Name: Iyuel\n",
      "Age: 28\n",
      "Address: Ethiopia\n"
     ]
    }
   ],
   "source": [
    "person = {\n",
    "    \"name\": \"Iyuel\",\n",
    "    \"age\": 28,\n",
    "    \"address\": \"Ethiopia\"\n",
    "}\n",
    "print(f\"Name: {person['name']}\")\n",
    "print(f\"Age: {person['age']}\")\n",
    "print(f\"Address: {person['address']}\")"
   ]
  },
  {
   "cell_type": "markdown",
   "metadata": {},
   "source": [
    "Q2. Add a new key-value pair to an existing dictionary."
   ]
  },
  {
   "cell_type": "code",
   "execution_count": 2,
   "metadata": {},
   "outputs": [
    {
     "name": "stdout",
     "output_type": "stream",
     "text": [
      "Work: Teacher\n"
     ]
    }
   ],
   "source": [
    "person[\"work\"] = \"Teacher\"\n",
    "print(f\"Work: {person[\"work\"]}\")"
   ]
  },
  {
   "cell_type": "markdown",
   "metadata": {},
   "source": [
    "Q3. Create a set of unique numbers from a list of numbers."
   ]
  },
  {
   "cell_type": "code",
   "execution_count": 3,
   "metadata": {},
   "outputs": [
    {
     "name": "stdout",
     "output_type": "stream",
     "text": [
      "{3, 4, 5, 8, 12}\n"
     ]
    }
   ],
   "source": [
    "lst = [12, 3, 8, 12, 5, 4, 8, 5]\n",
    "unq_nums = set(lst)\n",
    "print(unq_nums)"
   ]
  },
  {
   "cell_type": "markdown",
   "metadata": {},
   "source": [
    "### Practice Questions"
   ]
  },
  {
   "cell_type": "markdown",
   "metadata": {},
   "source": [
    "1. Given two dictionaries, merge them into a single dictionary."
   ]
  },
  {
   "cell_type": "code",
   "execution_count": 4,
   "metadata": {},
   "outputs": [
    {
     "data": {
      "text/plain": [
       "{'Apple': 3, 'Orange': 5, 'Banana': 2, 'Mango': 7, 'Cherry': 1}"
      ]
     },
     "execution_count": 4,
     "metadata": {},
     "output_type": "execute_result"
    }
   ],
   "source": [
    "dict1 = {\n",
    "    \"Apple\": 3, \"Orange\": 5, \"Banana\": 2\n",
    "}\n",
    "dict2 = {\n",
    "    \"Mango\": 7, \"Cherry\": 1\n",
    "}\n",
    "\n",
    "dict1.update(dict2)\n",
    "dict1"
   ]
  },
  {
   "cell_type": "markdown",
   "metadata": {},
   "source": [
    "2. Write a program that finds the most frequent element in a list."
   ]
  },
  {
   "cell_type": "code",
   "execution_count": 5,
   "metadata": {},
   "outputs": [
    {
     "name": "stdout",
     "output_type": "stream",
     "text": [
      "2 3\n",
      "{2: 3, 7: 1, 5: 2, 1: 1, 3: 2, 8: 1}\n"
     ]
    }
   ],
   "source": [
    "from math import inf\n",
    "nums = [2, 7, 5, 1, 2, 3, 8, 2, 5, 3]\n",
    "counts = {}\n",
    "max_val = - inf\n",
    "max_key = nums[0]\n",
    "for x in nums:\n",
    "    if x in counts:\n",
    "        counts[x] += 1\n",
    "    else:\n",
    "        counts[x] = 1\n",
    "    if counts[x] > max_val:\n",
    "        max_key = x\n",
    "        max_val = counts[x]\n",
    "\n",
    "print(max_key, max_val)\n",
    "print(counts)"
   ]
  },
  {
   "cell_type": "markdown",
   "metadata": {},
   "source": [
    "3. Implement a function that removes a key-value pair from a dictionary."
   ]
  },
  {
   "cell_type": "code",
   "execution_count": 6,
   "metadata": {},
   "outputs": [
    {
     "name": "stdout",
     "output_type": "stream",
     "text": [
      "Dictionary before removing key-value pair:\n",
      " {2: 3, 7: 1, 5: 2, 1: 1, 3: 2, 8: 1}\n",
      "7-1 pair is removed from the dictionary\n",
      "Dictionary after removing the key-value pair:\n",
      " {2: 3, 5: 2, 1: 1, 3: 2, 8: 1}\n",
      "7 is not in the dictionary\n"
     ]
    }
   ],
   "source": [
    "def rem_key_val(diction, key):\n",
    "    if key not in diction:\n",
    "        return f\"{key} is not in the dictionary\"\n",
    "    else:\n",
    "        val = diction.pop(key)\n",
    "        return f\"{key}-{val} pair is removed from the dictionary\"\n",
    "print(\"Dictionary before removing key-value pair:\\n\", counts)\n",
    "result = rem_key_val(counts, 7)\n",
    "print(result)\n",
    "print(\"Dictionary after removing the key-value pair:\\n\", counts)\n",
    "result = rem_key_val(counts, 7)\n",
    "print(result)"
   ]
  },
  {
   "cell_type": "markdown",
   "metadata": {},
   "source": [
    "4. Create a program that checks if two sets have any elements in common."
   ]
  },
  {
   "cell_type": "code",
   "execution_count": 7,
   "metadata": {},
   "outputs": [
    {
     "name": "stdout",
     "output_type": "stream",
     "text": [
      "They have common elements.\n"
     ]
    }
   ],
   "source": [
    "def check_common(set1, set2):\n",
    "    for x in set1:\n",
    "        if x in set2:\n",
    "            return True\n",
    "        continue\n",
    "    return False\n",
    "set1 = {3, 5, 2, 8}\n",
    "set2 = {9, 6, 1, 5, 8}\n",
    "if check_common(set1, set2):\n",
    "    print(\"They have common elements.\")\n",
    "else:\n",
    "    print(\"They do not have any common elements.\")"
   ]
  },
  {
   "cell_type": "markdown",
   "metadata": {},
   "source": [
    "5. Given a list of dictionaries, find the dictionary with the highest value for a specific key."
   ]
  },
  {
   "cell_type": "code",
   "execution_count": 8,
   "metadata": {},
   "outputs": [
    {
     "data": {
      "text/plain": [
       "{'A': 10, 'B': 18, 'C': 13}"
      ]
     },
     "execution_count": 8,
     "metadata": {},
     "output_type": "execute_result"
    }
   ],
   "source": [
    "def dict_with_high_val(lst, key):\n",
    "    highest_val = 0\n",
    "    for x in lst:\n",
    "        if x[key] > highest_val:\n",
    "            highest_val = x[key]\n",
    "            highest_dict = x\n",
    "        continue\n",
    "    return highest_dict\n",
    "\n",
    "lst_dicts = [\n",
    "    {\n",
    "        \"A\": 12, \"B\": 4, \"C\": 9\n",
    "    },\n",
    "    {\n",
    "        \"A\": 8, \"B\": 11, \"C\": 5\n",
    "    },\n",
    "    {\n",
    "        \"A\": 10, \"B\": 18, \"C\": 13\n",
    "    }\n",
    "]\n",
    "\n",
    "dict_with_high_val = dict_with_high_val(lst_dicts, \"B\")\n",
    "dict_with_high_val"
   ]
  },
  {
   "cell_type": "markdown",
   "metadata": {},
   "source": [
    "6. Write a Python program that counts the number of occurrences of each character in a given string using a dictionary."
   ]
  },
  {
   "cell_type": "code",
   "execution_count": 9,
   "metadata": {},
   "outputs": [
    {
     "name": "stdout",
     "output_type": "stream",
     "text": [
      "Number of occurences of each character in 'Programming'\n",
      "{'P': 1, 'r': 2, 'o': 1, 'g': 2, 'a': 1, 'm': 2, 'i': 1, 'n': 1}\n"
     ]
    }
   ],
   "source": [
    "def char_count(string):\n",
    "    count = {}\n",
    "    for s in string:\n",
    "        if s in count: count[s] += 1\n",
    "        else: count[s] = 1\n",
    "    return count\n",
    "\n",
    "strg = \"Programming\"\n",
    "counts = char_count(strg)\n",
    "print(f\"Number of occurences of each character in '{strg}'\")\n",
    "print(counts)"
   ]
  },
  {
   "cell_type": "markdown",
   "metadata": {},
   "source": [
    "7. Given two sets, find the union, intersection, and difference between them."
   ]
  },
  {
   "cell_type": "code",
   "execution_count": 10,
   "metadata": {},
   "outputs": [
    {
     "name": "stdout",
     "output_type": "stream",
     "text": [
      "Union: {1, 3, 4, 5, 7, 8, 9}\n",
      "Intersection: {8, 1, 3}\n",
      "Difference (set1 - set2): {4, 5}\n",
      "Difference (set2 - set1): {9, 7}\n"
     ]
    }
   ],
   "source": [
    "set1 = {3, 4, 1, 8, 5}\n",
    "set2 = {8, 1, 9, 7, 3}\n",
    "# Union\n",
    "set_uni = set1.union(set2)\n",
    "# {x for x in set1 or set2}\n",
    "print(\"Union:\", set_uni)\n",
    "# Inter\n",
    "set_int = set1.intersection(set2)\n",
    "print(\"Intersection:\", set_int)\n",
    "# Difference\n",
    "set_dif1 = set1.difference(set2)\n",
    "set_dif2 = set2.difference(set1)\n",
    "print(\"Difference (set1 - set2):\", set_dif1)\n",
    "print(\"Difference (set2 - set1):\", set_dif2)"
   ]
  },
  {
   "cell_type": "markdown",
   "metadata": {},
   "source": [
    "8. Create a function that takes a list of dictioaries and sorts them based on a specified key."
   ]
  },
  {
   "cell_type": "code",
   "execution_count": 11,
   "metadata": {},
   "outputs": [
    {
     "name": "stdout",
     "output_type": "stream",
     "text": [
      "[{'A': 8, 'B': 11, 'C': 5}, {'A': 10, 'B': 18, 'C': 13}, {'A': 12, 'B': 4, 'C': 9}]\n",
      "[{'A': 12, 'B': 4, 'C': 9}, {'A': 8, 'B': 11, 'C': 5}, {'A': 10, 'B': 18, 'C': 13}]\n",
      "[{'A': 8, 'B': 11, 'C': 5}, {'A': 12, 'B': 4, 'C': 9}, {'A': 10, 'B': 18, 'C': 13}]\n"
     ]
    }
   ],
   "source": [
    "def sort_dicts(lst, key):\n",
    "    for x in range(len(lst) - 1):\n",
    "        for y in range(x + 1, len(lst)):\n",
    "            if lst[x][key] > lst[y][key]:\n",
    "                lst[x], lst[y] = lst[y], lst[x]\n",
    "            continue\n",
    "        continue\n",
    "    return lst\n",
    "lst_dicts = [\n",
    "    {\n",
    "        \"A\": 12, \"B\": 4, \"C\": 9\n",
    "    },\n",
    "    {\n",
    "        \"A\": 8, \"B\": 11, \"C\": 5\n",
    "    },\n",
    "    {\n",
    "        \"A\": 10, \"B\": 18, \"C\": 13\n",
    "    }\n",
    "]\n",
    "print(sort_dicts(lst_dicts, \"A\"))\n",
    "print(sort_dicts(lst_dicts, \"B\"))\n",
    "print(sort_dicts(lst_dicts, \"C\"))"
   ]
  },
  {
   "cell_type": "markdown",
   "metadata": {},
   "source": [
    "9. Write a program that finds the average value of all the elements in a list of dictionaries."
   ]
  },
  {
   "cell_type": "code",
   "execution_count": 12,
   "metadata": {},
   "outputs": [
    {
     "name": "stdout",
     "output_type": "stream",
     "text": [
      "Average of each dictionary: [8.333, 8.0, 13.667]\n",
      "Average of all elements: 10.0\n"
     ]
    }
   ],
   "source": [
    "lst_dicts = [\n",
    "    {\n",
    "        \"A\": 12, \"B\": 4, \"C\": 9\n",
    "    },\n",
    "    {\n",
    "        \"A\": 8, \"B\": 11, \"C\": 5\n",
    "    },\n",
    "    {\n",
    "        \"A\": 10, \"B\": 18, \"C\": 13\n",
    "    }\n",
    "]\n",
    "\n",
    "avgs = []\n",
    "total_all = 0; n = 0\n",
    "for x in lst_dicts:\n",
    "    total = sum(x.values())\n",
    "    total_all += total\n",
    "    n += len(x)\n",
    "    avg = total / len(x)\n",
    "    avgs.append(round(avg, 3)) \n",
    "print(f\"Average of each dictionary: {avgs}\")\n",
    "print(f\"Average of all elements: {total_all / n}\")"
   ]
  },
  {
   "cell_type": "markdown",
   "metadata": {},
   "source": [
    "10. Implement a function that takes a list of strings and returns a set of unique characters present in all strings."
   ]
  },
  {
   "cell_type": "code",
   "execution_count": 13,
   "metadata": {},
   "outputs": [
    {
     "name": "stdout",
     "output_type": "stream",
     "text": [
      "{'r', 'p', 'o', 'n', 'g', 'i', 'e', 'a', 'u', 'f', 't', 'l', 'c', 's', 'm'}\n"
     ]
    }
   ],
   "source": [
    "def unq_chars(lst):\n",
    "    char_set = set()\n",
    "    for x in lst:\n",
    "        char_set.update(set(x))\n",
    "    return char_set\n",
    "\n",
    "lst = [\"program\", \"function\", \"set\", \"list\"]\n",
    "print(unq_chars(lst))"
   ]
  }
 ],
 "metadata": {
  "kernelspec": {
   "display_name": "ds_env",
   "language": "python",
   "name": "python3"
  },
  "language_info": {
   "codemirror_mode": {
    "name": "ipython",
    "version": 3
   },
   "file_extension": ".py",
   "mimetype": "text/x-python",
   "name": "python",
   "nbconvert_exporter": "python",
   "pygments_lexer": "ipython3",
   "version": "3.12.3"
  }
 },
 "nbformat": 4,
 "nbformat_minor": 2
}
