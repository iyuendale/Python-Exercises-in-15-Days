{
 "cells": [
  {
   "cell_type": "markdown",
   "metadata": {},
   "source": [
    "# Day 7: Dictionaries and Sets"
   ]
  },
  {
   "cell_type": "markdown",
   "metadata": {},
   "source": [
    "### Example Questions"
   ]
  },
  {
   "cell_type": "markdown",
   "metadata": {},
   "source": [
    "Q1. Create a dictionary to store information about a person (name, age, address)."
   ]
  },
  {
   "cell_type": "code",
   "execution_count": 1,
   "metadata": {},
   "outputs": [
    {
     "name": "stdout",
     "output_type": "stream",
     "text": [
      "Name: Iyuel\n",
      "Age: 28\n",
      "Address: Ethiopia\n"
     ]
    }
   ],
   "source": [
    "person = {\n",
    "    \"name\": \"Iyuel\",\n",
    "    \"age\": 28,\n",
    "    \"address\": \"Ethiopia\"\n",
    "}\n",
    "print(f\"Name: {person['name']}\")\n",
    "print(f\"Age: {person['age']}\")\n",
    "print(f\"Address: {person['address']}\")"
   ]
  },
  {
   "cell_type": "markdown",
   "metadata": {},
   "source": [
    "Q2. Add a new key-value pair to an existing dictionary."
   ]
  },
  {
   "cell_type": "code",
   "execution_count": 2,
   "metadata": {},
   "outputs": [
    {
     "name": "stdout",
     "output_type": "stream",
     "text": [
      "Work: Teacher\n"
     ]
    }
   ],
   "source": [
    "person[\"work\"] = \"Teacher\"\n",
    "print(f\"Work: {person[\"work\"]}\")"
   ]
  },
  {
   "cell_type": "markdown",
   "metadata": {},
   "source": [
    "Q3. Create a set of unique numbers from a list of numbers."
   ]
  },
  {
   "cell_type": "code",
   "execution_count": 3,
   "metadata": {},
   "outputs": [
    {
     "name": "stdout",
     "output_type": "stream",
     "text": [
      "{3, 4, 5, 8, 12}\n"
     ]
    }
   ],
   "source": [
    "lst = [12, 3, 8, 12, 5, 4, 8, 5]\n",
    "unq_nums = set(lst)\n",
    "print(unq_nums)"
   ]
  },
  {
   "cell_type": "markdown",
   "metadata": {},
   "source": [
    "### Practice Questions"
   ]
  },
  {
   "cell_type": "markdown",
   "metadata": {},
   "source": [
    "1. Given two dictionaries, merge them into a single dictionary."
   ]
  },
  {
   "cell_type": "code",
   "execution_count": 6,
   "metadata": {},
   "outputs": [
    {
     "data": {
      "text/plain": [
       "{'Apple': 3, 'Orange': 5, 'Banana': 2, 'Mango': 7, 'Cherry': 1}"
      ]
     },
     "execution_count": 6,
     "metadata": {},
     "output_type": "execute_result"
    }
   ],
   "source": [
    "dict1 = {\n",
    "    \"Apple\": 3, \"Orange\": 5, \"Banana\": 2\n",
    "}\n",
    "dict2 = {\n",
    "    \"Mango\": 7, \"Cherry\": 1\n",
    "}\n",
    "\n",
    "dict1.update(dict2)\n",
    "dict1"
   ]
  },
  {
   "cell_type": "markdown",
   "metadata": {},
   "source": [
    "2. Write a program that finds the most frequent element in a list."
   ]
  },
  {
   "cell_type": "code",
   "execution_count": 16,
   "metadata": {},
   "outputs": [
    {
     "data": {
      "text/plain": [
       "{3: 3, 2: 3, 7: 1, 5: 2, 1: 1, 8: 1}"
      ]
     },
     "execution_count": 16,
     "metadata": {},
     "output_type": "execute_result"
    }
   ],
   "source": [
    "nums = [3, 2, 7, 5, 1, 2, 3, 8, 2, 5, 3]\n",
    "counts = {}\n",
    "for x in nums:\n",
    "    if x in counts:\n",
    "        counts[x] += 1\n",
    "    else:\n",
    "        counts[x] = 1\n",
    "\n",
    "counts"
   ]
  },
  {
   "cell_type": "markdown",
   "metadata": {},
   "source": [
    "3. Implement a function that removes a key-value pair from a dictionary."
   ]
  },
  {
   "cell_type": "code",
   "execution_count": 17,
   "metadata": {},
   "outputs": [
    {
     "name": "stdout",
     "output_type": "stream",
     "text": [
      "Dictionary before removing key-value pair:\n",
      " {3: 3, 2: 3, 7: 1, 5: 2, 1: 1, 8: 1}\n",
      "7-1 pair is removed from the dictionary\n",
      "Dictionary after removing the key-value pair:\n",
      " {3: 3, 2: 3, 5: 2, 1: 1, 8: 1}\n",
      "7 is not in the dictionary\n"
     ]
    }
   ],
   "source": [
    "def rem_key_val(diction, key):\n",
    "    if key not in diction:\n",
    "        return f\"{key} is not in the dictionary\"\n",
    "    else:\n",
    "        val = diction.pop(key)\n",
    "        return f\"{key}-{val} pair is removed from the dictionary\"\n",
    "print(\"Dictionary before removing key-value pair:\\n\", counts)\n",
    "result = rem_key_val(counts, 7)\n",
    "print(result)\n",
    "print(\"Dictionary after removing the key-value pair:\\n\", counts)\n",
    "result = rem_key_val(counts, 7)\n",
    "print(result)"
   ]
  },
  {
   "cell_type": "markdown",
   "metadata": {},
   "source": [
    "4. Create a program that checks if two sets have any elements in common."
   ]
  },
  {
   "cell_type": "code",
   "execution_count": 19,
   "metadata": {},
   "outputs": [
    {
     "name": "stdout",
     "output_type": "stream",
     "text": [
      "They have common elements.\n"
     ]
    }
   ],
   "source": [
    "def check_common(set1, set2):\n",
    "    for x in set1:\n",
    "        if x in set2:\n",
    "            return True\n",
    "        continue\n",
    "    return False\n",
    "set1 = {3, 5, 2, 8}\n",
    "set2 = {9, 6, 1, 5, 8}\n",
    "if check_common(set1, set2):\n",
    "    print(\"They have common elements.\")\n",
    "else:\n",
    "    print(\"They do not have any common elements.\")"
   ]
  },
  {
   "cell_type": "markdown",
   "metadata": {},
   "source": [
    "5. Given a list of dictionaries, find the dictionary with the highest value for a specific key."
   ]
  },
  {
   "cell_type": "code",
   "execution_count": 21,
   "metadata": {},
   "outputs": [
    {
     "data": {
      "text/plain": [
       "{'A': 10, 'B': 18, 'C': 13}"
      ]
     },
     "execution_count": 21,
     "metadata": {},
     "output_type": "execute_result"
    }
   ],
   "source": [
    "def dict_with_high_val(lst, key):\n",
    "    highest_val = 0\n",
    "    for x in lst:\n",
    "        if x[key] > highest_val:\n",
    "            highest_val = x[key]\n",
    "            highest_dict = x\n",
    "        continue\n",
    "    return highest_dict\n",
    "\n",
    "lst_dicts = [\n",
    "    {\n",
    "        \"A\": 12, \"B\": 4, \"C\": 9\n",
    "    },\n",
    "    {\n",
    "        \"A\": 8, \"B\": 11, \"C\": 5\n",
    "    },\n",
    "    {\n",
    "        \"A\": 10, \"B\": 18, \"C\": 13\n",
    "    }\n",
    "]\n",
    "\n",
    "dict_with_high_val = dict_with_high_val(lst_dicts, \"B\")\n",
    "dict_with_high_val"
   ]
  },
  {
   "cell_type": "markdown",
   "metadata": {},
   "source": []
  }
 ],
 "metadata": {
  "kernelspec": {
   "display_name": "ds_env",
   "language": "python",
   "name": "python3"
  },
  "language_info": {
   "codemirror_mode": {
    "name": "ipython",
    "version": 3
   },
   "file_extension": ".py",
   "mimetype": "text/x-python",
   "name": "python",
   "nbconvert_exporter": "python",
   "pygments_lexer": "ipython3",
   "version": "3.12.3"
  }
 },
 "nbformat": 4,
 "nbformat_minor": 2
}
