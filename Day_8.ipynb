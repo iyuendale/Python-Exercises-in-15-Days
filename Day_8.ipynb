{
 "cells": [
  {
   "cell_type": "markdown",
   "metadata": {},
   "source": [
    "# Day 8: File Handling"
   ]
  },
  {
   "cell_type": "markdown",
   "metadata": {},
   "source": [
    "### Example Questions"
   ]
  },
  {
   "cell_type": "markdown",
   "metadata": {},
   "source": [
    "Q1. Write a program that reads a text file and prints its contents."
   ]
  },
  {
   "cell_type": "code",
   "execution_count": 1,
   "metadata": {},
   "outputs": [
    {
     "name": "stdout",
     "output_type": "stream",
     "text": [
      "Welcome to Day 8 of 15 days Python practice.\n",
      "\n",
      "This is demo text file for Q1.\n",
      "\n",
      "Keep going.\n"
     ]
    }
   ],
   "source": [
    "f = open(\"data/day_8/demo.txt\", \"r\")\n",
    "for line in f:\n",
    "    print(line)\n",
    "f.close()"
   ]
  },
  {
   "cell_type": "markdown",
   "metadata": {},
   "source": [
    "Q2. Create a new text file and write some content into it."
   ]
  },
  {
   "cell_type": "code",
   "execution_count": 2,
   "metadata": {},
   "outputs": [
    {
     "name": "stdout",
     "output_type": "stream",
     "text": [
      "['This is for question 2 of day 8.\\n', 'This is to see how to write into a text file.']\n"
     ]
    }
   ],
   "source": [
    "f = open(\"data/day_8/demo_Q2.txt\", \"w\")\n",
    "f.writelines(\n",
    "    [\n",
    "        \"This is for question 2 of day 8.\\n\",\n",
    "        \"This is to see how to write into a text file.\"\n",
    "    ]\n",
    ")\n",
    "f.close()\n",
    "\n",
    "# check it\n",
    "f = open(\"data/day_8/demo_Q2.txt\")\n",
    "print(f.readlines())\n",
    "f.close()"
   ]
  },
  {
   "cell_type": "markdown",
   "metadata": {},
   "source": [
    "Q3. Read a CSV file and process its data."
   ]
  },
  {
   "cell_type": "code",
   "execution_count": 3,
   "metadata": {},
   "outputs": [
    {
     "name": "stdout",
     "output_type": "stream",
     "text": [
      "name,age,address\n",
      "\n",
      "Jack,29,America\n",
      "\n",
      "Lisa,25,England\n",
      "\n",
      "Elias,27,Ethiopia\n"
     ]
    }
   ],
   "source": [
    "with open(\"data/day_8/demo_Q3.csv\") as f:\n",
    "    for x in f:\n",
    "        print(x)"
   ]
  },
  {
   "cell_type": "markdown",
   "metadata": {},
   "source": [
    "### Practice Questions"
   ]
  },
  {
   "cell_type": "markdown",
   "metadata": {},
   "source": [
    "1. Write a Python program to copy the contents of one text file into another."
   ]
  },
  {
   "cell_type": "code",
   "execution_count": 4,
   "metadata": {},
   "outputs": [],
   "source": [
    "with open(\"data/day_8/demo_Q2.txt\") as f1:\n",
    "    with open(\"data/day_8/demo_P1.txt\", \"w\") as f2:\n",
    "        for x in f1:\n",
    "            f2.write(x)"
   ]
  },
  {
   "cell_type": "code",
   "execution_count": 5,
   "metadata": {},
   "outputs": [
    {
     "name": "stdout",
     "output_type": "stream",
     "text": [
      "['This is for question 2 of day 8.\\n', 'This is to see how to write into a text file.']\n"
     ]
    }
   ],
   "source": [
    "with open('data/day_8/demo_P1.txt') as f:\n",
    "    print(f.readlines())"
   ]
  },
  {
   "cell_type": "markdown",
   "metadata": {},
   "source": [
    "2. Given a CSV file withstudent names and scores, find the student with the highest score."
   ]
  },
  {
   "cell_type": "code",
   "execution_count": 6,
   "metadata": {},
   "outputs": [
    {
     "name": "stdout",
     "output_type": "stream",
     "text": [
      "{'Jack': 75, 'Lisa': 80, 'Albert': 90, 'Zack': 45}\n",
      "Student with highest score = Albert, score = 90\n"
     ]
    }
   ],
   "source": [
    "students = {}\n",
    "with open(\"data/day_8/students.csv\") as f:\n",
    "    for x in f:\n",
    "        x = x.strip(\"\\n\")\n",
    "        name, score = x.split(\",\")\n",
    "        students[name] = int(score)\n",
    "print(students)\n",
    "max_score = 0\n",
    "for key, val in students.items():\n",
    "    if val > max_score:\n",
    "        max_score, max_stud = val, key\n",
    "print(f\"Student with highest score = {max_stud}, score = {max_score}\")"
   ]
  },
  {
   "cell_type": "markdown",
   "metadata": {},
   "source": [
    "3. Implement a program that reads a text file and counts the number of words and lines in it."
   ]
  },
  {
   "cell_type": "code",
   "execution_count": 7,
   "metadata": {},
   "outputs": [
    {
     "name": "stdout",
     "output_type": "stream",
     "text": [
      "Number of words: 19\n",
      "Number of lines: 2\n"
     ]
    }
   ],
   "source": [
    "with open('data/day_8/demo_Q2.txt') as file:\n",
    "    lines, words = 0, 0\n",
    "    for x in file:\n",
    "        x = x.rstrip(\"\\n\")\n",
    "        lines += 1\n",
    "        words += len(x.split(\" \"))\n",
    "print(\"Number of words:\", words)\n",
    "print(\"Number of lines:\", lines)"
   ]
  },
  {
   "cell_type": "markdown",
   "metadata": {},
   "source": [
    "4. Create a function that takes a list of sentences and  writes them to  a new text file, each on a new line."
   ]
  },
  {
   "cell_type": "code",
   "execution_count": 8,
   "metadata": {},
   "outputs": [
    {
     "name": "stdout",
     "output_type": "stream",
     "text": [
      "['This is writing a list of sentences to  a text file.\\n', 'It writes each sentence in the list on a line of the text file.\\n', 'It will have 3 lines with 1 sentence on each line.\\n']\n"
     ]
    }
   ],
   "source": [
    "def write_to_file(lst):\n",
    "    with open(\"data/day_8/pract_4.txt\", \"w\") as file:\n",
    "        for sent in lst:\n",
    "            file.writelines(sent + \"\\n\")\n",
    "\n",
    "lst_sents = [\n",
    "    \"This is writing a list of sentences to  a text file.\",\n",
    "    \"It writes each sentence in the list on a line of the text file.\",\n",
    "    \"It will have 3 lines with 1 sentence on each line.\"\n",
    "]\n",
    "write_to_file(lst_sents)\n",
    "\n",
    "# check\n",
    "with open(\"data/day_8/pract_4.txt\") as file:\n",
    "    print(file.readlines())"
   ]
  },
  {
   "cell_type": "markdown",
   "metadata": {},
   "source": [
    "5. Given a CSV file with employee details (name, age, salary), calculate the average salary of all employees."
   ]
  },
  {
   "cell_type": "code",
   "execution_count": 9,
   "metadata": {},
   "outputs": [
    {
     "name": "stdout",
     "output_type": "stream",
     "text": [
      "Average salary: $1350.0\n"
     ]
    }
   ],
   "source": [
    "with open(\"data/day_8/employees.csv\") as f:\n",
    "    salaries = [int(x.split(\",\")[2].split(\"$\")[1]) for x in f]\n",
    "avg_sal = sum(salaries) / len(salaries)\n",
    "print(f\"Average salary: ${avg_sal}\" )"
   ]
  },
  {
   "cell_type": "markdown",
   "metadata": {},
   "source": [
    "6. Write a program that reads a CSV file and finds the total sales revenue for a specific product."
   ]
  },
  {
   "cell_type": "code",
   "execution_count": 10,
   "metadata": {},
   "outputs": [
    {
     "name": "stdout",
     "output_type": "stream",
     "text": [
      "Total revenue for apple = 450\n",
      "Total revenue for mango = 175\n"
     ]
    }
   ],
   "source": [
    "def  total_rev(prod):\n",
    "    with open(\"data/day_8/sales.csv\") as f:\n",
    "        sales = 0\n",
    "        for x in f:\n",
    "            item, sale = x.rstrip(\"\\n\").split(\",\")\n",
    "            if item == prod:\n",
    "                sales += int(sale)\n",
    "            continue\n",
    "    return sales\n",
    "\n",
    "apples_sales = total_rev(\"Apple\")\n",
    "print(f\"Total revenue for apple = {apples_sales}\")\n",
    "mango_sales = total_rev(\"Mango\")\n",
    "print(f\"Total revenue for mango = {mango_sales}\")"
   ]
  },
  {
   "cell_type": "markdown",
   "metadata": {},
   "source": [
    "7. Given a text file with a list of numbers, write a function that finds the sum of all numbers in the file."
   ]
  },
  {
   "cell_type": "code",
   "execution_count": 11,
   "metadata": {},
   "outputs": [
    {
     "name": "stdout",
     "output_type": "stream",
     "text": [
      "Total = 125, Numbers = [31, 12, 8, 19, 26, 29]\n"
     ]
    }
   ],
   "source": [
    "def find_sum():\n",
    "    with open(\"data/day_8/nums_list.txt\") as f:\n",
    "        nums = []\n",
    "        for x in f:\n",
    "            # collect the numbers in a list\n",
    "            nums += [int(y) for y in x.lstrip(\"[\").rstrip(\"]\").split(\", \")]\n",
    "        total = sum(nums)\n",
    "    return total, nums\n",
    "print(f\"Total = {find_sum()[0]}, Numbers = {find_sum()[1]}\")"
   ]
  },
  {
   "cell_type": "markdown",
   "metadata": {},
   "source": [
    "8. Implement a program that reads a CSV file and generates a bar chart to represent the data using Matplotlib."
   ]
  },
  {
   "cell_type": "code",
   "execution_count": 12,
   "metadata": {},
   "outputs": [
    {
     "data": {
      "image/png": "[encoded data removed]",
      "text/plain": [
       "<Figure size 640x480 with 1 Axes>"
      ]
     },
     "metadata": {},
     "output_type": "display_data"
    }
   ],
   "source": [
    "import matplotlib.pyplot as plt\n",
    "import csv\n",
    "data = {\n",
    "        \"name\": [],\n",
    "        \"score\": []\n",
    "        }\n",
    "with open(\"data/day_8/students.csv\") as file:\n",
    "    reader = csv.reader(file)\n",
    "    for row in reader:\n",
    "        data[\"name\"].append(row[0])\n",
    "        data[\"score\"].append(int(row[1]))\n",
    "plt.bar(x = data[\"name\"], height= data[\"score\"])\n",
    "plt.xlabel(\"Student name\")\n",
    "plt.ylabel(\"Score\")\n",
    "plt.title(\"Distribution of Students' Score\");"
   ]
  },
  {
   "cell_type": "markdown",
   "metadata": {},
   "source": [
    "9. Write a function that reads JSON file and extracts specific information from it."
   ]
  },
  {
   "cell_type": "code",
   "execution_count": 13,
   "metadata": {},
   "outputs": [
    {
     "name": "stdout",
     "output_type": "stream",
     "text": [
      "Name: John Doe\n",
      "Age: 30\n",
      "Email: johndoe@example.com\n"
     ]
    }
   ],
   "source": [
    "import json\n",
    "def read_data(info):\n",
    "    with open(\"data/day_8/demo.json\") as f:\n",
    "        data = json.load(f)\n",
    "        if info in data.keys():\n",
    "            return data[info]\n",
    "        else:\n",
    "            return f\"{info} is not in the data.\"\n",
    "\n",
    "print(f\"Name: {read_data(\"name\")}\")\n",
    "print(f\"Age: {read_data(\"age\")}\")\n",
    "print(f\"Email: {read_data(\"email\")}\")"
   ]
  },
  {
   "cell_type": "markdown",
   "metadata": {},
   "source": [
    "10. Given a CSV file with temperature data for each day of the week, find the average temperature for each day."
   ]
  },
  {
   "cell_type": "code",
   "execution_count": 14,
   "metadata": {},
   "outputs": [
    {
     "name": "stdout",
     "output_type": "stream",
     "text": [
      "{'day': ['Monday', 'Tuesday', 'Wednesday', 'Thursday', 'Friday', 'Saturday', 'Sunday'], 'avg': [20.857142857142858, 21.0, 19.0, 22.0, 22.0, 20.0, 24.0]}\n"
     ]
    },
    {
     "data": {
      "image/png": "[encoded data removed]",
      "text/plain": [
       "<Figure size 640x480 with 1 Axes>"
      ]
     },
     "metadata": {},
     "output_type": "display_data"
    }
   ],
   "source": [
    "import csv\n",
    "import matplotlib.pyplot as plt\n",
    "data = {\"day\": [], \"avg\": []}\n",
    "with open(\"data/day_8/temps.csv\") as f:\n",
    "    reader = csv.reader(f)\n",
    "    for row in reader:\n",
    "        data[\"day\"].append(row[0])\n",
    "        temps = [float(x) for x in row[1:]]\n",
    "        data[\"avg\"].append(sum(temps) / len(temps))\n",
    "print(data)\n",
    "plt.bar(x = data[\"day\"], height= data[\"avg\"]);"
   ]
  }
 ],
 "metadata": {
  "kernelspec": {
   "display_name": "ds_env",
   "language": "python",
   "name": "python3"
  },
  "language_info": {
   "codemirror_mode": {
    "name": "ipython",
    "version": 3
   },
   "file_extension": ".py",
   "mimetype": "text/x-python",
   "name": "python",
   "nbconvert_exporter": "python",
   "pygments_lexer": "ipython3",
   "version": "3.12.3"
  }
 },
 "nbformat": 4,
 "nbformat_minor": 2
}
